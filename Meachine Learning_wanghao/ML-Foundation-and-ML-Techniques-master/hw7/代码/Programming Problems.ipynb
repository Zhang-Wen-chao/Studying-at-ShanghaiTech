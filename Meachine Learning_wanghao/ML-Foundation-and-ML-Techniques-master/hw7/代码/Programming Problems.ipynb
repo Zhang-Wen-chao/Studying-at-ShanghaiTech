{
 "cells": [
  {
   "cell_type": "code",
   "execution_count": 3,
   "metadata": {
    "scrolled": true
   },
   "outputs": [
    {
     "data": {
      "image/png": "[encoded data removed]",
      "text/plain": [
       "<Figure size 432x288 with 1 Axes>"
      ]
     },
     "metadata": {
      "needs_background": "light"
     },
     "output_type": "display_data"
    }
   ],
   "source": [
    "import numpy as np\n",
    "import matplotlib.pyplot as plt\n",
    "\n",
    "#读取数据并作图\n",
    "train = np.genfromtxt('hw7_train.dat')\n",
    "X_train, y_train = train[:, :-1], train[:, -1]\n",
    "test = np.genfromtxt('hw7_test.dat')\n",
    "X_test, y_test = test[:, :-1], test[:, -1]\n",
    "\n",
    "#作图\n",
    "plt.scatter(train[:, 0][train[:, 2] == -1], train[:, 1][train[:, 2] == -1])\n",
    "plt.scatter(train[:, 0][train[:, 2] == 1], train[:, 1][train[:, 2] == 1])\n",
    "plt.show()"
   ]
  },
  {
   "cell_type": "code",
   "execution_count": 31,
   "metadata": {},
   "outputs": [],
   "source": [
    "#Gini index\n",
    "def Gini(y):\n",
    "    '''\n",
    "    二分类gini系数\n",
    "    '''\n",
    "    if(len(y) == 0):\n",
    "        return 1\n",
    "    t = np.mean(y == -1)\n",
    "    return 1 - t**2 - (1 - t)**2\n",
    "\n",
    "#定义impurty\n",
    "def lossfunc(theta, X, y):\n",
    "    '''\n",
    "    d为数据的维度，theta为decision stump的阈值\n",
    "    '''\n",
    "    y1 = y[X < theta]\n",
    "    y2 = y[X >= theta]\n",
    "    Gini1 = Gini(y1)\n",
    "    Gini2 = Gini(y2)\n",
    "    return len(y1) * Gini1 + len(y2) * Gini2\n",
    "\n",
    "def Generate_theta(X):\n",
    "    \"\"\"\n",
    "    生成阈值\n",
    "    \"\"\"\n",
    "    X = np.sort(X)\n",
    "    theta = (X[1:] + X[:-1]) / 2\n",
    "    theta = np.r_[[X[0] - 1], theta]\n",
    "    theta = np.r_[theta, [X[-1] + 1]]\n",
    "    \n",
    "    return theta\n",
    "\n",
    "#在d个维度上分别利用decision stump计算，找到损失函数的最小值，返回维度以及阈值\n",
    "def Decision_stump(X, y):\n",
    "    \"\"\"\n",
    "    对d个维度使用Decision_stump\n",
    "    \"\"\"\n",
    "    #获得数据维度\n",
    "    n, d = X.shape\n",
    "    #最终结果\n",
    "    Theta = 0\n",
    "    D = 0\n",
    "    Score = n\n",
    "    for i in range(d):\n",
    "        #取第d维的数据\n",
    "        x = X[:, i]\n",
    "        #计算阈值\n",
    "        theta = Generate_theta(x)\n",
    "        #遍历\n",
    "        for theta_ in theta:\n",
    "            #计算损失函数\n",
    "            score = lossfunc(theta_, x, y)\n",
    "            if score < Score:\n",
    "                Score = score\n",
    "                Theta = theta_\n",
    "                D = i\n",
    "    \n",
    "    return D, Theta, Score\n",
    "\n",
    "def isstop(X, y):\n",
    "    '''\n",
    "    判断是否停止，有两种情形，X全相同，另一种是所有数据都为一类\n",
    "    '''\n",
    "    n = X.shape[0]\n",
    "    #n1 = np.sum(y==-1)\n",
    "    n1 = np.sum(y!=y[0])\n",
    "    n2 = np.sum(X!=X[0, :])\n",
    "    return n1 == 0 or n2 == 0\n",
    "\n",
    "#构造树类\n",
    "class DTree:\n",
    "    def __init__(self, theta, d, value=None):\n",
    "        #阈值\n",
    "        self.theta = theta\n",
    "        #维度\n",
    "        self.d = d\n",
    "        #当前节点对应的值\n",
    "        self.value = value\n",
    "        #左右节点\n",
    "        self.left = None\n",
    "        self.right = None\n",
    "\n",
    "NUM = 0\n",
    "#构造学习函数\n",
    "def learntree(X, y):\n",
    "    global NUM\n",
    "    NUM += 1\n",
    "    if isstop(X, y):\n",
    "        #print(X.shape, y)\n",
    "        return DTree(None, None, y[0])\n",
    "    else:\n",
    "        d, theta, score = Decision_stump(X, y)\n",
    "        #print(d, theta, score)\n",
    "        tree = DTree(theta, d)\n",
    "        #划分数据\n",
    "        i1 = X[:, d] < theta\n",
    "        X1 = X[i1]\n",
    "        #print(\"X1\", X1.shape)\n",
    "        y1 = y[i1]\n",
    "        i2 = X[:, d] >= theta\n",
    "        X2 = X[i2]\n",
    "        y2 = y[i2]\n",
    "        #学习左树\n",
    "        leftTree = learntree(X1, y1)\n",
    "        #学习右树\n",
    "        rightTree = learntree(X2, y2)\n",
    "        #返回\n",
    "        tree.left = leftTree\n",
    "        tree.right = rightTree\n",
    "        \n",
    "        return tree\n",
    "    \n",
    "#预测函数\n",
    "def pred(tree, x):\n",
    "    #if tree.left == None and tree.right == None:\n",
    "    if tree.value != None:\n",
    "        return tree.value\n",
    "    if x[tree.d] < tree.theta:\n",
    "        return pred(tree.left, x)\n",
    "    else:\n",
    "        return pred(tree.right, x)\n",
    "    \n",
    "\n",
    "#计算误差\n",
    "def error(tree, X, y):\n",
    "    ypred = [pred(tree, x) for x in X]\n",
    "    return np.mean(ypred!=y)\n",
    "\n",
    "dtree = learntree(X_train, y_train)"
   ]
  },
  {
   "cell_type": "code",
   "execution_count": 32,
   "metadata": {},
   "outputs": [
    {
     "name": "stdout",
     "output_type": "stream",
     "text": [
      "0.0\n"
     ]
    }
   ],
   "source": [
    "#14\n",
    "print(error(dtree, X_train, y_train))"
   ]
  },
  {
   "cell_type": "code",
   "execution_count": 33,
   "metadata": {},
   "outputs": [
    {
     "name": "stdout",
     "output_type": "stream",
     "text": [
      "0.126\n"
     ]
    }
   ],
   "source": [
    "#15\n",
    "print(error(dtree, X_test, y_test))"
   ]
  },
  {
   "cell_type": "code",
   "execution_count": 35,
   "metadata": {},
   "outputs": [
    {
     "data": {
      "image/png": "[encoded data removed]",
      "text/plain": [
       "<Figure size 432x288 with 1 Axes>"
      ]
     },
     "metadata": {
      "needs_background": "light"
     },
     "output_type": "display_data"
    }
   ],
   "source": [
    "#16\n",
    "N = 300\n",
    "Ein = np.array([])\n",
    "tree = []\n",
    "m, n = train.shape\n",
    "for i in range(N):\n",
    "    index = np.random.randint(0, m, (m))\n",
    "    X1 = X_train[index, :]\n",
    "    y1 = y_train[index]\n",
    "    dtree = learntree(X1, y1)\n",
    "    tree.append(dtree)\n",
    "    Ein = np.append(Ein, error(dtree, X_train, y_train))\n",
    "    \n",
    "plt.hist(Ein)\n",
    "plt.show()"
   ]
  },
  {
   "cell_type": "code",
   "execution_count": 37,
   "metadata": {
    "scrolled": true
   },
   "outputs": [
    {
     "name": "stdout",
     "output_type": "stream",
     "text": [
      "Ein = 0.05319999999999999\n"
     ]
    }
   ],
   "source": [
    "print(\"Ein = {}\".format(np.mean(Ein)))"
   ]
  },
  {
   "cell_type": "code",
   "execution_count": 38,
   "metadata": {},
   "outputs": [
    {
     "data": {
      "image/png": "[encoded data removed]",
      "text/plain": [
       "<Figure size 432x288 with 1 Axes>"
      ]
     },
     "metadata": {
      "needs_background": "light"
     },
     "output_type": "display_data"
    }
   ],
   "source": [
    "#17\n",
    "def random_forest_error(tree, X, y):\n",
    "    \"\"\"\n",
    "    利用前k个树计算结果\n",
    "    \"\"\"\n",
    "    Error = np.array([])\n",
    "    N = len(tree)\n",
    "    for i in range(N):\n",
    "        E = []\n",
    "        for j in range(1+i):\n",
    "            E.append([pred(tree[j], x) for x in X])\n",
    "        E = np.array(E)\n",
    "        #0视为1\n",
    "        ypred = np.sign(E.sum(axis=0) + 0.5)\n",
    "        error = np.mean(ypred!=y)\n",
    "        Error = np.append(Error, error)\n",
    "    return Error\n",
    "\n",
    "Ein_G = random_forest_error(tree, X_train, y_train)\n",
    "\n",
    "plt.plot(np.arange(1, N+1), Ein_G)\n",
    "plt.show()"
   ]
  },
  {
   "cell_type": "code",
   "execution_count": 40,
   "metadata": {},
   "outputs": [
    {
     "name": "stdout",
     "output_type": "stream",
     "text": [
      "Ein = 0.002\n"
     ]
    }
   ],
   "source": [
    "print(\"Ein = {}\".format(np.mean(Ein_G)))"
   ]
  },
  {
   "cell_type": "code",
   "execution_count": 41,
   "metadata": {},
   "outputs": [
    {
     "data": {
      "image/png": "[encoded data removed]",
      "text/plain": [
       "<Figure size 432x288 with 1 Axes>"
      ]
     },
     "metadata": {
      "needs_background": "light"
     },
     "output_type": "display_data"
    }
   ],
   "source": [
    "#18\n",
    "Eout_G = random_forest_error(tree, X_test, y_test)\n",
    "\n",
    "plt.plot(np.arange(1, N+1), Eout_G)\n",
    "plt.show()"
   ]
  },
  {
   "cell_type": "code",
   "execution_count": 42,
   "metadata": {},
   "outputs": [
    {
     "name": "stdout",
     "output_type": "stream",
     "text": [
      "Eout = 0.07453666666666665\n"
     ]
    }
   ],
   "source": [
    "print(\"Eout = {}\".format(np.mean(Eout_G)))"
   ]
  },
  {
   "cell_type": "code",
   "execution_count": 45,
   "metadata": {},
   "outputs": [
    {
     "data": {
      "image/png": "[encoded data removed]",
      "text/plain": [
       "<Figure size 432x288 with 1 Axes>"
      ]
     },
     "metadata": {
      "needs_background": "light"
     },
     "output_type": "display_data"
    }
   ],
   "source": [
    "#19\n",
    "def learntree_new(X, y):\n",
    "    d, theta, score = Decision_stump(X, y)\n",
    "    tree = DTree(theta, d)\n",
    "    #划分数据\n",
    "    i1 = X[:, d] < theta\n",
    "    X1 = X[i1]\n",
    "    y1 = y[i1]\n",
    "    i2 = X[:, d] >= theta\n",
    "    X2 = X[i2]\n",
    "    y2 = y[i2]\n",
    "    #学习左树\n",
    "    leftTree = learntree(X1, y1)\n",
    "    #学习右树\n",
    "    rightTree = learntree(X2, y2)\n",
    "    \n",
    "    #左树\n",
    "    k1 = np.sign(np.sum(y1) + 0.5)#+0.5是为了防止出现0\n",
    "    leftTree = DTree(None, None, k1)\n",
    "    #右树\n",
    "    k2 = np.sign(np.sum(y2) + 0.5)\n",
    "    rightTree = DTree(None, None, k2)\n",
    "    #返回\n",
    "    tree.left = leftTree\n",
    "    tree.right = rightTree\n",
    "    return tree\n",
    "\n",
    "N = 500\n",
    "newtree = []\n",
    "m, n = train.shape\n",
    "for i in range(N):\n",
    "    index = np.random.randint(0, m, (m))\n",
    "    X1 = X_train[index, :]\n",
    "    y1 = y_train[index]\n",
    "    dtree = learntree_new(X1, y1)\n",
    "    newtree.append(dtree)\n",
    "    \n",
    "newEin_G = random_forest_error(newtree, X_train, y_train)\n",
    "\n",
    "plt.plot(np.arange(1, N+1), newEin_G)\n",
    "plt.show()"
   ]
  },
  {
   "cell_type": "code",
   "execution_count": 46,
   "metadata": {
    "scrolled": true
   },
   "outputs": [
    {
     "name": "stdout",
     "output_type": "stream",
     "text": [
      "Ein = 0.11872000000000002\n"
     ]
    }
   ],
   "source": [
    "print(\"Ein = {}\".format(np.mean(newEin_G)))"
   ]
  },
  {
   "cell_type": "code",
   "execution_count": 51,
   "metadata": {},
   "outputs": [
    {
     "data": {
      "image/png": "[encoded data removed]",
      "text/plain": [
       "<Figure size 432x288 with 1 Axes>"
      ]
     },
     "metadata": {
      "needs_background": "light"
     },
     "output_type": "display_data"
    }
   ],
   "source": [
    "#20\n",
    "newEout_G = random_forest_error(newtree, X_test, y_test)\n",
    "\n",
    "plt.plot(np.arange(1, N+1), newEout_G)\n",
    "plt.show()"
   ]
  },
  {
   "cell_type": "code",
   "execution_count": 52,
   "metadata": {},
   "outputs": [
    {
     "name": "stdout",
     "output_type": "stream",
     "text": [
      "Eout = 0.15301599999999999\n"
     ]
    }
   ],
   "source": [
    "print(\"Eout = {}\".format(np.mean(newEout_G)))"
   ]
  }
 ],
 "metadata": {
  "kernelspec": {
   "display_name": "Python 3",
   "language": "python",
   "name": "python3"
  },
  "language_info": {
   "codemirror_mode": {
    "name": "ipython",
    "version": 3
   },
   "file_extension": ".py",
   "mimetype": "text/x-python",
   "name": "python",
   "nbconvert_exporter": "python",
   "pygments_lexer": "ipython3",
   "version": "3.7.1"
  }
 },
 "nbformat": 4,
 "nbformat_minor": 2
}
