{
 "cells": [
  {
   "cell_type": "markdown",
   "metadata": {},
   "source": [
    "今年2月的时候开始学习台大林轩田老师的机器学习课程，感觉很好，这里记录一下作业详解，一来加深自己的理解，而来也可以给需要的小伙伴参考下,话不多说，进入正题。(其实这部分的资料和我之前整理的Learning from data差不多，更全面的部分可以参考Learning from data的习题整理。）\n",
    "\n",
    "我的github地址：  \n",
    "https://github.com/Doraemonzzz\n",
    "\n",
    "个人主页：  \n",
    "http://doraemonzzz.com/\n",
    "\n",
    "作业地址:  \n",
    "https://www.csie.ntu.edu.tw/~htlin/course/ml15fall/\n",
    "\n",
    "参考资料:  \n",
    "https://blog.csdn.net/a1015553840/article/details/51085129  \n",
    "http://www.vynguyen.net/category/study/machine-learning/page/6/  \n",
    "http://book.caltech.edu/bookforum/index.php  \n",
    "http://beader.me/mlnotebook/\n",
    "\n"
   ]
  },
  {
   "cell_type": "markdown",
   "metadata": {},
   "source": [
    "#### Problem 1\n",
    "(ii) Detecting potential fraud in credit card charges  \n",
    "(iv) Determining the optimal cycle for traffic lights in a busy intersection  \n",
    "(v) Determining the age at which a particular medical test is recommended\n",
    "\n",
    "质数和自由落体问题可以直接得出结果，所以使用design approach"
   ]
  },
  {
   "cell_type": "markdown",
   "metadata": {},
   "source": [
    "#### Problem 2\n",
    "这题在Learning from data上也有，当时是选择所有满足的学习种类，这里选择最适合的，应该选择reinforcement learning，因为训练下棋的过程每一步都会给以回馈，下的好给正回馈，下的不好给负回馈，类似训练小狗。"
   ]
  },
  {
   "cell_type": "markdown",
   "metadata": {},
   "source": [
    "#### Problem 3\n",
    "对没有标签的书分类，unsupervised learning。"
   ]
  },
  {
   "cell_type": "markdown",
   "metadata": {},
   "source": [
    "#### Problem 4\n",
    "有脸的图片和没脸的图片都标记出来，supervised learning。"
   ]
  },
  {
   "cell_type": "markdown",
   "metadata": {},
   "source": [
    "#### Problem 5\n",
    "这题我认为是active learning，因为人为设计了实验，更具体的有关active learning，可以参考\n",
    "https://www.cnblogs.com/maybe2030/p/5515042.html"
   ]
  },
  {
   "cell_type": "markdown",
   "metadata": {},
   "source": [
    "#### Problem 6\n",
    "由题设知$E_{OTS} (g, f)=\\frac 1 L\\sum_{m=1}^L[\\![(N+m)被2整除]\\!]$  \n",
    "我们知道$1$到$N$中被2整除的正整数有$[\\frac N 2]$个，$[]$为高斯函数，意思为向下取整\n",
    "因此\n",
    "$$\n",
    "E_{OTS} (g, f)=\\frac1 L[(1到N+L中被2整除的数的个数)-(1到N中被2整除的数的个数)]\n",
    "=\\frac1 L([\\frac {N+L}2]-[\\frac {N}2])\n",
    "$$"
   ]
  },
  {
   "cell_type": "markdown",
   "metadata": {},
   "source": [
    "#### Problem 7\n",
    "这题的意思是在训练集$D$上没有误差，在$\\{x_{N+1} , . . . , x_{N+L}\\}$上的取值就任意了，每个点有两种取值，所以一共有$2^L$种可以拟合的$f$"
   ]
  },
  {
   "cell_type": "markdown",
   "metadata": {},
   "source": [
    "#### Problem 8\n",
    "题目的假设意思应该是每个在训练集无噪声的$f$出现的概率是一样的，所以这些$f$在测试集上每个点出现错误的概率应该是一样的，$E_{OTS}(g,f)=\\frac k L$相当于在$L$个点中挑$k$个，因此\n",
    "$$\n",
    "P(E_{OTS}(g,f)=\\frac k L)=\\frac {C_L^k} {2^L}\n",
    "$$\n",
    "$$\n",
    "\\begin{aligned}\n",
    "E_f[E_{OTS} (g, f)]&=\\sum_{k=0}^L\\frac k L \\frac {C_L^k}{2^L}\n",
    "\\\\&=\\frac {\\sum_{k=0}^LkC_L^k}{L2^L}\n",
    "\\\\&=\\frac {\\sum_{k=1}^L LC_{L-1}^{k-1}}{L2^L}\n",
    "\\\\&=\\frac {2^{L-1}}{2^L}\n",
    "\\\\&=\\frac 1 2\n",
    "\\end{aligned}\n",
    "$$\n",
    "注意这里用到了$kC_n^k=nC_{n-1}^{k-1}$\n",
    "\n",
    "所以\n",
    "$$\n",
    "E_f[E_{OTS} (A_1(D), f)]=E_f[E_{OTS} (A_2(D), f)]\n",
    "$$"
   ]
  },
  {
   "cell_type": "markdown",
   "metadata": {},
   "source": [
    "#### Problem 9\n",
    "$P=C_{10}^5(\\frac 1 2)^{10}\\approx0.24609375$"
   ]
  },
  {
   "cell_type": "code",
   "execution_count": 1,
   "metadata": {},
   "outputs": [
    {
     "name": "stdout",
     "output_type": "stream",
     "text": [
      "0.24609375\n"
     ]
    }
   ],
   "source": [
    "from scipy.special import comb\n",
    "print(comb(10,5)/2**10)"
   ]
  },
  {
   "cell_type": "markdown",
   "metadata": {},
   "source": [
    "#### Problem 10\n",
    "$P=C_{10}^9{(\\frac 9{10})^{9}\\frac 1 {10} }\\approx0.387420489 $"
   ]
  },
  {
   "cell_type": "code",
   "execution_count": 2,
   "metadata": {},
   "outputs": [
    {
     "name": "stdout",
     "output_type": "stream",
     "text": [
      "0.387420489\n"
     ]
    }
   ],
   "source": [
    "print(comb(10,9)*((0.9)**9)*0.1)"
   ]
  },
  {
   "cell_type": "markdown",
   "metadata": {},
   "source": [
    "#### Problem 11\n",
    "$P=C_{10}^1{(\\frac 9{10})^{1}{(\\frac 1 {10})}^{9} }+C_{10}^0{{(\\frac 1 {10})}^{10} }\\approx 9\\times 10^{-9}$"
   ]
  },
  {
   "cell_type": "code",
   "execution_count": 3,
   "metadata": {},
   "outputs": [
    {
     "name": "stdout",
     "output_type": "stream",
     "text": [
      "9.1e-09\n"
     ]
    }
   ],
   "source": [
    "print(comb(10,1)*((0.9)**1)*(0.1**9)+comb(10,0)*(0.1**10))"
   ]
  },
  {
   "cell_type": "markdown",
   "metadata": {},
   "source": [
    "#### Problem 12\n",
    "回顾下$Hoeffding$不等式:\n",
    "$$\n",
    "P[| \\mu-v|>\\epsilon]\\le 2e^{-2\\epsilon ^2N}\n",
    "$$\n",
    "因此\n",
    "$$\n",
    "P[v\\le 0.1]=P[0.9-v\\ge 0.8]=P[\\mu-v\\ge 0.8]\\le P[|\\mu-v|\\ge 0.8]\\le 2e^{-2\\times 0.8^2\\times 10}\\approx5.5215451440744015\\times 10^{-6}\n",
    "$$"
   ]
  },
  {
   "cell_type": "markdown",
   "metadata": {},
   "source": [
    "#### Problem 13\n",
    "这题以及下面一题一定要注意这两句话：They are just used to bind the six faces together. The probability below only refers to drawing from the bag.\n",
    "\n",
    "所以考虑的时候只要看骰子属于哪个包即可。\n",
    "全是orange 1，所以骰子属于B或者C，因此$P=(\\frac 1 2)^5=\\frac 1 {32}$"
   ]
  },
  {
   "cell_type": "markdown",
   "metadata": {},
   "source": [
    "#### Problem 14\n",
    "这题要计算某个数字全为orange的概率，取出为全orange 1的情况为从B,C中取出,取出为全orange 2的情况为从A,C中取出，取出为全orange 3的情况为从B,C中取出，取出为全orange 4的情况为从A,D中取出，取出为全orange 5的情况为从B,D中取出，取出为全orange 6的情况为从A,D中取出。所以一共有4中情形(A,C),(B,C),(A,D),(B,D),注意全A,B,C,D的情形都被算了两次，所以一共有$4\\times2^5-4=92$种情形，概率为$P=\\frac {92}{4^5}=\\frac {31}{256}$"
   ]
  },
  {
   "cell_type": "markdown",
   "metadata": {},
   "source": [
    "#### Problem 15\n",
    "这题是使用最标准的PLA，下面编程实现下"
   ]
  },
  {
   "cell_type": "code",
   "execution_count": 88,
   "metadata": {},
   "outputs": [
    {
     "data": {
      "text/plain": [
       "(45, 135, array([-3.       ,  3.0841436, -1.583081 ,  2.391305 ,  4.5287635]))"
      ]
     },
     "execution_count": 88,
     "metadata": {},
     "output_type": "execute_result"
    }
   ],
   "source": [
    "import numpy as np\n",
    "\n",
    "file=open('data.txt')\n",
    "data=[]\n",
    "\n",
    "#增加w0\n",
    "for i in file.readlines():\n",
    "    #增加w0\n",
    "    temp1='1 '+i.replace('\\t',' ').replace('\\n','')\n",
    "    #分隔数据\n",
    "    temp2=temp1.split(' ')\n",
    "    #转化为float\n",
    "    temp3=np.array(list(map(float,temp2)))\n",
    "    #转化为np.array存入数据\n",
    "    data.append(temp3)\n",
    "\n",
    "#维度\n",
    "n=len(data[0])-1\n",
    "#数据组数\n",
    "m=len(data)\n",
    "\n",
    "#定义sign函数\n",
    "def sign(x):\n",
    "    if x>0:\n",
    "        return 1\n",
    "    else:\n",
    "        return -1\n",
    "\n",
    "#定义判别函数，判断所有数据是否分类完成,n为数据维度\n",
    "def Judge(x,w,n):\n",
    "    flag=1\n",
    "    for i in x:\n",
    "        if sign(i[:n].dot(w))*i[-1]<0:\n",
    "            flag=0\n",
    "            break\n",
    "    return flag\n",
    "\n",
    "#定义PLA,n为数据维度,m为数据数量,k为步长\n",
    "def PLA(x,k,n,m):\n",
    "    #初始化向量\n",
    "    w=np.zeros(n)\n",
    "    #记录最后一个更新的向量\n",
    "    last=0\n",
    "    #记录次数\n",
    "    t=0\n",
    "    if Judge(x,w,n):\n",
    "        pass\n",
    "    else:\n",
    "        #记录取哪个元素\n",
    "        j=0\n",
    "        while Judge(x,w,n)==0:\n",
    "            i=x[j]\n",
    "            #print(i[:n],i[-1])\n",
    "            if sign(i[:n].dot(w))*i[-1]<0:\n",
    "                w+=k*i[-1]*i[:n]\n",
    "                t+=1\n",
    "                last=j\n",
    "            j+=1\n",
    "            if(j>=m):\n",
    "                j=j%m\n",
    "    return t,last,w\n",
    "PLA(data,1,n,m)"
   ]
  },
  {
   "cell_type": "markdown",
   "metadata": {},
   "source": [
    "所以这题答案为更新了45次，最后一个更新的元素索引为136(python中从0开始数)"
   ]
  },
  {
   "cell_type": "markdown",
   "metadata": {},
   "source": [
    "#### Problem 15"
   ]
  },
  {
   "cell_type": "markdown",
   "metadata": {},
   "source": [
    "打乱之后运行2000次，作出直方图"
   ]
  },
  {
   "cell_type": "code",
   "execution_count": 92,
   "metadata": {
    "collapsed": true
   },
   "outputs": [],
   "source": [
    "import random\n",
    "import matplotlib.pyplot as plt\n",
    "plt.rcParams['font.sans-serif']=['SimHei'] #用来正常显示中文标签\n",
    "plt.rcParams['axes.unicode_minus']=False #用来正常显示负号\n",
    "\n",
    "x=[]\n",
    "for i in range(2000):\n",
    "    random.shuffle(data)\n",
    "    x.append(PLA(data,1,n,m)[0])"
   ]
  },
  {
   "cell_type": "code",
   "execution_count": 96,
   "metadata": {},
   "outputs": [
    {
     "data": {
      "image/png": "[encoded data removed]",
      "text/plain": [
       "<matplotlib.figure.Figure at 0x1ff7ea39358>"
      ]
     },
     "metadata": {},
     "output_type": "display_data"
    }
   ],
   "source": [
    "plt.hist(x,normed=True)\n",
    "plt.xlabel(\"迭代次数\")\n",
    "plt.title(\"平均运行次数为\"+str(sum(x)/2000))\n",
    "plt.show()"
   ]
  },
  {
   "cell_type": "markdown",
   "metadata": {},
   "source": [
    "#### Problem 16\n",
    "这里修改系数$\\eta=0.5$,打乱之后运行2000次，作出直方图"
   ]
  },
  {
   "cell_type": "code",
   "execution_count": 93,
   "metadata": {
    "collapsed": true
   },
   "outputs": [],
   "source": [
    "x1=[]\n",
    "for i in range(2000):\n",
    "    random.shuffle(data)\n",
    "    x1.append(PLA(data,0.5,n,m)[0])"
   ]
  },
  {
   "cell_type": "code",
   "execution_count": 97,
   "metadata": {},
   "outputs": [
    {
     "data": {
      "image/png": "[encoded data removed]",
      "text/plain": [
       "<matplotlib.figure.Figure at 0x1ff7eb6f5f8>"
      ]
     },
     "metadata": {},
     "output_type": "display_data"
    }
   ],
   "source": [
    "plt.hist(x1,normed=True)\n",
    "plt.xlabel(\"迭代次数\")\n",
    "plt.title(\"平均运行次数为\"+str(sum(x)/2000))\n",
    "plt.show()"
   ]
  },
  {
   "cell_type": "markdown",
   "metadata": {},
   "source": [
    "#### Problem 17\n",
    "Pocket PLA的问题，最多更新50次，打乱数据，运行2000遍，计算错误率"
   ]
  },
  {
   "cell_type": "code",
   "execution_count": 2,
   "metadata": {
    "collapsed": true
   },
   "outputs": [],
   "source": [
    "import random\n",
    "import matplotlib.pyplot as plt\n",
    "import numpy as np\n",
    "plt.rcParams['font.sans-serif']=['SimHei'] #用来正常显示中文标签\n",
    "plt.rcParams['axes.unicode_minus']=False #用来正常显示负号\n",
    "\n",
    "#数据读取\n",
    "filetrain=open('hw1_18_train.txt')\n",
    "filetest=open('hw1_18_test.txt')\n",
    "\n",
    "trian=[]\n",
    "\n",
    "#数据处理\n",
    "def processdata(file):\n",
    "    data=[]\n",
    "    for i in file.readlines():\n",
    "        #增加w0\n",
    "        temp1='1 '+i.replace('\\t',' ').replace('\\n','')\n",
    "        #分隔数据\n",
    "        temp2=temp1.split(' ')\n",
    "        #转化为float\n",
    "        temp3=np.array(list(map(float,temp2)))\n",
    "        #转化为np.array存入数据\n",
    "        data.append(temp3)\n",
    "    return data\n",
    "    \n",
    "train=processdata(filetrain)\n",
    "test=processdata(filetest)\n",
    "\n",
    "#维度\n",
    "n=len(train[0])-1\n",
    "#训练数据组数\n",
    "m=len(train)\n",
    "#测试数据组数\n",
    "m1=len(test)\n",
    "\n",
    "#定义sign函数\n",
    "def sign(x):\n",
    "    if x>0:\n",
    "        return 1\n",
    "    else:\n",
    "        return -1\n",
    "\n",
    "#定义计算错误个数的函数,n为数据维度\n",
    "def CountError(x,w,n):\n",
    "    count=0\n",
    "    for i in x:\n",
    "        if sign(i[:n].dot(w))*i[-1]<0:\n",
    "            count+=1\n",
    "    return count\n",
    "\n",
    "\n",
    "#定义PocketPLA,n为数据维度,m为数据数量,k为步长,max为最大更新次数\n",
    "def PocketPLA(x,k,n,m,maxnum):\n",
    "    #初始化向量\n",
    "    w=np.zeros(n)\n",
    "    #错误率最小的向量\n",
    "    w0=np.zeros(n)\n",
    "    #记录次数\n",
    "    t=0\n",
    "    error=CountError(x,w,n)\n",
    "    if error==0:\n",
    "        pass\n",
    "    else:\n",
    "        #记录取哪个元素\n",
    "        j=0\n",
    "        while (t<maxnum or error==0):\n",
    "            i=x[j]\n",
    "            #print(error)\n",
    "            if sign(i[:n].dot(w))*i[-1]<0:\n",
    "                w+=k*i[-1]*i[:n]\n",
    "                t+=1\n",
    "            error1=CountError(x,w,n)\n",
    "            if error>error1:\n",
    "                w0=w[:]\n",
    "                error=error1\n",
    "            j+=1\n",
    "            if(j>=m):\n",
    "                j=j%m\n",
    "    return w0,error"
   ]
  },
  {
   "cell_type": "code",
   "execution_count": 3,
   "metadata": {
    "collapsed": true
   },
   "outputs": [],
   "source": [
    "import random\n",
    "\n",
    "x=[]\n",
    "\n",
    "for i in range(2000):\n",
    "    random.shuffle(train)\n",
    "    error=PocketPLA(train,1,n,m,50)[1]\n",
    "    x.append(error/m1)"
   ]
  },
  {
   "cell_type": "code",
   "execution_count": 4,
   "metadata": {},
   "outputs": [
    {
     "data": {
      "image/png": "[encoded data removed]",
      "text/plain": [
       "<matplotlib.figure.Figure at 0x20003881978>"
      ]
     },
     "metadata": {},
     "output_type": "display_data"
    }
   ],
   "source": [
    "plt.hist(x,20,normed=True)\n",
    "plt.xlabel(\"错误率\")\n",
    "plt.title(\"平均错误率为\"+str(sum(x)/2000))\n",
    "plt.show()"
   ]
  },
  {
   "cell_type": "markdown",
   "metadata": {},
   "source": [
    "#### Problem 19\n",
    "这题只使用普通的的PLA"
   ]
  },
  {
   "cell_type": "code",
   "execution_count": 155,
   "metadata": {
    "collapsed": true
   },
   "outputs": [],
   "source": [
    "#定义PLA,n为数据维度,m为数据数量,k为步长,max为最大更新次数\n",
    "def PLA(x,k,n,m,maxnum):\n",
    "    #初始化向量\n",
    "    w=np.zeros(n)\n",
    "    #记录次数\n",
    "    t=0\n",
    "    error=CountError(x,w,n)\n",
    "    if error==0:\n",
    "        pass\n",
    "    else:\n",
    "        #记录取哪个元素\n",
    "        j=0\n",
    "        while (t<maxnum or error==0):\n",
    "            i=x[j]\n",
    "            if sign(i[:n].dot(w))*i[-1]<0:\n",
    "                w+=k*i[-1]*i[:n]\n",
    "                t+=1\n",
    "            j+=1\n",
    "            if(j>=m):\n",
    "                j=j%m\n",
    "    return w,CountError(x,w,n)"
   ]
  },
  {
   "cell_type": "code",
   "execution_count": 146,
   "metadata": {
    "collapsed": true
   },
   "outputs": [],
   "source": [
    "import random\n",
    "\n",
    "x1=[]\n",
    "\n",
    "for i in range(2000):\n",
    "    random.shuffle(train)\n",
    "    error=PLA(train,1,n,m,50)[1]\n",
    "    x1.append(error/m1)"
   ]
  },
  {
   "cell_type": "code",
   "execution_count": 163,
   "metadata": {},
   "outputs": [
    {
     "data": {
      "image/png": "[encoded data removed]",
      "text/plain": [
       "<matplotlib.figure.Figure at 0x1ff7e9fc828>"
      ]
     },
     "metadata": {},
     "output_type": "display_data"
    }
   ],
   "source": [
    "plt.hist(x1,20,normed=True)\n",
    "plt.xlabel(\"错误率\")\n",
    "plt.title(\"平均错误率为\"+str(sum(x1)/2000))\n",
    "plt.show()"
   ]
  },
  {
   "cell_type": "markdown",
   "metadata": {},
   "source": [
    "#### Problem 20"
   ]
  },
  {
   "cell_type": "code",
   "execution_count": 164,
   "metadata": {
    "collapsed": true
   },
   "outputs": [],
   "source": [
    "import random\n",
    "\n",
    "x2=[]\n",
    "\n",
    "for i in range(2000):\n",
    "    random.shuffle(train)\n",
    "    error=PocketPLA(train,1,n,m,100)[1]\n",
    "    x2.append(error/m1)"
   ]
  },
  {
   "cell_type": "code",
   "execution_count": 166,
   "metadata": {},
   "outputs": [
    {
     "data": {
      "image/png": "[encoded data removed]",
      "text/plain": [
       "<matplotlib.figure.Figure at 0x1ff0004f908>"
      ]
     },
     "metadata": {},
     "output_type": "display_data"
    }
   ],
   "source": [
    "plt.hist(x2,20,normed=True)\n",
    "plt.xlabel(\"错误率\")\n",
    "plt.title(\"平均错误率为\"+str(sum(x2)/2000))\n",
    "plt.show()"
   ]
  },
  {
   "cell_type": "markdown",
   "metadata": {},
   "source": [
    "#### Problem 21\n",
    "回顾下结论，$ R^2 = {max}_{1\\le n\\le N} ||xn ||^2$,$\\rho = {min}_{1\\le n\\le N} \\frac {y_n(w^{*T} x_n )} {||x_n||}$，那么运行时间$t\\le \\frac {R^2} {\\rho^2}$，题目的意思是问如果所有的$||x_n||$缩短20倍，那么$t$是否也会缩短20倍？  \n",
    "答案是否,由更新规则知$w$是$x_n$的线性组合($w_0=0时$)，所以如果所有$||x_n||$缩短20倍，那么$||w||$也会缩短20倍，那么$\\rho$缩短20倍，然后$R$缩短20倍，所以$\\frac {R^2} {\\rho^2}$不变，所以时间上界不会改变。"
   ]
  }
 ],
 "metadata": {
  "kernelspec": {
   "display_name": "Python 3",
   "language": "python",
   "name": "python3"
  },
  "language_info": {
   "codemirror_mode": {
    "name": "ipython",
    "version": 3
   },
   "file_extension": ".py",
   "mimetype": "text/x-python",
   "name": "python",
   "nbconvert_exporter": "python",
   "pygments_lexer": "ipython3",
   "version": "3.7.1"
  }
 },
 "nbformat": 4,
 "nbformat_minor": 2
}
