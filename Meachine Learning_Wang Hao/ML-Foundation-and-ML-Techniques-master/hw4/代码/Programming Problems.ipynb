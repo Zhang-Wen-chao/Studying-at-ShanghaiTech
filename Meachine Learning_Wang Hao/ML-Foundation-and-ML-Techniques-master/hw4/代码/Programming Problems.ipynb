{
 "cells": [
  {
   "cell_type": "markdown",
   "metadata": {},
   "source": [
    "#### Problem 13"
   ]
  },
  {
   "cell_type": "code",
   "execution_count": 2,
   "metadata": {},
   "outputs": [
    {
     "name": "stdout",
     "output_type": "stream",
     "text": [
      "Ein = 0.055\n",
      "Eout = 0.052\n"
     ]
    }
   ],
   "source": [
    "import numpy as np\n",
    "from numpy.linalg import inv\n",
    "import matplotlib.pyplot as plt\n",
    "\n",
    "#### Problem 13\n",
    "#预处理函数\n",
    "def preprocess(data):\n",
    "    \"\"\"\n",
    "    数据预处理\n",
    "    \"\"\"\n",
    "    #获取维度\n",
    "    n, d = data.shape\n",
    "    #分离X\n",
    "    X = data[:, :-1]\n",
    "    #添加偏置项1\n",
    "    X = np.c_[np.ones(n), X]\n",
    "    #分离y\n",
    "    y = data[:, -1]\n",
    "    \n",
    "    return X, y\n",
    "\n",
    "#计算w\n",
    "def w(X, y, Lambda):\n",
    "    \"\"\"\n",
    "    计算岭回归的结果\n",
    "    \"\"\"\n",
    "    d = X.shape[1]\n",
    "    w = inv(X.T.dot(X) + Lambda * np.eye(d)).dot(X.T).dot(y)\n",
    "    return w\n",
    "\n",
    "#计算误差\n",
    "def E(X, y, w):\n",
    "    return np.mean(np.sign(X.dot(w)) != y)\n",
    "\n",
    "#读取数据\n",
    "train = np.genfromtxt('hw4_train.dat')\n",
    "test = np.genfromtxt('hw4_test.dat')\n",
    "X_train, y_train = preprocess(train)\n",
    "X_test, y_test = preprocess(test)\n",
    "#计算\n",
    "w1 = w(X_train, y_train, 11.26)\n",
    "Ein = E(X_train, y_train, w1)\n",
    "Eout = E(X_test, y_test, w1)\n",
    "print(\"Ein = {}\".format(Ein))\n",
    "print(\"Eout = {}\".format(Eout))"
   ]
  },
  {
   "cell_type": "markdown",
   "metadata": {},
   "source": [
    "#### Problem 14"
   ]
  },
  {
   "cell_type": "code",
   "execution_count": 6,
   "metadata": {},
   "outputs": [
    {
     "data": {
      "image/png": "[encoded data removed]",
      "text/plain": [
       "<Figure size 432x288 with 1 Axes>"
      ]
     },
     "metadata": {
      "needs_background": "light"
     },
     "output_type": "display_data"
    },
    {
     "name": "stdout",
     "output_type": "stream",
     "text": [
      "最小Ein对应的Lambda为log10(-8)，对应的Eout为0.02\n"
     ]
    }
   ],
   "source": [
    "#### Problem 14\n",
    "Lambda = range(2, -11, -1)\n",
    "Ein=[]\n",
    "Eout=[]\n",
    "for l in Lambda:\n",
    "    l1 = 10 ** (l)\n",
    "    w1 = w(X_train, y_train, l1)\n",
    "    e_in = E(X_train, y_train, w1)\n",
    "    e_out = E(X_test, y_test, w1)\n",
    "    Ein.append(e_in)\n",
    "    Eout.append(e_out)\n",
    "    \n",
    "plt.plot(Lambda, Ein, label='Ein')\n",
    "plt.xlabel('$\\lambda$')\n",
    "plt.title('Ein')\n",
    "plt.legend()\n",
    "plt.show()\n",
    "\n",
    "Lambda1 = Lambda[np.argmin(Ein)]\n",
    "Eout1 = Eout[np.argmin(Ein)]\n",
    "print(\"最小Ein对应的Lambda为log10({})，对应的Eout为{}\".format(Lambda1, Eout1))"
   ]
  },
  {
   "cell_type": "markdown",
   "metadata": {},
   "source": [
    "#### Problem 15"
   ]
  },
  {
   "cell_type": "code",
   "execution_count": 7,
   "metadata": {},
   "outputs": [
    {
     "data": {
      "image/png": "[encoded data removed]",
      "text/plain": [
       "<Figure size 432x288 with 1 Axes>"
      ]
     },
     "metadata": {
      "needs_background": "light"
     },
     "output_type": "display_data"
    },
    {
     "name": "stdout",
     "output_type": "stream",
     "text": [
      "最小Eout对应的Lambda为log10(-7)，对应的Eout为0.015\n"
     ]
    }
   ],
   "source": [
    "#### Problem 15\n",
    "plt.plot(Lambda, Eout, label='Eout')\n",
    "plt.xlabel('$\\lambda$')\n",
    "plt.title('Eout')\n",
    "plt.legend()\n",
    "plt.show()\n",
    "\n",
    "Lambda2 = Lambda[np.argmin(Eout)]\n",
    "Eout2 = Eout[np.argmin(Eout)]\n",
    "print(\"最小Eout对应的Lambda为log10({})，对应的Eout为{}\".format(Lambda2, Eout2))"
   ]
  },
  {
   "cell_type": "markdown",
   "metadata": {},
   "source": [
    "#### Problem 16"
   ]
  },
  {
   "cell_type": "code",
   "execution_count": 8,
   "metadata": {},
   "outputs": [
    {
     "data": {
      "image/png": "[encoded data removed]",
      "text/plain": [
       "<Figure size 432x288 with 1 Axes>"
      ]
     },
     "metadata": {
      "needs_background": "light"
     },
     "output_type": "display_data"
    },
    {
     "name": "stdout",
     "output_type": "stream",
     "text": [
      "最小Etrain对应的Lambda为log10(-8)，对应的Eout为0.025\n"
     ]
    }
   ],
   "source": [
    "####Problem 16\n",
    "X_train_ = X_train[:120, :]\n",
    "y_train_ = y_train[:120]\n",
    "X_val = X_train[120:, :]\n",
    "y_val = y_train[120:]\n",
    "\n",
    "Etrain = []\n",
    "Eout = []\n",
    "Eval = []\n",
    "for l in Lambda:\n",
    "    l1 = 10 ** l\n",
    "    w1 = w(X_train_, y_train_, l1)\n",
    "    e_train = E(X_train_, y_train_, w1)\n",
    "    e_out = E(X_test, y_test, w1)\n",
    "    e_val = E(X_val, y_val, w1)\n",
    "    Etrain.append(e_train)\n",
    "    Eout.append(e_out)\n",
    "    Eval.append(e_val)\n",
    "    \n",
    "plt.plot(Lambda, Etrain, label='Etrain')\n",
    "plt.xlabel('$\\lambda$')\n",
    "plt.title('Ein')\n",
    "plt.legend()\n",
    "plt.show()\n",
    "\n",
    "Lambda3 = Lambda[np.argmin(Etrain)]\n",
    "Eout3 = Eout[np.argmin(Etrain)]\n",
    "print(\"最小Etrain对应的Lambda为log10({})，对应的Eout为{}\".format(Lambda3, Eout3))"
   ]
  },
  {
   "cell_type": "markdown",
   "metadata": {},
   "source": [
    "#### Problem 17"
   ]
  },
  {
   "cell_type": "code",
   "execution_count": 9,
   "metadata": {},
   "outputs": [
    {
     "data": {
      "image/png": "[encoded data removed]",
      "text/plain": [
       "<Figure size 432x288 with 1 Axes>"
      ]
     },
     "metadata": {
      "needs_background": "light"
     },
     "output_type": "display_data"
    },
    {
     "name": "stdout",
     "output_type": "stream",
     "text": [
      "最小Eval对应的Lambda为log10(0)，对应的Eout为0.028\n"
     ]
    }
   ],
   "source": [
    "#### Problem 17\n",
    "plt.plot(Lambda, Eval, label='Etrain')\n",
    "plt.xlabel('$\\lambda$')\n",
    "plt.title('Eval')\n",
    "plt.legend()\n",
    "plt.show()\n",
    "\n",
    "Lambda4 = Lambda[np.argmin(Eval)]\n",
    "Eout4 = Eout[np.argmin(Eval)]\n",
    "print(\"最小Eval对应的Lambda为log10({})，对应的Eout为{}\".format(Lambda4, Eout4))"
   ]
  },
  {
   "cell_type": "markdown",
   "metadata": {},
   "source": [
    "#### Problem 18"
   ]
  },
  {
   "cell_type": "code",
   "execution_count": 10,
   "metadata": {},
   "outputs": [
    {
     "name": "stdout",
     "output_type": "stream",
     "text": [
      "Ein = 0.035\n",
      "Eout = 0.02\n"
     ]
    }
   ],
   "source": [
    "#### Problem 18\n",
    "l = Lambda[np.argmin(Eval)]\n",
    "l1 = 10 ** l\n",
    "w1 = w(X_train, y_train, l1)\n",
    "Ein = E(X_train, y_train, w1)\n",
    "Eout = E(X_test, y_test, w1)\n",
    "print(\"Ein = {}\".format(Ein))\n",
    "print(\"Eout = {}\".format(Eout))"
   ]
  },
  {
   "cell_type": "markdown",
   "metadata": {},
   "source": [
    "#### Problem 19"
   ]
  },
  {
   "cell_type": "code",
   "execution_count": 12,
   "metadata": {},
   "outputs": [
    {
     "data": {
      "image/png": "[encoded data removed]",
      "text/plain": [
       "<Figure size 432x288 with 1 Axes>"
      ]
     },
     "metadata": {
      "needs_background": "light"
     },
     "output_type": "display_data"
    },
    {
     "name": "stdout",
     "output_type": "stream",
     "text": [
      "最小Ecv对应的Lambda为log10(-8)\n"
     ]
    }
   ],
   "source": [
    "####Problem 19\n",
    "#准备数据\n",
    "K = 5\n",
    "m = X_train.shape[0] // K\n",
    "data=[]\n",
    "#将数据拆分成训练集以及验证集\n",
    "for i in range(K):\n",
    "    Xtrain = np.r_[X_train[: i*m], X_train[(i+1)*m: ]]\n",
    "    ytrain = np.r_[y_train[: i*m], y_train[(i+1)*m: ]]\n",
    "    Xval = X_train[i*m: (i+1)*m]\n",
    "    yval = y_train[i*m: (i+1)*m]\n",
    "    data.append([Xtrain, ytrain, Xval, yval])\n",
    "\n",
    "Ecv = []\n",
    "for l in Lambda:\n",
    "    l1 = 10 ** l\n",
    "    ecv = 0\n",
    "    for d in data:\n",
    "        Xtrain, ytrain, Xval, yval = d\n",
    "        w1 = w(Xtrain, ytrain, l1)\n",
    "        ecv += E(Xval, yval, w1)\n",
    "    ecv /= K\n",
    "    Ecv.append(ecv)\n",
    "    \n",
    "plt.plot(Lambda, Ecv, label='Ecv')\n",
    "plt.xlabel('$\\lambda$')\n",
    "plt.title('Ecv')\n",
    "plt.legend()\n",
    "plt.show()\n",
    "\n",
    "Lambda5 = Lambda[np.argmin(Ecv)]\n",
    "print(\"最小Ecv对应的Lambda为log10({})\".format(Lambda5))"
   ]
  },
  {
   "cell_type": "markdown",
   "metadata": {},
   "source": [
    "#### Problem 20"
   ]
  },
  {
   "cell_type": "code",
   "execution_count": 13,
   "metadata": {},
   "outputs": [
    {
     "name": "stdout",
     "output_type": "stream",
     "text": [
      "Ein = 0.015\n",
      "Eout = 0.02\n"
     ]
    }
   ],
   "source": [
    "####Problem20\n",
    "l1 = 10 ** Lambda5\n",
    "w1 = w(X_train, y_train, l1)\n",
    "Ein = E(X_train, y_train, w1)\n",
    "Eout = E(X_test, y_test, w1)\n",
    "print(\"Ein = {}\".format(Ein))\n",
    "print(\"Eout = {}\".format(Eout))"
   ]
  }
 ],
 "metadata": {
  "kernelspec": {
   "display_name": "Python 3",
   "language": "python",
   "name": "python3"
  },
  "language_info": {
   "codemirror_mode": {
    "name": "ipython",
    "version": 3
   },
   "file_extension": ".py",
   "mimetype": "text/x-python",
   "name": "python",
   "nbconvert_exporter": "python",
   "pygments_lexer": "ipython3",
   "version": "3.7.1"
  }
 },
 "nbformat": 4,
 "nbformat_minor": 2
}
