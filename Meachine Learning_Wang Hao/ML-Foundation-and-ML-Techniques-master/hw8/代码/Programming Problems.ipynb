{
 "cells": [
  {
   "cell_type": "markdown",
   "metadata": {},
   "source": [
    "#### Problem 11-12"
   ]
  },
  {
   "cell_type": "code",
   "execution_count": 3,
   "metadata": {},
   "outputs": [
    {
     "data": {
      "image/png": "[encoded data removed]",
      "text/plain": [
       "<Figure size 432x288 with 1 Axes>"
      ]
     },
     "metadata": {
      "needs_background": "light"
     },
     "output_type": "display_data"
    }
   ],
   "source": [
    "import numpy as np\n",
    "import matplotlib.pyplot as plt\n",
    "\n",
    "#读取数据\n",
    "train = np.loadtxt(\"hw8_train.dat\")\n",
    "test = np.loadtxt(\"hw8_test.dat\")\n",
    "X_train, y_train = train[:, :-1], train[:, -1]\n",
    "X_test, y_test = test[:, :-1], test[:, -1]\n",
    "\n",
    "class KNeighborsClassifier_():\n",
    "    def __init__(self, n_neighbors):\n",
    "        self.n_neighbors = n_neighbors\n",
    "        \n",
    "        \n",
    "    def fit(self, X, y):\n",
    "        self.X = X\n",
    "        self.y = y\n",
    "        \n",
    "    def predict(self, X):\n",
    "        #计算距离矩阵\n",
    "        d1 = np.sum(X ** 2, axis=1).reshape(-1, 1)\n",
    "        d2 = np.sum(self.X ** 2, axis=1).reshape(1, -1)\n",
    "        dist = d1 + d2 - 2 * X.dot(self.X.T)\n",
    "        \n",
    "        #找到最近的k个点的索引\n",
    "        index = np.argsort(dist, axis=1)[:, :self.n_neighbors]\n",
    "        #计算预测结果\n",
    "        y = np.sign(np.sum(self.y[index], axis=1))\n",
    "        \n",
    "        return y\n",
    "\n",
    "# Q11-12\n",
    "K = [1, 3, 5, 7, 9]\n",
    "Ein = []\n",
    "for k in K:\n",
    "    #训练模型\n",
    "    knn = KNeighborsClassifier_(n_neighbors=k)\n",
    "    knn.fit(X_train, y_train)\n",
    "    #预测结果\n",
    "    y = knn.predict(X_train)\n",
    "    ein = np.mean(y != y_train)\n",
    "    Ein.append(ein)\n",
    "\n",
    "plt.scatter(K, Ein)\n",
    "plt.title(\"$K$ VS $E_{in}$\")\n",
    "plt.xlabel(\"$K$\")\n",
    "plt.ylabel(\"$E_{in}$\")\n",
    "plt.show()"
   ]
  },
  {
   "cell_type": "markdown",
   "metadata": {},
   "source": [
    "#### Problem 13-14"
   ]
  },
  {
   "cell_type": "code",
   "execution_count": 4,
   "metadata": {},
   "outputs": [
    {
     "data": {
      "image/png": "[encoded data removed]",
      "text/plain": [
       "<Figure size 432x288 with 1 Axes>"
      ]
     },
     "metadata": {
      "needs_background": "light"
     },
     "output_type": "display_data"
    }
   ],
   "source": [
    "# Q13-14\n",
    "K = [1, 3, 5, 7, 9]\n",
    "Eout = []\n",
    "for k in K:\n",
    "    #训练模型\n",
    "    knn = KNeighborsClassifier_(n_neighbors=k)\n",
    "    knn.fit(X_train, y_train)\n",
    "    #预测结果\n",
    "    y = knn.predict(X_test)\n",
    "    eout = np.mean(y != y_test)\n",
    "    Eout.append(eout)\n",
    "\n",
    "plt.scatter(K, Eout)\n",
    "plt.title(\"$K$ VS $E_{out}$\")\n",
    "plt.xlabel(\"$K$\")\n",
    "plt.ylabel(\"$E_{out}$\")\n",
    "plt.show()"
   ]
  },
  {
   "cell_type": "markdown",
   "metadata": {},
   "source": [
    "#### Problem 15-16"
   ]
  },
  {
   "cell_type": "code",
   "execution_count": 5,
   "metadata": {},
   "outputs": [
    {
     "data": {
      "image/png": "[encoded data removed]",
      "text/plain": [
       "<Figure size 432x288 with 1 Axes>"
      ]
     },
     "metadata": {
      "needs_background": "light"
     },
     "output_type": "display_data"
    }
   ],
   "source": [
    "class RBFNetworkClassifier():\n",
    "    def __init__(self, gamma):\n",
    "        self.gamma = gamma\n",
    "        self.beta = None\n",
    "\n",
    "    def fit(self, X, y):\n",
    "        self.X = X\n",
    "        self.y = y\n",
    "        \n",
    "    def predict(self, X):\n",
    "        #计算距离矩阵\n",
    "        d1 = np.sum(X ** 2, axis=1).reshape(-1, 1)\n",
    "        d2 = np.sum(self.X ** 2, axis=1).reshape(1, -1)\n",
    "        dist = d1 + d2 - 2 * X.dot(self.X.T)\n",
    "        \n",
    "        #计算exp(-gamma*dist)\n",
    "        d = np.exp(-self.gamma * dist)\n",
    "        \n",
    "        #计算预测结果\n",
    "        y = np.sign(np.sum(d * self.y, axis=1))\n",
    "        \n",
    "        return y\n",
    "\n",
    "# Q15-16\n",
    "Gamma = [0.001, 0.1, 1, 10, 100]\n",
    "Ein_rbf = []\n",
    "for gamma in Gamma:\n",
    "    #训练模型\n",
    "    knn = RBFNetworkClassifier(gamma=gamma)\n",
    "    knn.fit(X_train, y_train)\n",
    "    #预测结果\n",
    "    y = knn.predict(X_train)\n",
    "    ein = np.mean(y != y_train)\n",
    "    Ein_rbf.append(ein)\n",
    "\n",
    "plt.scatter(Gamma, Ein_rbf)\n",
    "plt.title(\"$\\gamma$ VS $E_{in}$\")\n",
    "plt.xlabel(\"$\\gamma$\")\n",
    "plt.ylabel(\"$E_{in}$\")\n",
    "plt.show()"
   ]
  },
  {
   "cell_type": "markdown",
   "metadata": {},
   "source": [
    "#### Problem 17-18"
   ]
  },
  {
   "cell_type": "code",
   "execution_count": 6,
   "metadata": {},
   "outputs": [
    {
     "data": {
      "image/png": "[encoded data removed]",
      "text/plain": [
       "<Figure size 432x288 with 1 Axes>"
      ]
     },
     "metadata": {
      "needs_background": "light"
     },
     "output_type": "display_data"
    }
   ],
   "source": [
    "# Q17-18\n",
    "Gamma = [0.001, 0.1, 1, 10, 100]\n",
    "Eout_rbf = []\n",
    "for gamma in Gamma:\n",
    "    #训练模型\n",
    "    knn = RBFNetworkClassifier(gamma=gamma)\n",
    "    knn.fit(X_train, y_train)\n",
    "    #预测结果\n",
    "    y = knn.predict(X_test)\n",
    "    eout = np.mean(y != y_test)\n",
    "    Eout_rbf.append(eout)\n",
    "\n",
    "plt.scatter(Gamma, Eout_rbf)\n",
    "plt.title(\"$\\gamma$ VS $E_{out}$\")\n",
    "plt.xlabel(\"$\\gamma$\")\n",
    "plt.ylabel(\"$E_{out}$\")\n",
    "plt.show()"
   ]
  },
  {
   "cell_type": "markdown",
   "metadata": {},
   "source": [
    "#### Problem 19-20"
   ]
  },
  {
   "cell_type": "code",
   "execution_count": 3,
   "metadata": {},
   "outputs": [
    {
     "data": {
      "image/png": "[encoded data removed]",
      "text/plain": [
       "<Figure size 432x288 with 1 Axes>"
      ]
     },
     "metadata": {
      "needs_background": "light"
     },
     "output_type": "display_data"
    }
   ],
   "source": [
    "# -*- coding: utf-8 -*-\n",
    "\"\"\"\n",
    "Created on Fri Apr 19 16:24:00 2019\n",
    "\n",
    "@author: qinzhen\n",
    "\"\"\"\n",
    "\n",
    "import numpy as np\n",
    "import matplotlib.pyplot as plt\n",
    "X = np.genfromtxt(\"hw8_nolabel_train.dat\")\n",
    "\n",
    "class KMeans_():\n",
    "    def __init__(self, k, D=1e-5):\n",
    "        #聚类数量\n",
    "        self.k = k\n",
    "        #聚类中心\n",
    "        self.cluster_centers_ = []\n",
    "        #聚类结果\n",
    "        self.labels_ = []\n",
    "        #设置阈值\n",
    "        self.D = D\n",
    "        \n",
    "    def fit(self, X):\n",
    "        #数据维度\n",
    "        n, d = X.shape\n",
    "        #聚类标签\n",
    "        labels = np.zeros(n, dtype=int)\n",
    "        #初始中心点\n",
    "        index = np.random.randint(0, n, self.k)\n",
    "        cluster_centers = X[index]\n",
    "        #记录上一轮迭代的聚类中心\n",
    "        cluster_centers_pre = np.copy(cluster_centers)\n",
    "        \n",
    "        while True:\n",
    "            #计算距离矩阵\n",
    "            d1 = np.sum(X ** 2, axis=1).reshape(-1, 1)\n",
    "            d2 = np.sum(cluster_centers ** 2, axis=1).reshape(1, -1)\n",
    "            dist = d1 + d2 - 2 * X.dot(cluster_centers.T)\n",
    "            \n",
    "            #STEP1:找到最近的中心\n",
    "            labels = np.argmin(dist, axis=1)\n",
    "            #STEP2:重新计算中心\n",
    "            for i in range(self.k):\n",
    "                #第i类的索引\n",
    "                index = (labels==i)\n",
    "                #第i类的数据\n",
    "                x = X[index]\n",
    "                #判断是否有点和某聚类中心在一类\n",
    "                if len(x) != 0:\n",
    "                    cluster_centers[i] = np.mean(x, axis=0)\n",
    "                \n",
    "            #计算误差\n",
    "            delta = np.linalg.norm(cluster_centers - cluster_centers_pre)\n",
    "            \n",
    "            if delta < self.D:\n",
    "                break\n",
    "            \n",
    "            cluster_centers_pre = np.copy(cluster_centers)\n",
    "            \n",
    "        self.cluster_centers_ = np.copy(cluster_centers)\n",
    "        self.labels_ = labels\n",
    "        \n",
    "        \n",
    "    def predict(self, X):\n",
    "        #计算距离矩阵\n",
    "        d1 = np.sum(X ** 2, axis=1).reshape(-1, 1)\n",
    "        d2 = np.sum(self.cluster_centers_ ** 2, axis=1).reshape(1, -1)\n",
    "        dist = d1 + d2 - 2 * X.dot(self.cluster_centers_.T)\n",
    "        \n",
    "        #找到最近的中心\n",
    "        self.cluster_centers_ = np.argmin(dist, axis=1)\n",
    "        \n",
    "        return self.cluster_centers_\n",
    "\n",
    "n = X.shape[0]\n",
    "K = [2, 4, 6, 8, 10]\n",
    "Ein = []\n",
    "for k in K:\n",
    "    #训练模型\n",
    "    kmeans = KMeans_(k)\n",
    "    kmeans.fit(X)\n",
    "    #获得标签\n",
    "    label = kmeans.labels_\n",
    "    #获得聚类中心\n",
    "    center = kmeans.cluster_centers_\n",
    "    #计算Ein\n",
    "    ein = 0\n",
    "    for i in range(k):\n",
    "        #计算每一类的误差\n",
    "        ein += np.sum((X[label==i] - center[i]) ** 2)\n",
    "    #计算均值\n",
    "    ein /= n\n",
    "    Ein.append(ein)\n",
    "    \n",
    "plt.scatter(K, Ein)\n",
    "plt.title(\"$K$ VS $E_{in}$\")\n",
    "plt.xlabel(\"$K$\")\n",
    "plt.ylabel(\"$E_{in}$\")\n",
    "plt.show()"
   ]
  }
 ],
 "metadata": {
  "kernelspec": {
   "display_name": "Python 3",
   "language": "python",
   "name": "python3"
  },
  "language_info": {
   "codemirror_mode": {
    "name": "ipython",
    "version": 3
   },
   "file_extension": ".py",
   "mimetype": "text/x-python",
   "name": "python",
   "nbconvert_exporter": "python",
   "pygments_lexer": "ipython3",
   "version": "3.7.1"
  }
 },
 "nbformat": 4,
 "nbformat_minor": 2
}
