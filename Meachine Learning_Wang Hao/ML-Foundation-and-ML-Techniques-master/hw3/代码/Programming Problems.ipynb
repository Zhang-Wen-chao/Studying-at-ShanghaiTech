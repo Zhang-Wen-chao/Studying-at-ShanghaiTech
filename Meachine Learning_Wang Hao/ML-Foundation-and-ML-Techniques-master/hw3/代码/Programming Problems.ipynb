{
 "cells": [
  {
   "cell_type": "markdown",
   "metadata": {},
   "source": [
    "#### Problem 1"
   ]
  },
  {
   "cell_type": "code",
   "execution_count": 24,
   "metadata": {},
   "outputs": [
    {
     "name": "stdout",
     "output_type": "stream",
     "text": [
      "44.99999999999996\n"
     ]
    }
   ],
   "source": [
    "def f(d, delta, Ein):\n",
    "    return (d + 1) / (1 - Ein / (delta ** 2))\n",
    "\n",
    "print(f(8, 0.1, 0.008))"
   ]
  },
  {
   "cell_type": "markdown",
   "metadata": {},
   "source": [
    "#### Problem 3"
   ]
  },
  {
   "cell_type": "code",
   "execution_count": 26,
   "metadata": {},
   "outputs": [
    {
     "data": {
      "image/png": "[encoded data removed]",
      "text/plain": [
       "<Figure size 432x288 with 1 Axes>"
      ]
     },
     "metadata": {
      "needs_background": "light"
     },
     "output_type": "display_data"
    }
   ],
   "source": [
    "import numpy as np\n",
    "import matplotlib.pyplot as plt\n",
    "plt.rcParams['font.sans-serif']=['SimHei'] #用来正常显示中文标签\n",
    "plt.rcParams['axes.unicode_minus']=False #用来正常显示负号\n",
    "\n",
    "#构造损失函数\n",
    "def e1(s):\n",
    "    if s > 0:\n",
    "        return 0\n",
    "    else:\n",
    "        return 1\n",
    "\n",
    "def e2(s):\n",
    "    return max(0, 1 - s)\n",
    "\n",
    "def e3(s):\n",
    "    t = max(0, 1 - s)\n",
    "    return t ** 2\n",
    "\n",
    "def e4(s):\n",
    "    return max(0, -s)\n",
    "\n",
    "def e5(s):\n",
    "    return 1 / (1 + np.exp(s))\n",
    "\n",
    "def e6(s):\n",
    "    return np.exp(-s)\n",
    "\n",
    "x = np.arange(-1, 1, 0.01)\n",
    "\n",
    "y1 = [e1(i) for i in x]\n",
    "y2 = [e2(i) for i in x]\n",
    "y3 = [e3(i) for i in x]\n",
    "y4 = [e4(i) for i in x]\n",
    "y5 = [e5(i) for i in x]\n",
    "y6 = [e6(i) for i in x]\n",
    "\n",
    "plt.plot(x, y1, label='e1')\n",
    "plt.plot(x, y2, label='e2')\n",
    "plt.plot(x, y3, label='e3')\n",
    "plt.plot(x, y4, label='e4')\n",
    "plt.plot(x, y5, label='e5')\n",
    "plt.plot(x ,y6, label='e6')\n",
    "plt.legend()\n",
    "plt.title('损失函数比较')\n",
    "plt.show()"
   ]
  },
  {
   "cell_type": "markdown",
   "metadata": {},
   "source": [
    "#### Problem 7"
   ]
  },
  {
   "cell_type": "code",
   "execution_count": 27,
   "metadata": {},
   "outputs": [
    {
     "name": "stdout",
     "output_type": "stream",
     "text": [
      "[0.09413996 0.00178911]\n",
      "2.8250003566832635\n"
     ]
    }
   ],
   "source": [
    "import numpy as np\n",
    "from numpy.linalg import inv\n",
    "\n",
    "def E(u,v):\n",
    "    return np.exp(u) + np.exp(2 * v) + np.exp(u * v) + u * u - 2 * u * v + 2 * v * v - 3 * u - 2 * v\n",
    "\n",
    "def partial(point):\n",
    "    u = point[0]\n",
    "    v = point[1]\n",
    "    pu = np.exp(u) + v * np.exp(u * v) + 2 * u - 2 * v - 3\n",
    "    pv = 2 * np.exp(2 * v) + u * np.exp(u * v) - 2 * u + 4 * v - 2\n",
    "    return np.array([pu, pv])\n",
    "\n",
    "def dpartial(point):\n",
    "    u = point[0]\n",
    "    v = point[1]\n",
    "    puu = np.exp(u) + np.exp(u * v) * (v ** 2) + 2\n",
    "    pvv = 4 * np.exp(2 * v) + np.exp(u * v) * (u ** 2) + 4\n",
    "    puv = np.exp(u * v) * (1 + u * v) - 2\n",
    "    return np.array([[puu, puv], [puv, pvv]])\n",
    "\n",
    "\n",
    "####Problem 7\n",
    "point = np.zeros(2)\n",
    "eta = 0.01\n",
    "\n",
    "for i in range(5):\n",
    "    point -= eta * partial(point)\n",
    "    \n",
    "print(point)\n",
    "print(E(point[0], point[1]))"
   ]
  },
  {
   "cell_type": "markdown",
   "metadata": {},
   "source": [
    "#### Problem 10"
   ]
  },
  {
   "cell_type": "code",
   "execution_count": 28,
   "metadata": {},
   "outputs": [
    {
     "name": "stdout",
     "output_type": "stream",
     "text": [
      "[0.61181172 0.07049955]\n",
      "2.360823345643139\n"
     ]
    }
   ],
   "source": [
    "####Problem 10\n",
    "point = np.zeros(2)\n",
    "eta = 0.01\n",
    "\n",
    "for i in range(5):\n",
    "    point -= inv(dpartial(point)).dot(partial(point))\n",
    "\n",
    "print(point)\n",
    "print(E(point[0], point[1]))"
   ]
  },
  {
   "cell_type": "markdown",
   "metadata": {},
   "source": [
    "#### Problem 11"
   ]
  },
  {
   "cell_type": "code",
   "execution_count": 29,
   "metadata": {},
   "outputs": [
    {
     "name": "stdout",
     "output_type": "stream",
     "text": [
      "-15.999999999999998\n"
     ]
    }
   ],
   "source": [
    "import numpy as np\n",
    "\n",
    "X = np.array(\n",
    "        [[1, 1, 1, 1, 1, 1],\n",
    "         [1, 1, -1, 1, -1, 1],\n",
    "         [1, -1, -1, 1, 1, 1],\n",
    "         [1, -1, 1, 1, -1, 1],\n",
    "         [1, 0, 0, 0, 0, 0],\n",
    "         [1, 1, 0, 1, 0, 0]]\n",
    "        )\n",
    "print(np.linalg.det(X))\n"
   ]
  },
  {
   "cell_type": "markdown",
   "metadata": {},
   "source": [
    "#### Problem 13"
   ]
  },
  {
   "cell_type": "code",
   "execution_count": 30,
   "metadata": {},
   "outputs": [
    {
     "data": {
      "image/png": "[encoded data removed]",
      "text/plain": [
       "<Figure size 432x288 with 1 Axes>"
      ]
     },
     "metadata": {
      "needs_background": "light"
     },
     "output_type": "display_data"
    }
   ],
   "source": [
    "import numpy as np\n",
    "import matplotlib.pyplot as plt\n",
    "from numpy.linalg import inv\n",
    "from sklearn.preprocessing import PolynomialFeatures\n",
    "plt.rcParams['font.sans-serif']=['SimHei'] #用来正常显示中文标签\n",
    "plt.rcParams['axes.unicode_minus']=False #用来正常显示负号\n",
    "\n",
    "#产生n组点\n",
    "def generate(n, p=0.1):\n",
    "    X = np.random.uniform(-1, 1, size=(n, 2))\n",
    "    y = np.sign(np.sum(X ** 2, axis=1) - 0.6)\n",
    "    #翻转\n",
    "    P = np.random.uniform(0, 1, n)\n",
    "    y[P < p] *= -1\n",
    "    #产生数据\n",
    "    return X, y\n",
    "\n",
    "#数据数量\n",
    "n = 1000\n",
    "#实验次数\n",
    "m = 1000     \n",
    "X, y = generate(n)\n",
    "\n",
    "plt.scatter(X[y>0][:, 0], X[y>0][:, 1], s=1)\n",
    "plt.scatter(X[y<0][:, 0], X[y<0][:, 1], s=1)\n",
    "plt.show()"
   ]
  },
  {
   "cell_type": "code",
   "execution_count": 31,
   "metadata": {},
   "outputs": [
    {
     "name": "stdout",
     "output_type": "stream",
     "text": [
      "0.505447\n"
     ]
    },
    {
     "data": {
      "image/png": "[encoded data removed]",
      "text/plain": [
       "<Figure size 432x288 with 1 Axes>"
      ]
     },
     "metadata": {
      "needs_background": "light"
     },
     "output_type": "display_data"
    }
   ],
   "source": [
    "#Problem 13\n",
    "Ein = np.array([])\n",
    "for i in range(m):\n",
    "    X, y = generate(n)\n",
    "    X = np.c_[np.ones(n), X]\n",
    "\n",
    "    w = inv(X.T.dot(X)).dot(X.T).dot(y)\n",
    "\n",
    "    ein = np.mean(np.sign(X.dot(w) * y) < 0 )\n",
    "    Ein = np.append(Ein, ein)\n",
    "\n",
    "print(np.average(Ein))\n",
    "plt.hist(Ein)\n",
    "plt.title('Ein without feature transform')\n",
    "plt.show()"
   ]
  },
  {
   "cell_type": "code",
   "execution_count": 38,
   "metadata": {},
   "outputs": [
    {
     "data": {
      "image/png": "[encoded data removed]",
      "text/plain": [
       "<Figure size 432x288 with 1 Axes>"
      ]
     },
     "metadata": {
      "needs_background": "light"
     },
     "output_type": "display_data"
    },
    {
     "name": "stdout",
     "output_type": "stream",
     "text": [
      "w3的均值-0.011925513186691142\n",
      "w的均值[-0.99853694  0.00427153  0.00298056  1.55328108 -0.01192551  1.5622585 ]\n"
     ]
    }
   ],
   "source": [
    "#Problem 14\n",
    "#多项式转换器\n",
    "poly = PolynomialFeatures(2)\n",
    "W = []\n",
    "Eout = np.array([])\n",
    "Ein = np.array([])\n",
    "for i in range(m):\n",
    "    X, y = generate(n)\n",
    "    X_poly = poly.fit_transform(X)\n",
    "    \n",
    "    w_poly = inv(X_poly.T.dot(X_poly)).dot(X_poly.T).dot(y)\n",
    "\n",
    "    ein = np.mean(np.sign(X_poly.dot(w_poly) * y) < 0)\n",
    "    Ein = np.append(Ein, ein)\n",
    "    #测试数据\n",
    "    X_test, y_test = generate(n)\n",
    "    X_test_poly = poly.fit_transform(X_test)\n",
    "    eout = np.mean(np.sign(X_test_poly.dot(w_poly) * y_test) < 0)\n",
    "    Eout  = np.append(Eout, eout)\n",
    "    \n",
    "    #记录w\n",
    "    W.append(w_poly)\n",
    "\n",
    "W = np.array(W)\n",
    "w3 = W[:, 4]\n",
    "plt.hist(w3)\n",
    "plt.title('w3')\n",
    "plt.show()\n",
    "print(\"w3的均值{}\".format(w3.mean()))\n",
    "print(\"w的均值\" + str(np.mean(W, axis=0)))"
   ]
  },
  {
   "cell_type": "code",
   "execution_count": 33,
   "metadata": {},
   "outputs": [
    {
     "data": {
      "image/png": "[encoded data removed]",
      "text/plain": [
       "<Figure size 432x288 with 1 Axes>"
      ]
     },
     "metadata": {
      "needs_background": "light"
     },
     "output_type": "display_data"
    },
    {
     "name": "stdout",
     "output_type": "stream",
     "text": [
      "0.125842\n"
     ]
    }
   ],
   "source": [
    "#Problem 15\n",
    "plt.hist(Eout)\n",
    "plt.title('Eout with feature transform')\n",
    "plt.show()\n",
    "print(Eout.mean())"
   ]
  },
  {
   "cell_type": "markdown",
   "metadata": {},
   "source": [
    "#### Problem 18"
   ]
  },
  {
   "cell_type": "code",
   "execution_count": 34,
   "metadata": {},
   "outputs": [
    {
     "name": "stdout",
     "output_type": "stream",
     "text": [
      "0.475\n",
      "[[ 0.01878417]\n",
      " [-0.01260595]\n",
      " [ 0.04084862]\n",
      " [-0.03266317]\n",
      " [ 0.01502334]\n",
      " [-0.03667437]\n",
      " [ 0.01255934]\n",
      " [ 0.04815065]\n",
      " [-0.02206419]\n",
      " [ 0.02479605]\n",
      " [ 0.06899284]\n",
      " [ 0.0193719 ]\n",
      " [-0.01988549]\n",
      " [-0.0087049 ]\n",
      " [ 0.04605863]\n",
      " [ 0.05793382]\n",
      " [ 0.061218  ]\n",
      " [-0.04720391]\n",
      " [ 0.06070375]\n",
      " [-0.01610907]\n",
      " [-0.03484607]]\n"
     ]
    }
   ],
   "source": [
    "import numpy as np\n",
    "\n",
    "def preprocess(X):\n",
    "    \"\"\"\n",
    "    添加偏置项\n",
    "    \"\"\"\n",
    "    n = X.shape[0]\n",
    "    return np.c_[np.ones(n), X]\n",
    "\n",
    "#数据读入\n",
    "data_train = np.genfromtxt(\"hw3_train.dat\")\n",
    "X_train = data_train[:, :-1]\n",
    "y_train = data_train[:, -1].reshape(-1, 1)\n",
    "X_train = preprocess(X_train)\n",
    "data_test = np.genfromtxt(\"hw3_test.dat\")\n",
    "X_test = data_test[:, :-1]\n",
    "y_test = data_test[:, -1].reshape(-1, 1)\n",
    "X_test = preprocess(X_test)\n",
    "\n",
    "#定义函数\n",
    "def sigmoid(s):\n",
    "    return 1 / (np.exp(-s) + 1)\n",
    "\n",
    "def gradient(X, w, y):\n",
    "    temp1 = - X.dot(w) * y\n",
    "    temp2 = sigmoid(temp1)\n",
    "    temp3 = - X * y\n",
    "    grad = np.mean(temp3 * temp2, axis=0).reshape(-1, 1)\n",
    "\n",
    "    return grad\n",
    "\n",
    "#数据组数和维度\n",
    "n, m = X_train.shape\n",
    "\n",
    "#Problem 18\n",
    "w = np.zeros((m, 1))\n",
    "k = 0.001\n",
    "\n",
    "for i in range(2000):\n",
    "    grad = gradient(X_train, w, y_train)\n",
    "    w -= k * grad\n",
    "\n",
    "#计算标签\n",
    "y_test_pred = X_test.dot(w)\n",
    "y_test_pred[y_test_pred > 0] = 1\n",
    "y_test_pred[y_test_pred <= 0] = -1\n",
    "#计算Eout\n",
    "Eout = np.mean(y_test_pred != y_test)\n",
    "#求出误差\n",
    "print(Eout)\n",
    "print(w)"
   ]
  },
  {
   "cell_type": "markdown",
   "metadata": {},
   "source": [
    "#### Problem 19"
   ]
  },
  {
   "cell_type": "code",
   "execution_count": 35,
   "metadata": {},
   "outputs": [
    {
     "name": "stdout",
     "output_type": "stream",
     "text": [
      "0.22\n",
      "[[-0.00385379]\n",
      " [-0.18914564]\n",
      " [ 0.26625908]\n",
      " [-0.35356593]\n",
      " [ 0.04088776]\n",
      " [-0.3794296 ]\n",
      " [ 0.01982783]\n",
      " [ 0.33391527]\n",
      " [-0.26386754]\n",
      " [ 0.13489328]\n",
      " [ 0.4914191 ]\n",
      " [ 0.08726107]\n",
      " [-0.25537728]\n",
      " [-0.16291797]\n",
      " [ 0.30073678]\n",
      " [ 0.40014954]\n",
      " [ 0.43218808]\n",
      " [-0.46227968]\n",
      " [ 0.43230193]\n",
      " [-0.20786372]\n",
      " [-0.36936337]]\n"
     ]
    }
   ],
   "source": [
    "#Problem 19\n",
    "w = np.zeros((m, 1))\n",
    "k = 0.01\n",
    "\n",
    "for i in range(2000):\n",
    "    grad = gradient(X_train, w, y_train)\n",
    "    w -= k * grad\n",
    "\n",
    "#计算标签\n",
    "y_test_pred = X_test.dot(w)\n",
    "y_test_pred[y_test_pred > 0] = 1\n",
    "y_test_pred[y_test_pred <= 0] = -1\n",
    "#计算Eout\n",
    "Eout = np.mean(y_test_pred != y_test)\n",
    "#求出误差\n",
    "print(Eout)\n",
    "print(w)"
   ]
  },
  {
   "cell_type": "markdown",
   "metadata": {},
   "source": [
    "#### Problem 20"
   ]
  },
  {
   "cell_type": "code",
   "execution_count": 36,
   "metadata": {},
   "outputs": [
    {
     "name": "stdout",
     "output_type": "stream",
     "text": [
      "0.473\n",
      "[[ 0.01826899]\n",
      " [-0.01308051]\n",
      " [ 0.04072894]\n",
      " [-0.03295698]\n",
      " [ 0.01498363]\n",
      " [-0.03691042]\n",
      " [ 0.01232819]\n",
      " [ 0.04791334]\n",
      " [-0.02244958]\n",
      " [ 0.02470544]\n",
      " [ 0.06878235]\n",
      " [ 0.01897378]\n",
      " [-0.02032107]\n",
      " [-0.00901469]\n",
      " [ 0.04589259]\n",
      " [ 0.05776824]\n",
      " [ 0.06102487]\n",
      " [-0.04756147]\n",
      " [ 0.06035018]\n",
      " [-0.01660574]\n",
      " [-0.03509342]]\n"
     ]
    }
   ],
   "source": [
    "#Problem 20\n",
    "w = np.zeros((m, 1))\n",
    "k = 0.001\n",
    "\n",
    "#计数器\n",
    "j = 0\n",
    "for i in range(2000):\n",
    "    x = X_train[j, :].reshape(1, -1)\n",
    "    s = gradient(x, w, y_train[j])\n",
    "    w -= k * s\n",
    "    #更新下标\n",
    "    j += 1\n",
    "    j = j % n\n",
    "\n",
    "#计算标签\n",
    "y_test_pred = X_test.dot(w)\n",
    "y_test_pred[y_test_pred > 0] = 1\n",
    "y_test_pred[y_test_pred <= 0] = -1\n",
    "#计算sign(Xw)\n",
    "Eout = np.mean(y_test_pred != y_test)\n",
    "#求出误差\n",
    "print(Eout)\n",
    "print(w)"
   ]
  }
 ],
 "metadata": {
  "kernelspec": {
   "display_name": "Python 3",
   "language": "python",
   "name": "python3"
  },
  "language_info": {
   "codemirror_mode": {
    "name": "ipython",
    "version": 3
   },
   "file_extension": ".py",
   "mimetype": "text/x-python",
   "name": "python",
   "nbconvert_exporter": "python",
   "pygments_lexer": "ipython3",
   "version": "3.7.1"
  }
 },
 "nbformat": 4,
 "nbformat_minor": 2
}
