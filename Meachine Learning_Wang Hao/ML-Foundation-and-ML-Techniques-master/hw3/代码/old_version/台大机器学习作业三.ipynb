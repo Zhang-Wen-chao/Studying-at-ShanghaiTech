{
 "cells": [
  {
   "cell_type": "markdown",
   "metadata": {},
   "source": [
    "大家好，这篇是有关台大机器学习课程作业三的详解，题目同Coursera。\n",
    "\n",
    "我的github地址：  \n",
    "https://github.com/Doraemonzzz\n",
    "\n",
    "个人主页：  \n",
    "http://doraemonzzz.com/\n",
    "\n",
    "作业地址:  \n",
    "https://www.csie.ntu.edu.tw/~htlin/course/ml15fall/\n",
    "\n",
    "参考资料:  \n",
    "https://blog.csdn.net/a1015553840/article/details/51085129  \n",
    "http://www.vynguyen.net/category/study/machine-learning/page/6/  \n",
    "http://book.caltech.edu/bookforum/index.php  \n",
    "http://beader.me/mlnotebook/"
   ]
  },
  {
   "cell_type": "markdown",
   "metadata": {},
   "source": [
    "#### Problem 1\n",
    "\n",
    "$$\n",
    "E_{\\mathcal D}[E_{in}(w_{lin})] = \\sigma^2(1-\\frac{d+1}N)\n",
    "$$\n",
    "\n",
    "这个结论的理论推导可以参考我写的Learning from data习题Exercise 3.3,3.4。\n",
    "\n",
    "对于此题来说，直接把$N$解出来即可\n",
    "$$\n",
    "N=\\frac {d+1}{1-\\frac{E_{\\mathcal D}[E_{in}(w_{lin})]}{\\sigma^2}}\n",
    "$$\n"
   ]
  },
  {
   "cell_type": "code",
   "execution_count": 2,
   "metadata": {},
   "outputs": [
    {
     "name": "stdout",
     "output_type": "stream",
     "text": [
      "44.99999999999996\n"
     ]
    }
   ],
   "source": [
    "def f(d,delta,Ein):\n",
    "    return (d+1)/(1-Ein/(delta**2))\n",
    "\n",
    "print(f(8,0.1,0.008))"
   ]
  },
  {
   "cell_type": "markdown",
   "metadata": {},
   "source": [
    "所以$N\\ge45$即可"
   ]
  },
  {
   "cell_type": "markdown",
   "metadata": {},
   "source": [
    "#### Problem 2\n",
    "\n",
    "这题实际上是Learning from data Exercise 3.3以及Problem 3.10的结论，这里一并给出。\n",
    "\n",
    "(1)$H$是对称矩阵\n",
    "\n",
    "(2)$H^K=H$ ($K$为任意正整数)\n",
    "\n",
    "(3)$H$的特征值$\\in\\{0,1\\}$\n",
    "\n",
    "(4)$H$是半正定矩阵\n",
    "\n",
    "(5)$trace(H) = d +1$\n",
    "\n",
    "(6)$H$有$d+1$个特征值为$1$\n",
    "\n",
    "(1)\n",
    "$$\n",
    "\\begin{aligned}\n",
    "H^T&=(X(X^TX)^{-1}X^T)^T\n",
    "\\\\&=X((X^TX)^{-1})^TX^T\n",
    "\\\\&=X((X^TX)^T)^{-1}X^T\n",
    "\\\\&=X(X^TX)^{-1}X^T\n",
    "\\\\&=H\n",
    "\\end{aligned}\n",
    "$$\n",
    "(2)直接验证即可，先来看$K=2$的情形\n",
    "$$\n",
    "\\begin{aligned}\n",
    "H^2&=X(X^TX)^{-1}X^TX(X^TX)^{-1}X^T\n",
    "\\\\&=X(X^TX)^{-1}X^T\n",
    "\\\\&=H\n",
    "\\end{aligned}\n",
    "$$\n",
    "那么对于任意$K$\n",
    "$$\n",
    "\\begin{aligned}\n",
    "H^K&=H^2H^{K-2}\n",
    "\\\\&=HH^{K-2}\n",
    "\\\\&=H^{K-1}\n",
    "\\\\&=...\n",
    "\\\\&=H\n",
    "\\end{aligned}\n",
    "$$\n",
    "(3)因为$H^K=H$，所以对于​$H$的任意特征值$\\lambda$\n",
    "$$\n",
    "\\lambda^K=\\lambda 恒成立\n",
    "\\\\\\lambda=0或1\n",
    "$$\n",
    "(4)$H$为对称矩阵且特征值$\\in\\{0,1\\}$，所以由线性代数知识可知$H$半正定\n",
    "\n",
    "(5)利用迹(trace)的性质$trace(AB) = trace(BA)$\n",
    "$$\n",
    "\\begin{aligned}\n",
    "trace(H)&=trace(X(X^TX)^{-1}X^T)\n",
    "\\\\&=trace(X^TX(X^TX)^{-1})\n",
    "\\\\&=trace(I_{d+1})(注意H^TH为(d+1)\\times (d+1)阶矩阵)\n",
    "\\\\&=d+1\n",
    "\\end{aligned}\n",
    "$$\n",
    "(6)我们知道对称矩阵必然相似于对角阵，所以存在可逆矩阵$P$，使得$H=P^{-1}AP$，那么\n",
    "$$\n",
    "d+1=trace(H)=trace(P^{-1}AP)=tr(PP^{-1}A)=tr(A)\n",
    "$$\n",
    "而$A$为由$0,1$构成的对角阵(因为$A$和$H$相似且$H$的特征值$\\in\\{0,1\\}$)，所以$H$一共有$d+1$个特征值为$1$\n",
    "\n",
    "有了以上结论，看此题的选项就很轻松了。\n",
    "\n",
    "(a),(d),(e)成立，(c)错误，稍微要看一下的是(b)，我们知道$H$的特征值$\\in\\{0,1\\}$，所以$H$不一定可逆，因此(b)也错误。\n",
    "\n"
   ]
  },
  {
   "cell_type": "markdown",
   "metadata": {},
   "source": [
    "#### Problem 3\n",
    "\n",
    "先对原式进行变形\n",
    "$$\n",
    "[\\![y\\neq sign(w^Tx)]\\!] \\Longleftrightarrow[\\![y^2\\neq ysign(w^Tx)]\\!]\\Longleftrightarrow[\\![1\\neq sign(yw^Tx)]\\!]\n",
    "$$\n",
    "令$s=yw^Tx$，所以几个误差分别可以写成\n",
    "$$\n",
    "err_1=[\\![sign(s) \\neq 1]\\!]\n",
    "\\\\err_2=max(0,1-s)\n",
    "\\\\err_3=(max(0,1-s))^2\n",
    "\\\\err_4=(max(0,-s))\n",
    "\\\\err_5=\\theta(-s)=\\frac{e^{-s}}{1+e^{-s}}=\\frac{1}{1+e^{s}}\n",
    "\\\\err_6=e^{-s}\n",
    "$$\n",
    "接着作图。"
   ]
  },
  {
   "cell_type": "code",
   "execution_count": 6,
   "metadata": {},
   "outputs": [
    {
     "data": {
      "image/png": "[encoded data removed]",
      "text/plain": [
       "<matplotlib.figure.Figure at 0x1bff865d940>"
      ]
     },
     "metadata": {},
     "output_type": "display_data"
    }
   ],
   "source": [
    "import numpy as np\n",
    "import matplotlib.pyplot as plt\n",
    "plt.rcParams['font.sans-serif']=['SimHei'] #用来正常显示中文标签\n",
    "plt.rcParams['axes.unicode_minus']=False #用来正常显示负号\n",
    "\n",
    "#构造损失函数\n",
    "def e1(s):\n",
    "    if s>0:\n",
    "        return 0\n",
    "    else:\n",
    "        return 1\n",
    "\n",
    "def e2(s):\n",
    "    return max(0,1-s)\n",
    "\n",
    "def e3(s):\n",
    "    t=max(0,1-s)\n",
    "    return t**2\n",
    "\n",
    "def e4(s):\n",
    "    return max(0,-s)\n",
    "\n",
    "def e5(s):\n",
    "    return 1/(1+np.exp(s))\n",
    "\n",
    "def e6(s):\n",
    "    return np.exp(-s)\n",
    "\n",
    "x=np.arange(-1,1,0.01)\n",
    "\n",
    "y1=[e1(i) for i in x]\n",
    "y2=[e2(i) for i in x]\n",
    "y3=[e3(i) for i in x]\n",
    "y4=[e4(i) for i in x]\n",
    "y5=[e5(i) for i in x]\n",
    "y6=[e6(i) for i in x]\n",
    "\n",
    "plt.plot(x,y1,label='e1')\n",
    "plt.plot(x,y2,label='e2')\n",
    "plt.plot(x,y3,label='e3')\n",
    "plt.plot(x,y4,label='e4')\n",
    "plt.plot(x,y5,label='e5')\n",
    "plt.plot(x,y6,label='e6')\n",
    "plt.legend()\n",
    "plt.title('损失函数比较')\n",
    "plt.show()"
   ]
  },
  {
   "cell_type": "markdown",
   "metadata": {},
   "source": [
    "因此e2,e3,e6,即(a),(b),(e)为$[\\![y\\neq sign(w^Tx)]\\!]$的上界"
   ]
  },
  {
   "cell_type": "markdown",
   "metadata": {},
   "source": [
    "#### Problem 4\n",
    "\n",
    "这题要找哪些函数不是处处可导，(d),(e)显然是处处可导的，因为$f(s)=max\\{0,s\\}$在原点不可导，所以(a),(c)不可导，唯一有点疑问的是(b)，我们来看下$f(s)=(max(0,s))^2$\n",
    "$$\n",
    "f(s)=\\begin{cases}\n",
    "s^2(s\\ge0)\n",
    "\\\\0(s<0)\n",
    "\\end{cases}\n",
    "$$\n",
    "显然这个函数也是可导的，所以由复合函数的性质可知(b)也可导。因此这题选(a)(c)"
   ]
  },
  {
   "cell_type": "markdown",
   "metadata": {},
   "source": [
    "#### Problem 5\n",
    "\n",
    "$err(w) = max(0, -y_nw^Tx_n)$的意思是对于分类正确的点$err(w)=0$，对于分类不正确的点$err(w)=-y_nw^Tx_n $，我们来求梯度(不考虑不可导点)\n",
    "$$\n",
    "\\frac {\\partial(-y_nw^Tx_n)}{\\partial w_i}=-y_nx^{(i)}_n(x^{(i)}_n表示x_n的第i个分量)\n",
    "\\\\\\nabla(-y_nw^Tx_n)=-y_nx_n\n",
    "$$\n",
    "所以对于分类错误的点$(x_n,y_n)$，根据SGD,更新规则为\n",
    "$$\n",
    "w(t+1)=w(t)+\\eta(-\\nabla(-y_nw^Tx_n))=w(t)+\\eta y_nx_n\n",
    "$$\n",
    "所以PLA可以被看成$err(w) = max(0, -y_nw^Tx_n)$的SGD"
   ]
  },
  {
   "cell_type": "markdown",
   "metadata": {},
   "source": [
    "#### Problem 6\n",
    "\n",
    "$$\n",
    "\\frac{\\partial E(u,v)}{\\partial u}|_{(u,v)=(0,0)}=e^u+ve^{uv}+2u-2v-3 |_{(u,v)=(0,0)}=-2\n",
    "\\\\ \\frac{\\partial E(u,v)}{\\partial v}|_{(u,v)=(0,0)}=2e^{2v}+ue^{uv}-2u+4v-2|_{(u,v)=(0,0)}=0\n",
    "$$\n",
    "\n",
    "所以\n",
    "$$\n",
    "\\nabla E(u, v)=(-2,0)^T\n",
    "$$\n"
   ]
  },
  {
   "cell_type": "markdown",
   "metadata": {},
   "source": [
    "#### Problem 7\n",
    "\n",
    "编程处理即可,需要利用刚刚的偏导数公式，答案为2.82500035668"
   ]
  },
  {
   "cell_type": "code",
   "execution_count": 1,
   "metadata": {},
   "outputs": [
    {
     "name": "stdout",
     "output_type": "stream",
     "text": [
      "2.82500035668\n"
     ]
    }
   ],
   "source": [
    "import numpy as np\n",
    "\n",
    "def E(u,v):\n",
    "    return np.exp(u)+np.exp(2*v)+np.exp(u*v)+u*u-2*u*v+2*(v*v)-3*u-2*v\n",
    "\n",
    "def partial(point):\n",
    "    u=point[0]\n",
    "    v=point[1]\n",
    "    pu=np.exp(u)+v*np.exp(u*v)+2*u-2*v-3\n",
    "    pv=2*np.exp(2*v)+u*np.exp(u*v)-2*u+4*v-2\n",
    "    return np.array([pu,pv])\n",
    "\n",
    "point=np.zeros(2)\n",
    "eta=0.01\n",
    "\n",
    "for i in range(5):\n",
    "    point-=eta*partial(point)\n",
    "    \n",
    "print(E(point[0],point[1]))"
   ]
  },
  {
   "cell_type": "markdown",
   "metadata": {},
   "source": [
    "#### Problem 8\n",
    "\n",
    "这题需要用到多元泰勒公式，可以参考[维基百科](https://zh.wikipedia.org/wiki/%E6%B3%B0%E5%8B%92%E5%85%AC%E5%BC%8F#%E5%A4%9A%E5%85%83%E6%B3%B0%E5%8B%92%E5%85%AC%E5%BC%8F)\n",
    "$$\n",
    "b_{uu} =\\frac 1 2\\frac{\\partial^2 E(u,v)}{\\partial u^2}=\\frac 1 2\\frac{\\partial}{\\partial u}\\frac{\\partial E(u,v)}{\\partial u}=\\frac 1 2\\frac{\\partial (e^u+ve^{uv}+2u-2v-3) } {\\partial u}=\\frac 1 2(e^u+v^2e^{uv}+2)\n",
    "\\\\b_{vv}=\\frac 1 2\\frac{\\partial^2 E(u,v)}{\\partial v^2}=\\frac 1 2\\frac{\\partial}{\\partial v}\\frac{\\partial E(u,v)}{\\partial v}=\\frac 1 2\\frac{\\partial{(2e^{2v}+ue^{uv}-2u+4v-2)}}{\\partial v}=\\frac 12 (4e^{2v}+u^2e^{uv}+4)\n",
    "\\\\ b_{uv}=\\frac{\\partial^2 E(u,v)}{\\partial u \\partial v}=\\frac{\\partial(e^u+ve^{uv}+2u-2v-3)}{\\partial v}=(e^{uv}+uve^{uv}-2)\n",
    "\\\\b_{u} =\\frac{\\partial E(u,v)}{\\partial u}=e^u+ve^{uv}+2u-2v-3\n",
    "\\\\b_{v}=\\frac{\\partial E(u,v)}{\\partial v}=2e^{2v}+ue^{uv}-2u+4v-2\n",
    "\\\\b=E(u,v)\n",
    "$$\n",
    "将$u=v=0$带入可得\n",
    "$$\n",
    "b_{uu}=\\frac 3 2\n",
    "\\\\b_{vv}=4\n",
    "\\\\b_{uv}=-1\n",
    "\\\\b_u=-2\n",
    "\\\\b_v=0\n",
    "\\\\b=3\n",
    "$$\n"
   ]
  },
  {
   "cell_type": "markdown",
   "metadata": {},
   "source": [
    "#### Problem 9\n",
    "\n",
    "由题设我们知道Hessian矩阵正定，此处的Hessian矩阵为\n",
    "$$\n",
    "\\nabla^2 E(u, v)=\n",
    "\\left[\n",
    " \\begin{matrix}\n",
    " \\frac{\\partial^2 E(u,v)}{\\partial u^2} &   \\frac{\\partial^2 E(u,v)}{\\partial u \\partial v}  \\\\\n",
    "   \\frac{\\partial^2 E(u,v)}{\\partial u \\partial v} &  \\frac{\\partial^2 E(u,v)}{\\partial v^2}\n",
    "  \\end{matrix}\n",
    "  \\right]\n",
    "$$\n",
    "那么最优方向为\n",
    "$$\n",
    "\\left[\\begin{matrix} \n",
    "\\Delta u^*\n",
    "\\\\ \\Delta v^*\n",
    "\\end{matrix}\\right] \n",
    "=- (\\nabla^2 E(u, v))^{-1}\\nabla E(u, v)\n",
    "$$\n",
    "一般性的结论可以参考凸优化的课本，关于这题可以简单证明下。\n",
    "\n",
    "现在要对$\\hat E_2(\\Delta u, \\Delta v)=b_{uu}(\\Delta u)^2+b_{vv}(\\Delta v)^2+b_{uv}(\\Delta u)(\\Delta v)+b_u\\Delta u + b_v\\Delta v + b$求最小值，令$\\Delta u =t,\\Delta v=s$\n",
    "$$\n",
    "\\begin{aligned}\n",
    "\\hat E_2(\\Delta u, \\Delta v)&=b_{uu}(\\Delta u)^2+b_{vv}(\\Delta v)^2+b_{uv}(\\Delta u)(\\Delta v)+b_u\\Delta u + b_v\\Delta v + b\n",
    "\\\\&=b_{uu} t^2+b_{vv}(s^2)+b_{uv}st+b_ut+b_vs+b\n",
    "\\end{aligned}\n",
    "$$\n",
    "由Hessian矩阵的正定性我们知道\n",
    "$$\n",
    "2b_{uu}= \\frac{\\partial^2 E(u,v)}{\\partial u^2}>0\n",
    "\\\\ 2b_{vv}= \\frac{\\partial^2 E(u,v)}{\\partial v^2}>0\n",
    "\\\\ \\frac{\\partial^2 E(u,v)}{\\partial u^2} \\frac{\\partial^2 E(u,v)}{\\partial u^2}-  (\\frac{\\partial^2 E(u,v)}{\\partial u \\partial v})^2=4b_{uu}b_{uv}-b_{uv}^2>0\n",
    "$$\n",
    "所以可以对$\\hat E_2(\\Delta u, \\Delta v)$进行配方(二次项系数不为$0$)，配方得\n",
    "$$\n",
    "\\begin{aligned}\n",
    "\\hat E_2(\\Delta u, \\Delta v)&=b_{uu} t^2+b_{vv}(s^2)+b_{uv}st+b_ut+b_vs+b\n",
    "\\\\&=b_{uu}(t-a)^2+b_{vv}(s-b)^2+b_{uv}(s-a)(t-b)+C\n",
    "\\end{aligned}\n",
    "$$\n",
    "其中$a,b,C$均为常数，后续会求解出来，令$t_1=t-a,s_1=s-b$\n",
    "$$\n",
    "\\begin{aligned}\n",
    "\\hat E_2(\\Delta u, \\Delta v)&=b_{uu}t_1^2+b_{vv}s_1^2+b_{uv}t_1s_1+C\n",
    "\\\\&=b_{uu}(t_1+\\frac{b_{uv}}{2b_{uu}}s_1)^2+(b_{vv}-\\frac{b_{uv}^2}{4b_{uu}})s_1^2+C\n",
    "\\end{aligned}\n",
    "$$\n",
    "之前已经有$b_{uu}>0,b_{vv}>0,4b_{uu}b_{uv}-b_{uv}^2>0$，所以\n",
    "$$\n",
    "b_{vv}-\\frac{b_{uv}^2}{4b_{uu}}=\\frac{4b_{uu}b_{vv}-b_{uv}^2}{4b_{uu}}>0\n",
    "$$\n",
    "从而\n",
    "$$\n",
    "\\hat E_2(\\Delta u, \\Delta v)\\ge C\n",
    "\\\\当且仅当t_1+\\frac{b_{uv}}{2b_{uu}}s_1=0,s_1=0时等号成立\n",
    "\\\\即t_1=s_1=0\n",
    "$$\n",
    "因为$t_1=t-a,s_1=s-b,\\Delta u =t,\\Delta v=s$，所以等号成立条件为\n",
    "$$\n",
    "\\Delta u= t=a,\\Delta v=s=b\n",
    "$$\n",
    "接下来求解$a,b$\n",
    "$$\n",
    "\\begin{aligned}\n",
    "b_{uu}(t-a)^2+b_{vv}(s-b)^2+b_{uv}(t-a)(s-b)+C&=b_{uu}(t^2-2at+a^2)+b_{vv}(s^2-2sb+b^2)+b_{uv}(st-as-bt+ab)+C\n",
    "\\\\&=b_{uu}t^2+b_{vv}s^2+b_{uv}st-(2ab_{uu}+bb_{uv})t-(2bb_{vv}+ab_{uv})s+C^{'}\n",
    "\\\\&=b_{uu} t^2+b_{vv}s^2+b_{uv}st+b_ut+b_vs+b\n",
    "\\end{aligned}\n",
    "$$\n",
    "那么\n",
    "$$\n",
    "\\begin{cases}\n",
    "-2b_{uu}a-b_{uv}b=b_u\n",
    "\\\\-b_{uv}a-2b_{vv}b=b_v\n",
    "\\end{cases}\n",
    "\\\\\n",
    "\\left[\n",
    "\\begin{matrix}\n",
    "-2b_{uu} &   -b_{uv}  \\\\\n",
    "-b_{uv}  &   -2b_{vv} \n",
    "\\end{matrix}\n",
    "\\right]\n",
    "\\left[\\begin{matrix} \n",
    "a\n",
    "\\\\ b\n",
    "\\end{matrix}\\right]\n",
    "=\n",
    "\\left[\\begin{matrix} \n",
    "b_u\\\\b_v\n",
    "\\end{matrix}\\right]\n",
    "\\\\\n",
    "$$\n",
    "回顾之前的等式\n",
    "$$\n",
    "2b_{uu}= \\frac{\\partial^2 E(u,v)}{\\partial u^2}, 2b_{vv}= \\frac{\\partial^2 E(u,v)}{\\partial v^2},b_{uv}=\\frac{\\partial^2 E(u,v)}{\\partial u \\partial v}\n",
    "\\\\b_{u} =\\frac{\\partial E(u,v)}{\\partial u},b_{v}=\\frac{\\partial E(u,v)}{\\partial v}\n",
    "\\\\\n",
    "\\nabla^2 E(u, v)=\n",
    "\\left[\n",
    " \\begin{matrix}\n",
    " \\frac{\\partial^2 E(u,v)}{\\partial u^2} &   \\frac{\\partial^2 E(u,v)}{\\partial u \\partial v}  \\\\\n",
    "   \\frac{\\partial^2 E(u,v)}{\\partial u \\partial v} &  \\frac{\\partial^2 E(u,v)}{\\partial v^2}\n",
    "  \\end{matrix}\n",
    "  \\right]\n",
    "  \\\\\n",
    "  \\nabla E(u, v)=\n",
    "\\left[\n",
    " \\begin{matrix}\n",
    " \\frac{\\partial E(u,v)}{\\partial u}  \\\\\n",
    "\\frac{\\partial E(u,v)}{\\partial v}\n",
    "  \\end{matrix}\n",
    "  \\right]\n",
    "$$\n",
    "原方程可化为\n",
    "$$\n",
    "-\\left[\n",
    "\\begin{matrix}\n",
    "\\frac{\\partial^2 E(u,v)}{\\partial u^2}&   \\frac{\\partial^2 E(u,v)}{\\partial u \\partial v} \\\\\n",
    "\\frac{\\partial^2 E(u,v)}{\\partial u \\partial v}  &    \\frac{\\partial^2 E(u,v)}{\\partial v^2}\n",
    "\\end{matrix}\n",
    "\\right]\n",
    "\\left[\\begin{matrix} \n",
    "a \\\\\n",
    " b\n",
    "\\end{matrix}\\right]\n",
    "=\n",
    "\\left[\\begin{matrix} \n",
    "\\frac{\\partial E(u,v)}{\\partial u} \\\\\\frac{\\partial E(u,v)}{\\partial v}\n",
    "\\end{matrix}\\right]\n",
    "\\\\   \n",
    "\\left[\\begin{matrix} \n",
    "\\Delta u^*\n",
    "\\\\ \\Delta v^*\n",
    "\\end{matrix}\\right] =\n",
    "\\left[\\begin{matrix} \n",
    "a \\\\ b\n",
    "\\end{matrix}\\right]\n",
    "=- (\\nabla^2 E(u, v))^{-1}\\nabla E(u, v)\n",
    "$$\n",
    "这样就验证了牛顿方法的正确性。"
   ]
  },
  {
   "cell_type": "markdown",
   "metadata": {
    "collapsed": true
   },
   "source": [
    "#### Problem 10\n",
    "\n",
    "有了公式之后编程实现即可\n"
   ]
  },
  {
   "cell_type": "code",
   "execution_count": 2,
   "metadata": {},
   "outputs": [
    {
     "name": "stdout",
     "output_type": "stream",
     "text": [
      "2.36082334564\n"
     ]
    }
   ],
   "source": [
    "import numpy as np\n",
    "from numpy.linalg import inv\n",
    "\n",
    "def E(u,v):\n",
    "    return np.exp(u)+np.exp(2*v)+np.exp(u*v)+u*u-2*u*v+2*(v*v)-3*u-2*v\n",
    "\n",
    "def partial(point):\n",
    "    u=point[0]\n",
    "    v=point[1]\n",
    "    pu=np.exp(u)+v*np.exp(u*v)+2*u-2*v-3\n",
    "    pv=2*np.exp(2*v)+u*np.exp(u*v)-2*u+4*v-2\n",
    "    return np.array([pu,pv])\n",
    "\n",
    "def dpartial(point):\n",
    "    u=point[0]\n",
    "    v=point[1]\n",
    "    puu=np.exp(u)+np.exp(u*v)*(v**2)+2\n",
    "    pvv=4*np.exp(2*v)+np.exp(u*v)*(u**2)+4\n",
    "    puv=np.exp(u*v)*(1+u*v)-2\n",
    "    return np.array([[puu,puv],[puv,pvv]])\n",
    "\n",
    "point=np.zeros(2)\n",
    "eta=0.01\n",
    "\n",
    "for i in range(5):\n",
    "    point-=inv(dpartial(point)).dot(partial(point))\n",
    "    \n",
    "print(E(point[0],point[1]))"
   ]
  },
  {
   "cell_type": "markdown",
   "metadata": {},
   "source": [
    "#### Problem 11\n",
    "\n",
    "这题问的是这六个点能否被直线和二次曲线shatter，比较简单，作图即可，这六个点可以被shatter."
   ]
  },
  {
   "cell_type": "markdown",
   "metadata": {
    "collapsed": true
   },
   "source": [
    "#### Problem 12\n",
    "\n",
    "先回顾题意，假设有$N$个点$x_1,...x_N,x\\in R^d$，现在构造这样一个$R^d$到$R^N$的映射\n",
    "$$\n",
    "(Φ(x))_n = z_n = [\\![x = x_n]\\!]\n",
    "$$\n",
    "这题有点抽象，我们举$N=3$的例子看一下\n",
    "$$\n",
    "\\begin{aligned}\n",
    "Φ(x_1)&=((Φ(x_1))_1,(Φ(x_1))_2,(Φ(x_1))_3)\n",
    "\\\\&=([\\![x_1 = x_1]\\!],[\\![x_1 = x_2]\\!],[\\![x_1 = x_3]\\!])\n",
    "\\\\&=(1,0,0)\n",
    "\\end{aligned}\n",
    "$$\n",
    "所以其实这题很简单，是将$N$个$R^d$空间上的点映射到$R^N$上，我们知道$R^N$上感知机的$d_{vc}=N+1$，所以$N$个点一定能被shatter,所以\n",
    "$$\n",
    "d_{vc}(H_Φ)=+\\infty\n",
    "$$\n"
   ]
  },
  {
   "cell_type": "markdown",
   "metadata": {
    "collapsed": true
   },
   "source": [
    "这里先根据题意产生一组点，作图看一下"
   ]
  },
  {
   "cell_type": "code",
   "execution_count": 4,
   "metadata": {},
   "outputs": [
    {
     "data": {
      "image/png": "[encoded data removed]",
      "text/plain": [
       "<matplotlib.figure.Figure at 0x28130e95e80>"
      ]
     },
     "metadata": {},
     "output_type": "display_data"
    }
   ],
   "source": [
    "import numpy as np\n",
    "import matplotlib.pyplot as plt\n",
    "plt.rcParams['font.sans-serif']=['SimHei'] #用来正常显示中文标签\n",
    "plt.rcParams['axes.unicode_minus']=False #用来正常显示负号\n",
    "\n",
    "#产生n组点\n",
    "def generate(n):\n",
    "    data=[]\n",
    "    for i in range(n):\n",
    "        x=np.random.uniform(-1,1)\n",
    "        y=np.random.uniform(-1,1)\n",
    "        flag=np.sign(x*x+y*y-0.6)\n",
    "        p=np.random.random()\n",
    "        if (p<0.1):\n",
    "            flag*=-1\n",
    "        data.append([x,y,flag])\n",
    "    return data\n",
    "        \n",
    "data=generate(1000)\n",
    "\n",
    "x1=[i[0] for i in data if i[-1]>0]\n",
    "y1=[i[1] for i in data if i[-1]>0]\n",
    "x2=[i[0] for i in data if i[-1]<0]\n",
    "y2=[i[1] for i in data if i[-1]<0]\n",
    "\n",
    "plt.scatter(x1,y1,s=1)\n",
    "plt.scatter(x2,y2,s=1)\n",
    "plt.show()"
   ]
  },
  {
   "cell_type": "markdown",
   "metadata": {},
   "source": [
    "#### Problem 13\n",
    "\n",
    "这题直接对数据做回归，需要模拟1000次。这里利用了公式来求回归的结果\n",
    "$$\n",
    "w=(X^TX)^{-1}X^Ty\n",
    "$$\n",
    "\n"
   ]
  },
  {
   "cell_type": "code",
   "execution_count": 10,
   "metadata": {},
   "outputs": [
    {
     "name": "stdout",
     "output_type": "stream",
     "text": [
      "0.50336\n"
     ]
    },
    {
     "data": {
      "image/png": "[encoded data removed]",
      "text/plain": [
       "<matplotlib.figure.Figure at 0x28130d7bb00>"
      ]
     },
     "metadata": {},
     "output_type": "display_data"
    }
   ],
   "source": [
    "from numpy.linalg import inv\n",
    "\n",
    "Ein=np.array([])\n",
    "for i in range(1000):\n",
    "    data=generate(1000)\n",
    "    X=np.array([[1]+i[:-1] for i in data])\n",
    "    Y=np.array([i[-1] for i in data])\n",
    "\n",
    "    w=inv(X.T.dot(X)).dot(X.T).dot(Y)\n",
    "\n",
    "    error=np.sum(np.sign(X.dot(w)*Y)<0)/1000\n",
    "    Ein=np.append(Ein,error)\n",
    "\n",
    "print(np.average(Ein))\n",
    "plt.hist(Ein)\n",
    "plt.title('Ein without feature transform')\n",
    "plt.show()"
   ]
  },
  {
   "cell_type": "markdown",
   "metadata": {},
   "source": [
    "所以$E_{in}$的均值约为$0.5$"
   ]
  },
  {
   "cell_type": "markdown",
   "metadata": {},
   "source": [
    "#### Problem 14\n",
    "\n",
    "先做特征转换，再重复上题的步骤，画出$\\tilde w_3$的直方图，这里把15题的任务一起做了。"
   ]
  },
  {
   "cell_type": "code",
   "execution_count": 27,
   "metadata": {
    "scrolled": true
   },
   "outputs": [
    {
     "data": {
      "image/png": "[encoded data removed]",
      "text/plain": [
       "<matplotlib.figure.Figure at 0x281313f9908>"
      ]
     },
     "metadata": {},
     "output_type": "display_data"
    },
    {
     "name": "stdout",
     "output_type": "stream",
     "text": [
      "[ -9.92410543e-01   1.64976493e-03  -6.48205307e-04   1.52070206e-04\n",
      "   1.55620104e+00   1.55888923e+00]\n",
      "w3的平均值0.000152070206015\n"
     ]
    }
   ],
   "source": [
    "W=[]\n",
    "Eout=np.array([])\n",
    "for i in range(1000):\n",
    "    data=generate(1000)\n",
    "    X=np.array([[1]+i[:-1]+[i[0]*i[1],i[0]**2,i[1]**2] for i in data])\n",
    "    Y=np.array([i[-1] for i in data])\n",
    "    \n",
    "    w=inv(X.T.dot(X)).dot(X.T).dot(Y)\n",
    "    \n",
    "    #测试数据\n",
    "    data1=generate(1000)\n",
    "    X1=np.array([[1]+i[:-1]+[i[0]*i[1],i[0]**2,i[1]**2] for i in data1])\n",
    "    Y1=np.array([i[-1] for i in data1])\n",
    "\n",
    "    error=np.sum(np.sign(X1.dot(w)*Y1)<0)/1000\n",
    "    Eout=np.append(Eout,error)\n",
    "    \n",
    "    #记录w\n",
    "    W.append(w)\n",
    "\n",
    "W=np.array(W)\n",
    "w3=np.array([i[3] for i in W])\n",
    "plt.hist(w3)\n",
    "plt.title('w3')\n",
    "plt.show()\n",
    "\n",
    "print(W.mean(axis=0))\n",
    "print(\"w3的平均值\"+str(w3.mean()))"
   ]
  },
  {
   "cell_type": "markdown",
   "metadata": {},
   "source": [
    "#### Problem 15\n",
    "\n",
    "做出$E_{out}$的直方图"
   ]
  },
  {
   "cell_type": "code",
   "execution_count": 28,
   "metadata": {
    "scrolled": true
   },
   "outputs": [
    {
     "data": {
      "image/png": "[encoded data removed]",
      "text/plain": [
       "<matplotlib.figure.Figure at 0x28131437898>"
      ]
     },
     "metadata": {},
     "output_type": "display_data"
    },
    {
     "name": "stdout",
     "output_type": "stream",
     "text": [
      "0.125974\n"
     ]
    }
   ],
   "source": [
    "plt.hist(Eout)\n",
    "plt.title('Eout with feature transform')\n",
    "plt.show()\n",
    "print(Eout.mean())"
   ]
  },
  {
   "cell_type": "markdown",
   "metadata": {},
   "source": [
    "所以$E_{out}$的平均值为0.126左右"
   ]
  },
  {
   "cell_type": "markdown",
   "metadata": {},
   "source": [
    "#### Problem 16\n",
    "\n",
    "这题实际上是多元Logistic回归，同课件里的例子，我们要最大化似然函数，这等价于题目中所说的最小化负的对数似然函数，先把似然函数求解出来\n",
    "$$\n",
    "L=\\prod_{j=1}^{N}\\frac{exp(w_{y_j}^T x_j)}{\\sum_{i=1}^K exp(w_i^T x_j)}\n",
    "\\\\ln(L)=\\sum_{j=1}^{N}[ln(exp(w_{y_j}^T x_j))-ln(\\sum_{i=1}^K exp(w_i^T x_j))]=\\sum_{j=1}^{N}[w_{y_j}^T x_j-ln(\\sum_{i=1}^K exp(w_i^T x_j))]\n",
    "$$\n",
    "所以只要最小化\n",
    "$$\n",
    "E_{in}=-\\frac{ln(L)}{N}=\\frac 1 N\\sum_{j=1}^{N}[ln(\\sum_{i=1}^K exp(w_i^T x_j))-w_{y_j}^T x_j]\n",
    "$$\n",
    "即可"
   ]
  },
  {
   "cell_type": "markdown",
   "metadata": {},
   "source": [
    "#### Problem 17\n",
    "\n",
    "求偏导即可\n",
    "$$\n",
    "\\begin{aligned}\n",
    "\\frac {\\partial E_{in}}{\\partial w_n}&=\\frac  {\\partial (\\frac 1 N\\sum_{j=1}^{N}[ln(\\sum_{i=1}^K exp(w_i^T x_j))-w_{y_j}^T x_j])}{\\partial w_n}\n",
    "\\\\&=\\frac 1N\\sum_{j=1}^{N}( \\frac{exp(w_n^Tx_j) x_j}{\\sum_{i=1}^K exp(w_i^T x_j)}-[\\![y_j=n]\\!]x_j)\n",
    "\\\\&=\\frac 1N\\sum_{j=1}^{N}(h_n(x_j)-[\\![y_j=n]\\!])x_j\n",
    "\\end{aligned}\n",
    "$$"
   ]
  },
  {
   "cell_type": "markdown",
   "metadata": {},
   "source": [
    "#### Problem 18\n",
    "\n",
    "使用梯度下降公式\n",
    "$$\n",
    "\\begin{aligned}\n",
    "\\nabla E_{in}(w)\n",
    "&=-\\frac 1N \\sum_{n=1}^N\\frac{y_nx_n}{1+e^{y_nw^Tx_n}}\n",
    "\\\\&=\\frac 1N \\sum_{n=1}^N-{y_nx_n}\\theta(-y_nw^Tx_n)\n",
    "\\end{aligned}\n",
    "$$\n"
   ]
  },
  {
   "cell_type": "code",
   "execution_count": 3,
   "metadata": {
    "scrolled": true
   },
   "outputs": [
    {
     "name": "stdout",
     "output_type": "stream",
     "text": [
      "0.475\n",
      "[ 0.01878417 -0.01260595  0.04084862 -0.03266317  0.01502334 -0.03667437\n",
      "  0.01255934  0.04815065 -0.02206419  0.02479605  0.06899284  0.0193719\n",
      " -0.01988549 -0.0087049   0.04605863  0.05793382  0.061218   -0.04720391\n",
      "  0.06070375 -0.01610907 -0.03484607]\n"
     ]
    }
   ],
   "source": [
    "import numpy as np\n",
    "\n",
    "train=[]\n",
    "test=[]\n",
    "\n",
    "#数据读入\n",
    "with open('hw3_train.dat') as file:\n",
    "    for i in file.readlines():\n",
    "        train.append([1]+list(map(float,i.strip().split(' '))))\n",
    "\n",
    "with open('hw3_test.dat') as file:\n",
    "    for i in file.readlines():\n",
    "        test.append([1]+list(map(float,i.strip().split(' '))))\n",
    "        \n",
    "train=np.array(train)\n",
    "test=np.array(test)\n",
    "\n",
    "#定义函数\n",
    "def f(y,w,x):\n",
    "    temp=y*w.dot(x)\n",
    "    return (-y*x)/(np.exp(temp)+1)\n",
    "\n",
    "def sig(w,x):\n",
    "    return 1/(math.exp(-w.dot(x))+1)\n",
    "\n",
    "#数据维度\n",
    "m=train.shape[1]-1\n",
    "#数据组数\n",
    "n=train.shape[0]\n",
    "\n",
    "w=np.zeros(m)\n",
    "k=0.001\n",
    "\n",
    "for i in range(2000):\n",
    "    s=np.zeros(m)\n",
    "    for j in range(n):\n",
    "        s+=f(train[j][-1],w,train[j][:-1])\n",
    "    s=s/n\n",
    "    w-=k*s\n",
    "\n",
    "#计算Xw\n",
    "r1=test[:,:-1].dot(w)\n",
    "#计算sign(Xw)\n",
    "r2=np.sign(r1)\n",
    "#求出误差\n",
    "print((r2!=test[:,-1]).sum()/test.shape[0])\n",
    "print(w)"
   ]
  },
  {
   "cell_type": "markdown",
   "metadata": {},
   "source": [
    "所以$E_{out}$为0.475"
   ]
  },
  {
   "cell_type": "markdown",
   "metadata": {},
   "source": [
    "#### Problem 19\n",
    "\n",
    "取$\\eta=0.01$"
   ]
  },
  {
   "cell_type": "code",
   "execution_count": 4,
   "metadata": {
    "scrolled": true
   },
   "outputs": [
    {
     "name": "stdout",
     "output_type": "stream",
     "text": [
      "0.22\n",
      "[-0.00385379 -0.18914564  0.26625908 -0.35356593  0.04088776 -0.3794296\n",
      "  0.01982783  0.33391527 -0.26386754  0.13489328  0.4914191   0.08726107\n",
      " -0.25537728 -0.16291797  0.30073678  0.40014954  0.43218808 -0.46227968\n",
      "  0.43230193 -0.20786372 -0.36936337]\n"
     ]
    }
   ],
   "source": [
    "w=np.zeros(m)\n",
    "k=0.01\n",
    "\n",
    "for i in range(2000):\n",
    "    s=np.zeros(m)\n",
    "    for j in range(n):\n",
    "        s+=f(train[j][-1],w,train[j][:-1])\n",
    "    s=s/n\n",
    "    w-=k*s\n",
    "\n",
    "#计算Xw\n",
    "r1=test[:,:-1].dot(w)\n",
    "#计算sign(Xw)\n",
    "r2=np.sign(r1)\n",
    "#求出误差\n",
    "print((r2!=test[:,-1]).sum()/test.shape[0])\n",
    "print(w)"
   ]
  },
  {
   "cell_type": "markdown",
   "metadata": {},
   "source": [
    "所以$E_{out}$为0.22"
   ]
  },
  {
   "cell_type": "markdown",
   "metadata": {},
   "source": [
    "#### Problem 20\n",
    "\n",
    "使用随机梯度下降，只要对之前的式子稍作修改即可。"
   ]
  },
  {
   "cell_type": "code",
   "execution_count": 7,
   "metadata": {
    "scrolled": true
   },
   "outputs": [
    {
     "name": "stdout",
     "output_type": "stream",
     "text": [
      "0.477\n",
      "[ 0.03102133 -0.00824134  0.05216681 -0.02260935  0.02279948 -0.03096168\n",
      "  0.01339008  0.05210572 -0.00518606  0.02777817  0.07374788  0.03573774\n",
      " -0.01246505 -0.00478996  0.04042543  0.06805246  0.07474674 -0.04407857\n",
      "  0.06226404 -0.01511765 -0.03630915]\n"
     ]
    }
   ],
   "source": [
    "w=np.zeros(m)\n",
    "k=0.001\n",
    "\n",
    "for i in range(2000):\n",
    "    j=np.random.choice(n)\n",
    "    s=f(train[j][-1],w,train[j][:-1])\n",
    "    w-=k*s\n",
    "\n",
    "#计算Xw\n",
    "r1=test[:,:-1].dot(w)\n",
    "#计算sign(Xw)\n",
    "r2=np.sign(r1)\n",
    "#求出误差\n",
    "print((r2!=test[:,-1]).sum()/test.shape[0])\n",
    "print(w)"
   ]
  },
  {
   "cell_type": "markdown",
   "metadata": {},
   "source": [
    "所以$E_{out}$为0.477"
   ]
  },
  {
   "cell_type": "markdown",
   "metadata": {
    "collapsed": true
   },
   "source": [
    "以下两题为附加题\n",
    "\n",
    "#### Problem 21\n",
    "\n",
    "先回顾题目\n",
    "$$\n",
    "h = (h(x_1), h(x_2),... , h(x_N))\\\\\n",
    "y = (y_1,y_2, ... , y_N)\\\\\n",
    "RMSE(h) =\\sqrt{\\frac 1N \\sum_{i=1}^{N}(y_n − h(x_n))^2}\n",
    "$$\n",
    "题目问的是要计算$h^Ty$，至少需要调用几次$RMSE(h) $，注意这里只知道$h$。首先肯定要求$y$，因为有$N$个未知数，所以第一感觉是要调用$N$次，但是$N=1$时就不成立，因为有平方项。所以推测调用$N$次不行，接下来证明这个结论，注意这里$h,y$为行向量，所以和一般看到的形式略有不同。\n",
    "\n",
    "对$RMSE(h) $进行改写\n",
    "$$\n",
    "\\begin{aligned}\n",
    "RMSE(h) &=\\sqrt{\\frac 1N \\sum_{i=1}^{N}(y_n − h(x_n))^2}\n",
    "\\\\&=\\sqrt{\\frac 1N ||h-y||^2}\n",
    "\\\\&=\\sqrt{\\frac 1N (h-y)(h-y)^T}\n",
    "\\\\&=\\sqrt{\\frac 1N (yy^T-2hy^T+hh^T)}\n",
    "\\end{aligned}\n",
    "$$\n",
    "两边平方移项可得\n",
    "$$\n",
    "yy^T-2hy^T+hh^T=N\\times (RMSE(h))^2\n",
    "$$\n",
    "现在对两个不同的$h_1,h_2$调用$RMSE(h) $\n",
    "$$\n",
    "yy^T-2h_1y^T+h_1h_1^T=N\\times (RMSE(h_1))^2\\\\\n",
    "yy^T-2h_2y^T+h_2h_2^T=N\\times (RMSE(h_2))^2\\\\\n",
    "两式相减可得\\\\\n",
    "2(h_2-h_1)y^T=N\\times (RMSE(h_1))^2-N\\times (RMSE(h_2))^2\n",
    "$$\n",
    "这样就得到了一个线性方程。现在对$h_1,h_2,...,h_{k}$分别调用$RMSE(h) $，计算$RMSE(h_i)-RMSE(h_1)$，其中$(i=2,...k)$，根据之前所述可以得到$k-1$个线性方程组，有如下形式\n",
    "$$\n",
    "M_1y^T=M_2\\\\\n",
    "M_1\\in R^{(k-1)\\times N},y^T\\in R^N,M_2\\in R^{k-1}\n",
    "$$\n",
    "由线性代数知识我们知道\n",
    "$$\n",
    "当r(M_1)<N时，该方程有无穷多组解，当r(M_1)=N时，该方程有唯一解，其中r(M)表示矩阵M的秩。\n",
    "$$\n",
    "所以当$k=N$时，$r(M_1)\\le k-1<N$，此时有无穷多组解，所以无法确定$y = (y_1,y_2, ... , y_N)$；当$k=N+1$时，$r(M_1)$可能为$N$，若$r(M_1)=N$，此时可以唯一解出$y = (y_1,y_2, ... , y_N)$。\n",
    "\n",
    "综上，至少需要调用$N+1$次$RMSE(h) $。\n",
    "\n"
   ]
  },
  {
   "cell_type": "markdown",
   "metadata": {},
   "source": [
    "#### Problem 22\n",
    "\n",
    "为方便叙述，这里做以下记号，注意这里为列向量，和上题有所不同\n",
    "$$\n",
    "h= \\left(\n",
    " \\begin{matrix}\n",
    "   h_1(x_1) & h_2(x_1) & ... & h_K(x_1)\\\\\n",
    "   h_1(x_2) & h_2(x_2) & ... & h_K(x_2) \\\\\n",
    "     ...  &  ...  & ... &  ...  \\\\\n",
    " h_1(x_N) & h_2(x_N) & ... & h_K(x_N)\n",
    "  \\end{matrix}\n",
    "  \\right) \\in R^{N\\times K}\\\\\n",
    "  w=(w_1,w_2,...,w_K)^T\\in R^{ K}\\\\\n",
    "  y= (y_1,y_2, ... , y_N)^T\n",
    "$$\n",
    "那么$RMSE(H) $可以表示为\n",
    "$$\n",
    "RMSE(H) =\\sqrt{\\frac 1N ||y-hw||^2}=\\sqrt{\\frac 1N (y-hw)^T(y-hw)}\n",
    "$$\n",
    "由线性回归的推导我们知道最小化$RMSE(H)$的$w$满足以下条件\n",
    "$$\n",
    "X^TXw=X^Ty\n",
    "$$\n",
    "$X$已知，$y$未知，所以求出$y$即可，由上一题我们知道至少调用$N+1$次$RMSE(H)$就可以求出$y$，所以这题也至少需要调用$N+1$次。"
   ]
  }
 ],
 "metadata": {
  "kernelspec": {
   "display_name": "Python 3",
   "language": "python",
   "name": "python3"
  },
  "language_info": {
   "codemirror_mode": {
    "name": "ipython",
    "version": 3
   },
   "file_extension": ".py",
   "mimetype": "text/x-python",
   "name": "python",
   "nbconvert_exporter": "python",
   "pygments_lexer": "ipython3",
   "version": "3.6.3"
  }
 },
 "nbformat": 4,
 "nbformat_minor": 2
}
