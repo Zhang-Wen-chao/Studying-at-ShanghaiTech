{
 "cells": [
  {
   "cell_type": "markdown",
   "metadata": {},
   "source": [
    "大家好，这篇是有关台大机器学习课程作业二的详解，题目同Coursera。\n",
    "\n",
    "我的github地址：  \n",
    "https://github.com/Doraemonzzz\n",
    "\n",
    "个人主页：  \n",
    "http://doraemonzzz.com/\n",
    "\n",
    "作业地址:  \n",
    "https://www.csie.ntu.edu.tw/~htlin/course/ml15fall/\n",
    "\n",
    "参考资料:  \n",
    "https://blog.csdn.net/a1015553840/article/details/51085129  \n",
    "http://www.vynguyen.net/category/study/machine-learning/page/6/  \n",
    "http://book.caltech.edu/bookforum/index.php  \n",
    "http://beader.me/mlnotebook/"
   ]
  },
  {
   "cell_type": "markdown",
   "metadata": {},
   "source": [
    "#### Problem 1\n",
    "\n",
    "这一题和下一题就是learning from data第一章的Exercise 1.13\n",
    "\n",
    "错误有两种，一种是“去真”:$\\lambda\\mu$，另一种是“取伪”：$(1-\\lambda)(1-\\mu)$，所以犯错的概率一共$\\lambda\\mu+(1-\\lambda)(1-\\mu)$  "
   ]
  },
  {
   "cell_type": "markdown",
   "metadata": {},
   "source": [
    "#### Problem 2\n",
    "\n",
    "$$\n",
    "P=\\lambda\\mu+(1-\\lambda)(1-\\mu)=\\lambda\\mu+1-\\mu-\\lambda+\\lambda\\mu=1-\\lambda+(2\\lambda-1)\\mu\n",
    "$$\n",
    "所以当$\\lambda=\\frac 1 2$时，$P=1-\\lambda$，此时和$\\mu$独立"
   ]
  },
  {
   "cell_type": "markdown",
   "metadata": {},
   "source": [
    "#### Problem 3\n",
    "\n",
    "这题就是learning from data第二章的Problem 2.12\n",
    "\n",
    "在此回顾下公式\n",
    "$$\n",
    "E_{out}(g)\\le E_{in}(g)+\\sqrt {\\frac 8 N ln(\\frac {4({(2N)}^{d_{vc}}+1)} \\delta )}的概率大于等于1-\\delta\n",
    "$$\n",
    "回到这题，题目中$\\delta =0.05,\\sqrt {\\frac 8 N ln(\\frac {4({(2N)}^{d_{vc}}+1)} \\delta )}=0.05$\n",
    "这个方程直接解的话不好解，可以作图看一下"
   ]
  },
  {
   "cell_type": "code",
   "execution_count": 1,
   "metadata": {},
   "outputs": [
    {
     "name": "stdout",
     "output_type": "stream",
     "text": [
      "452957\n"
     ]
    }
   ],
   "source": [
    "import math\n",
    "import matplotlib.pyplot as plt\n",
    "\n",
    "delta=0.05\n",
    "dvc=10\n",
    "\n",
    "def f(N):\n",
    "    return (8/N*math.log(4*((2*N)**dvc+1)/delta))**0.5-0.05\n",
    "\n",
    "n=1\n",
    "while(True):\n",
    "    if(f(n)<=0):\n",
    "        break\n",
    "    else:\n",
    "        n+=1\n",
    "\n",
    "print(n)"
   ]
  },
  {
   "cell_type": "markdown",
   "metadata": {},
   "source": [
    "#### Problem 4\n",
    "这题和下面一题就是learning from data第二章的Problem 2.20，注意这里多了Variant VC bound\n",
    "\n",
    "我们注意到(d),(e)左右两边都有$\\epsilon$，所以这里要处理一下。\n",
    "\n",
    "先看(d)，令$a=\\frac 1 N,b=ln{\\frac {6m_H(2N)}\\delta}$，那么不等式可以化为\n",
    "$$\n",
    "\\epsilon\\le \\sqrt{2a\\epsilon+ab}\n",
    "\\\\两边平方可得\n",
    "\\\\\\epsilon^2\\le2a\\epsilon+ab\n",
    "\\\\(\\epsilon-a)^2\\le ab+a^2\n",
    "\\\\ -\\sqrt{ab+a^2}\\le \\epsilon-a\\le\\sqrt{ab+a^2}\n",
    "\\\\a-\\sqrt{ab+a^2}\\le \\epsilon\\le a+\\sqrt{ab+a^2}\n",
    "\\\\这里只要考虑上界\n",
    "\\\\\\epsilon\\le a+\\sqrt{ab+a^2}\n",
    "\\\\将a=\\frac 1 N,b=ln{\\frac {6m_H(2N)}\\delta}带入可得\n",
    "\\\\\\epsilon\\le \\frac1N+\\sqrt{\\frac{1}{N^2}+\\frac{1}{N}ln{\\frac {6m_H(2N)}\\delta}}\n",
    "$$\n",
    "对于(e)，令$a=\\frac 1 {2N},b=ln{\\frac {4m_H(N^2)}\\delta}$，那么不等式可以化为\n",
    "$$\n",
    "\\epsilon\\le \\sqrt{a(4\\epsilon(1+\\epsilon)+b)}\n",
    "\\\\两边平方可得\n",
    "\\\\\\epsilon^2\\le4a\\epsilon(1+\\epsilon)+ab\n",
    "\\\\(1-4a)\\epsilon^2-4a\\epsilon\\le ab\n",
    "\\\\注意这里我们只要考虑N很大的情形，所以1-4a=1-\\frac 2N>0\n",
    "\\\\(1-4a)(\\epsilon-\\frac {2a}{1-4a})^2\\le ab+\\frac{4a^2}{1-4a}\n",
    "\\\\(\\epsilon-\\frac {2a}{1-4a})^2\\le\\frac{ab+\\frac{4a^2}{1-4a}}{1-4a}\n",
    "\\\\ -\\sqrt{\\frac{ab+\\frac{4a^2}{1-4a}}{1-4a}}\\le\\epsilon-\\frac {2a}{1-4a}\\le\\sqrt{\\frac{ab+\\frac{4a^2}{1-4a}}{1-4a}}\n",
    "\\\\这里只要考虑上界，因此\n",
    "\\\\ \\epsilon\\le \\sqrt{\\frac{ab+\\frac{4a^2}{1-4a}}{1-4a}}+\\frac {2a}{1-4a}\n",
    "=\\sqrt{\\frac{ab}{1-4a}+\\frac{4a^2}{(1-4a)^2}}+\\frac {2a}{1-4a}\n",
    "\\\\将a=\\frac 1 {2N},b=ln{\\frac {4m_H(N^2)}\\delta}带入可得\n",
    "\\\\ \\epsilon\\le \\sqrt{\\frac{ln{\\frac {4m_H(N^2)}\\delta}}{2(N-2)}+\\frac{1}{(N-2)^2}}+\\frac{1}{(N-2)^2}\n",
    "$$\n",
    "\n",
    "这里还有一个要注意的点，这里老师希望我们使用$m_\\mathcal{H}(N)$的上界为$N^{d_{vc}}$，因此\n",
    "$$\n",
    "\\\\ln(m_\\mathcal{H}(N))\\le d_{vc}ln(N)\n",
    "$$\n",
    "后面我们作图处理下"
   ]
  },
  {
   "cell_type": "code",
   "execution_count": 1,
   "metadata": {
    "collapsed": true
   },
   "outputs": [],
   "source": [
    "from scipy.special import comb\n",
    "from math import log\n",
    "import matplotlib.pyplot as plt\n",
    "plt.rcParams['font.sans-serif']=['SimHei'] #用来正常显示中文标签\n",
    "plt.rcParams['axes.unicode_minus']=False #用来正常显示负号\n",
    "\n",
    "dvc=50\n",
    "delta=0.05\n",
    "\n",
    "#计算lnm(N)\n",
    "def lnm(n):\n",
    "    s=dvc*log(n)\n",
    "    return s\n",
    "\n",
    "#Original VC-bound\n",
    "def f1(n):\n",
    "    result=(8/n)*(log(4/delta)+lnm(2*n))\n",
    "    result=result**0.5\n",
    "    return result\n",
    "\n",
    "#Variant VC bound\n",
    "def f2(n):\n",
    "    result=(16/n)*(log(2/(delta**0.5))+lnm(n))\n",
    "    result=result**0.5\n",
    "    return result\n",
    "\n",
    "#Rademacher Penalty Bound\n",
    "def f3(n):\n",
    "    k1=(2/n)*(log(2*n)+lnm(n))\n",
    "    k2=(2/n)*log(1/delta)\n",
    "    k3=1/n\n",
    "    result=k1**0.5+k2**0.5+k3\n",
    "    return result\n",
    "\n",
    "#Parrondo and Van den Broek\n",
    "def f4(n):\n",
    "    k1=1/n\n",
    "    k2=1/(n**2)+(1/n)*(log(6/delta)+lnm(2*n))\n",
    "    k2=k2**0.5\n",
    "    result=k1+k2\n",
    "    return result\n",
    "\n",
    "#Devroye\n",
    "def f5(n):\n",
    "    k1=1/((n-2)**2)\n",
    "    k2=(log(4/delta)+lnm(n**2))/(2*(n-2))+1/(n-2)\n",
    "    k2=k2**0.5\n",
    "    result=k1+k2\n",
    "    return result"
   ]
  },
  {
   "cell_type": "code",
   "execution_count": 2,
   "metadata": {
    "scrolled": true
   },
   "outputs": [
    {
     "data": {
      "image/png": "[encoded data removed]",
      "text/plain": [
       "<matplotlib.figure.Figure at 0x2148438acc0>"
      ]
     },
     "metadata": {},
     "output_type": "display_data"
    }
   ],
   "source": [
    "#产生点集\n",
    "import numpy as np\n",
    "x=np.arange(1000,10001,1000)\n",
    "\n",
    "y1=[f1(i) for i in x]\n",
    "y2=[f2(i) for i in x]\n",
    "y3=[f3(i) for i in x]\n",
    "y4=[f4(i) for i in x]\n",
    "y5=[f5(i) for i in x]\n",
    "\n",
    "#作图\n",
    "plt.plot(x,y1,label=\"Original VC-bound\")\n",
    "plt.plot(x,y2,label=\"Variant VC-bound\")\n",
    "plt.plot(x,y3,label=\"Rademacher Penalty Bound\")\n",
    "plt.plot(x,y4,label=\"Parrondo and Van den Broek\")\n",
    "plt.plot(x,y5,label=\"Devroye\")\n",
    "plt.legend()\n",
    "plt.show()"
   ]
  },
  {
   "cell_type": "markdown",
   "metadata": {},
   "source": [
    "可以看到Parrondo and Van den Broek以及Devroye非常接近，我们再仔细看一下"
   ]
  },
  {
   "cell_type": "code",
   "execution_count": 3,
   "metadata": {},
   "outputs": [
    {
     "data": {
      "image/png": "[encoded data removed]",
      "text/plain": [
       "<matplotlib.figure.Figure at 0x2148437b748>"
      ]
     },
     "metadata": {},
     "output_type": "display_data"
    }
   ],
   "source": [
    "plt.plot(x,y4,label=\"Parrondo and Van den Broek\")\n",
    "plt.plot(x,y5,label=\"Devroye\")\n",
    "plt.legend()\n",
    "plt.show()"
   ]
  },
  {
   "cell_type": "markdown",
   "metadata": {},
   "source": [
    "因此n=10000时，Devroye给出的上界最小"
   ]
  },
  {
   "cell_type": "markdown",
   "metadata": {},
   "source": [
    "#### Problem 5\n",
    "和上题一致，我们依旧作图看一下"
   ]
  },
  {
   "cell_type": "code",
   "execution_count": 4,
   "metadata": {},
   "outputs": [
    {
     "name": "stderr",
     "output_type": "stream",
     "text": [
      "D:\\Anaconda3\\lib\\site-packages\\ipykernel_launcher.py:47: RuntimeWarning: invalid value encountered in double_scalars\n",
      "D:\\Anaconda3\\lib\\site-packages\\ipykernel_launcher.py:45: RuntimeWarning: divide by zero encountered in long_scalars\n",
      "D:\\Anaconda3\\lib\\site-packages\\ipykernel_launcher.py:46: RuntimeWarning: divide by zero encountered in true_divide\n",
      "D:\\Anaconda3\\lib\\site-packages\\ipykernel_launcher.py:46: RuntimeWarning: divide by zero encountered in long_scalars\n"
     ]
    },
    {
     "data": {
      "image/png": "[encoded data removed]",
      "text/plain": [
       "<matplotlib.figure.Figure at 0x214843e54e0>"
      ]
     },
     "metadata": {},
     "output_type": "display_data"
    }
   ],
   "source": [
    "#产生点集\n",
    "import numpy as np\n",
    "x=np.arange(1,11)\n",
    "\n",
    "y1=[f1(i) for i in x]\n",
    "y2=[f2(i) for i in x]\n",
    "y3=[f3(i) for i in x]\n",
    "y4=[f4(i) for i in x]\n",
    "y5=[f5(i) for i in x]\n",
    "\n",
    "#作图\n",
    "plt.plot(x,y1,label=\"Original VC-bound\")\n",
    "plt.plot(x,y2,label=\"Variant VC-bound\")\n",
    "plt.plot(x,y3,label=\"Rademacher Penalty Bound\")\n",
    "plt.plot(x,y4,label=\"Parrondo and Van den Broek\")\n",
    "plt.plot(x,y5,label=\"Devroye\")\n",
    "plt.legend()\n",
    "plt.show()"
   ]
  },
  {
   "cell_type": "markdown",
   "metadata": {},
   "source": [
    "可以看到n=5时，Parrando and Van den Broek给出的上界最小。  \n",
    "这题以及上一题可以直接计算，不过我比较喜欢作图比较，感觉更清晰一些。"
   ]
  },
  {
   "cell_type": "markdown",
   "metadata": {},
   "source": [
    "#### Problem 6\n",
    "\n",
    "这题和learning from data第二章的Problem 2.3(a)类似\n",
    "\n",
    "第一种情形为$-1,1-1$或者$1,-1,1$，即区间$[l,r]$内部有元素，且区间$[l,r]$两侧均有元素。这种情形只要在$N$个点之间的$N-1$个间隔中挑选出两个即可，所以这种情形共有$2C_{N-1}^2=(N-1)(N-2)$，乘以2是因为$[l,r]$内部可以为-1，也可以为1。\n",
    "\n",
    "第二种情形为$-1,1$或者$1,-1$的，即区间$[l,r]$内部有元素，一侧没有元素。这种情形只要在$N$个点之间的$N-1$个间隔中挑选出一个即可，所以这种情形共有$2(N-1)=2N-2$，乘以2依旧是因为$\\pm 1$的关系。\n",
    "\n",
    "第三种情形为$1$或者$-1$，因此有2种情形。\n",
    "\n",
    "因此\n",
    "$$\n",
    "m_{\\mathcal{H}}(N)=(N-1)(N-2)+2N-2+2=N^2-N+2\n",
    "$$"
   ]
  },
  {
   "cell_type": "markdown",
   "metadata": {},
   "source": [
    "#### Problem 7\n",
    "\n",
    "接着上题，注意\n",
    "$$\n",
    "m_{\\mathcal{H}}(3)=3^2-3+2=8=2^3\n",
    "\\\\m_{\\mathcal{H}}(4)=4^2-4+2=14<2^4\n",
    "$$\n",
    "因此$d_{vc}=3$"
   ]
  },
  {
   "cell_type": "markdown",
   "metadata": {},
   "source": [
    "#### Problem 8\n",
    "\n",
    "做映射$y=\\sqrt {x_1^2+ x_2^2}$，所以这个问题可以化为类似Problem 6的问题，但用我之前的思路考虑比较麻烦，这里用另一种思路。注意这里两圆之间的部分为$+1$，因此问题为$N$个点之间以及两侧$N+1$个间隔中挑选2个，最后要需要考虑全$-1$的情形，因此\n",
    "$$\n",
    "m_H (N)=C_{N+1}^2+1\n",
    "$$"
   ]
  },
  {
   "cell_type": "markdown",
   "metadata": {},
   "source": [
    "#### Problem 9\n",
    "这题就是learning from data第二章的Problem 2.16，结论为$d_{vc}=D+1$\n",
    "\n",
    "这里分两步证明:\n",
    "\n",
    "(a)存在$D+1$个点可以被shatter\n",
    "\n",
    "(b)任意$D+2$个点无法被shatter\n",
    "\n",
    "\n",
    "\n",
    "(a)记$y_j=\\sum_{i=0}^Dc_ix_j^i$，现在取$D+1$个点，$x_1,x_2...x_{D+1},x_j=j$\n",
    "\n",
    "那么\n",
    "$$\n",
    "\\left(\\begin{matrix}\n",
    "y_1\\\\\n",
    "y_2\\\\\n",
    "...\\\\\n",
    "y_{D+1}\n",
    "\\end{matrix}\n",
    "\\right)\n",
    "=\n",
    "\\left(\n",
    "\\begin{matrix}\n",
    "\\sum_{i=0}^Dc_ix_1^i\\\\\n",
    "\\sum_{i=0}^Dc_ix_2^i\\\\\n",
    "...\\\\\n",
    "\\sum_{i=0}^Dc_ix_{D+1}^i\n",
    "\\end{matrix}\n",
    "\\right)\n",
    "=\n",
    "\\left(\n",
    "\\begin{matrix}\n",
    "1&1&1&...&1\\\\\n",
    "1&2&2^2&...&2^{D}\\\\\n",
    "1&3&3^2&...&3^{D}\\\\\n",
    "...&...&...&...&...&\\\\\n",
    "1&(D+1)&(D+1)^2&...&(D+1)^D\n",
    "\\end{matrix}\n",
    "\\right)\n",
    "\\times\n",
    "\\left(\n",
    "\\begin{matrix}\n",
    "c_0\\\\\n",
    "c_1\\\\\n",
    "...\\\\\n",
    "c_D\n",
    "\\end{matrix}\n",
    "\\right)\\\\\n",
    "$$\n",
    "我们知道\n",
    "$$\n",
    "\\left(\n",
    "\\begin{matrix}\n",
    "1&1&1&...&1\\\\\n",
    "1&2&2^2&...&2^{D}\\\\\n",
    "1&3&3^2&...&3^{D}\\\\\n",
    "...&...&...&...&...&\\\\\n",
    "1&(D+1)&(D+1)^2&...&(D+1)^D\n",
    "\\end{matrix}\n",
    "\\right)对应的行列式为范德蒙行列式，不为0\n",
    "$$\n",
    "那么对任意的$y=(y_1,y_2,...,y_{D+1})^T$\n",
    "$$\n",
    "\\left(\n",
    "\\begin{matrix}\n",
    "1&1&1&...&1\\\\\n",
    "1&2&2^2&...&2^{D}\\\\\n",
    "1&3&3^2&...&3^{D}\\\\\n",
    "...&...&...&...&...&\\\\\n",
    "1&(D+1)&(D+1)^2&...&(D+1)^D\n",
    "\\end{matrix}\n",
    "\\right)\n",
    "\\times\n",
    "\\left(\n",
    "\\begin{matrix}\n",
    "c_0\\\\\n",
    "c_1\\\\\n",
    "...\\\\\n",
    "c_D\n",
    "\\end{matrix}\n",
    "\\right)\n",
    "=\n",
    "\\left(\\begin{matrix}\n",
    "y_1\\\\\n",
    "y_2\\\\\n",
    "...\\\\\n",
    "y_{D+1}\n",
    "\\end{matrix}\n",
    "\\right)\n",
    "$$\n",
    "关于$c=(c_0,c_1,...c_D)^T$有解，因此存在$D+1$个点可以被shatter\n",
    "\n",
    "(b)记$z_j=(1,x_j,x_j^2...x_j^{D})\\in R^{D+1}$，那么现在任取$D+2$个点$x_1,x_2...x_{D+2}$，对应可以得到$z_1,z_2...z_{D+2}$。$R^{D+1}$空间任意$D+2$个点必然线性相关，所以不妨设$z_{D+2}$可以被线性表出，注意$c=(c_0,c_1,...c_D)^T$\n",
    "$$\n",
    "z_{D+2}=\\sum_{i=1}^{D+1}k_iz_i\\\\\n",
    "c^Tz_{D+2}=\\sum_{i=1}^{D+1}c^Tk_iz_i\\\\\n",
    "sign(c^Tz_{D+2})=sign(\\sum_{i=1}^{D+1}k_ic^Tz_i)\n",
    "$$\n",
    "也就是说$z_{D+2}$的分类被$z_1,z_2...z_{D+1}$确定，那么\n",
    "$(sign(z_1),sign(z_2)...sign(z_{D+1}),-sign(z_{D+2}))$这种情形必然无法被划分出来，因此$d_{vc}\\le D+1$\n",
    "\n",
    "结合(a),(b)我们可得\n",
    "$$\n",
    "d_{vc}=D+1\n",
    "$$"
   ]
  },
  {
   "cell_type": "markdown",
   "metadata": {},
   "source": [
    "#### Problem 10\n",
    "\n",
    "对于$d$维决策树，我们可以理解为将区域划分为$2^d$个互相独立的区域，每个区域可以表示$+1$或者$-1$，所以一共可以表示出$2^{2^d}$种，因此\n",
    "$$\n",
    "d_{vc}=2^d\n",
    "$$\n"
   ]
  },
  {
   "cell_type": "markdown",
   "metadata": {},
   "source": [
    "#### Problem 11\n",
    "\n",
    "这题的答案是$+\\infty$，题目挺有意思的，有一题类似的题目可以参考learning from data的Problem 2.18。\n",
    "\n",
    "我们先看题目，乍一看挺复杂的，我们先考虑简单一点的情况，即$\\alpha x$为整数的情形：\n",
    "$$\n",
    "要使得h_{\\alpha}(x)为1，那么|(αx) mod\\ 4 − 2| − 1>0\n",
    "\\\\因此(αx) mod\\ 4=0\n",
    "\\\\要使得h_{\\alpha}(x)为-1，那么|(αx) mod\\ 4 − 2| − 1<0\n",
    "\\\\因此(αx) mod\\ 4=2\n",
    "$$\n",
    "接着考虑一般情形:\n",
    "$$\n",
    "要使得h_{\\alpha}(x)为1，那么|(αx) mod\\ 4 − 2| − 1>0\n",
    "\\\\因此(αx) mod\\ 4>3\n",
    "\\\\或0\\le(αx) mod\\ 4<1\n",
    "\\\\要使得h_{\\alpha}(x)为-1，那么|(αx) mod\\ 4 − 2| − 1<0\n",
    "\\\\因此1<(αx) mod\\ 4<3\n",
    "$$\n",
    "简单来说，当$(\\alpha x)\\ mod 4$处于1到3时$h_{\\alpha}(x)$为$-1$，否则为$+1$。\n",
    "\n",
    "接下来，结合0,2这两个临界点以及上述结论，我们这样构造$\\alpha$以及$x$:\n",
    "\n",
    "任取$(y_1,...,y_N)\\in \\{-1,+1\\}^N$，我们构造这样一个$z=(z_1,...,z_N)$，使得\n",
    "$$\n",
    "当y_i=+1时，z_i=0\n",
    "\\\\ 当y_i=-1时，z_i=2\n",
    "\\\\这一步可以结合我们之前所说的0,2两个特殊情形理解\n",
    "$$\n",
    "现在取\n",
    "$$\n",
    "\\alpha=0.z_1z_2...z_N\\\\\n",
    "x=(x_1 , . . . , x_N), x_n =10^n\n",
    "$$\n",
    "那么\n",
    "$$\n",
    "x_1\\times \\alpha=z_1 .\\ z_{2}...z_{N}\n",
    "\\\\x_i\\times \\alpha=z_1z_2...z_{i-1}z_i\\ .\\ z_{i+1}...z_{N}(i\\ge2)\n",
    "$$\n",
    "首先有一个很显然的结论\n",
    "$$\n",
    "z_1z_2...z_{i-1}z_i\\ mod\\ 4= z_{i-1}z_i\\ mod\\ 4\n",
    "$$\n",
    "这是因为100的倍数模4为0，但这里因为$z_i\\in \\{0,2\\}$，事实上有以下更强的结论\n",
    "$$\n",
    "z_1z_2...z_{i-1}z_i\\ mod\\ 4= z_{i-1}z_i\\ mod\\ 4=z_i\\ mod\\ 4\n",
    "$$\n",
    "这是因为\n",
    "$$\n",
    "z_{i-1}z_i\\ mod\\ 4=\n",
    " \\begin{cases}\n",
    "z_i\\ mod \\ 4(z_{i-1}=0)\n",
    " \\\\(20+z_i)\\ mod \\ 4=z_i\\ mod \\ 4(z_{i-1}=2)\n",
    " \\end{cases}\n",
    "$$\n",
    "因此\n",
    "$$\n",
    "（x_1\\times \\alpha）\\ mod\\ 4=z_1 .\\ z_{2}...z_{N}\\ mod\\ 4\n",
    "\\\\(x_i\\times \\alpha)\\ mod\\ 4=z_1z_2...z_{i-1}z_i\\ .\\ z_{i+1}...z_{N}\\ mod\\ 4=z_i\\ .\\ z_{i+1}...z_{N}\\ mod\\ 4(i\\ge2)\n",
    "\\\\这两式可以统一为\n",
    "\\\\(x_i\\times \\alpha)\\ mod\\ 4=z_i\\ .\\ z_{i+1}...z_{N}\\ mod\\ 4\n",
    "\\\\进一步，我们有\n",
    "\\\\ z_i\\le (x_i\\times \\alpha)\\ mod\\ 4<z_i+1\n",
    "\\\\当z_i=0时，0\\le (x_i\\times \\alpha)\\ mod\\ 4<1\n",
    "\\\\当z_i=2时，2\\le (x_i\\times \\alpha)\\ mod\\ 4<3\n",
    "$$\n",
    "回忆我们之前的结论以及假设\n",
    "$$\n",
    "当(\\alpha x)\\ mod 4处于1到3时，h_{\\alpha}(x)=-1，否则h_{\\alpha}(x)=1\n",
    "\\\\当y_i=+1时，z_i=0\n",
    "\\\\ 当y_i=-1时，z_i=2\n",
    "$$\n",
    "所以\n",
    "$$\n",
    "h_{\\alpha}(x_i)=1=y_i(z_i=0)\n",
    "\\\\h_{\\alpha}(x_i)=-1=y_i(z_i=2)\n",
    "$$\n",
    "所以任意$x=(x_1 , . . . , x_N)$均可以被shatter，因此\n",
    "$$\n",
    "d_{vc}=+\\infty\n",
    "$$"
   ]
  },
  {
   "cell_type": "markdown",
   "metadata": {},
   "source": [
    "#### Problem 12\n",
    "\n",
    "分两步考虑，第一步先考虑前$i$个点，这$i$个点最多可以区分出$2^i$种，对于剩下的$N-i$个点，最多可以被区分出$m_{\\mathcal{H}}(N-i)$种。那么\n",
    "$$\n",
    "m_{\\mathcal{H}}(N)\\le2^im_{\\mathcal{H}}(N-i)(i=1,2,...N-1)\n",
    "$$\n",
    "因此\n",
    "$$\n",
    "m_{\\mathcal{H}}(N)\\le {min}_{1\\le i\\le N-1}2^im_{\\mathcal{H}}(N-i)(i=1,2,...N-1)\n",
    "$$\n",
    "因此结论成立"
   ]
  },
  {
   "cell_type": "markdown",
   "metadata": {},
   "source": [
    "#### Problem 13\n",
    "\n",
    "这题乍一看挺复杂的，其实想的简单一点就行。\n",
    "\n",
    "我们知道$m_H (N)$要么等于$2^N$，要么有一个多项式的上界，根据这两点，除了$2^{\\lfloor \\sqrt N \\rfloor}$不可能成为$m_H (N)$"
   ]
  },
  {
   "cell_type": "markdown",
   "metadata": {},
   "source": [
    "#### Problem 14\n",
    "\n",
    "这一题以及下一题均可以参考learning from data的Problem 2.13 \n",
    "\n",
    "(b)首先有直觉反应：\n",
    "$$\n",
    "如果A\\subseteq B,那么d_{vc}(A)\\le d_{vc}(B)\n",
    "$$\n",
    "所以猜测\n",
    "$$\n",
    "0\\le dvc (\\cap _{k=1}^KH_k)\\le {min}\\{(d_{vc}(H_k))\\}_{k=1}^K\n",
    "$$\n",
    "$0\\le d_{vc} (\\cap _{k=1}^KH_k)$是显然的，另一边使用反证法，记$d_1=d_{vc} (\\cap _{k=1}^KH_k),d_2={min}\\{(d_{vc}(H_k))\\}_{k=1}^K$\n",
    "\n",
    "若$d_1\\ge d_2+1$，那么$\\cap _{k=1}^KH_k$可以shatter $d_2+1$个点，那么至少存在一个$H_i(i=1...k)$，使得$H_i$也可以shatter $d_2+1$个点，这就与$d_2={min}\\{(d_{(vc)}(H_k))\\}_{k=1}^K$相矛盾了，所以\n",
    "$$\n",
    "dvc (\\cap _{k=1}^KH_k)\\le {min}\\{(d_{vc}(H_k))\\}_{k=1}^K\n",
    "$$\n"
   ]
  },
  {
   "cell_type": "markdown",
   "metadata": {},
   "source": [
    "#### Problem 15\n",
    "\n",
    "(c)这题参考了别人的笔记，[笔记地址](http://beader.me/mlnotebook/section2/vc-dimension-three.html)\n",
    "\n",
    "左边比较简单，由之前的结论即可。\n",
    "$$\n",
    "因为H_k \\subseteq \\cup _{k=1}^KH_k\\\\\n",
    "所以d_{vc}(H_k)\\le d_{vc} (\\cup _{k=1}^KH_k)(k=1...K)\\\\\n",
    "{max}\\{d_{vc}(H_k)\\}_{k=1}^K\\le d_{vc} (\\cup _{k=1}^KH_k)\n",
    "$$\n",
    "观察下右边的形式，其实只要证明$K=2$的情形然后使用数学归纳法即可，下面记$d_1=d_{vc}(H_1),d_2=d_{vc}(H_2)$，考虑成长函数$m_H(N)$，首先\n",
    "$$\n",
    "m _ {H_1\\cup H_2}(N) \\le m_{H_1}(N)+ m_{H_2}(N)\n",
    "$$\n",
    "对于$N$个元素，$H_1\\cup H_2$最多可以表示出$m _ {H_1\\cup H_2}(N)$种分类，对于每种分类，或者由$H_1$表示，或者由$H_2$表示，所以$m _ {H_1\\cup H_2}(N)$应该小于$H_1$和$H_2$表示出来的分类之和。而$H_1$最多可以表示出$m_{H_1}(N)$种分类，$H_2$最多可以表示出$m_{H_2}(N)$种分类，因此上述不等式成立。\n",
    "\n",
    "回到原题，使用上述结论以及VC不等式，我们可得\n",
    "$$\n",
    "m _ {H_1\\cup H_2}(N) \\le m_{H_1}(N)+ m_{H_2}(N)\\le\\sum _ {i=0} ^ {d_1} \\binom{N}{i} + \\sum _ {i=0} ^ {d_2} \\binom{N}{i}\n",
    "$$\n",
    "接着我们使用反证法，如果\n",
    "$$\n",
    "d_{vc}(H_1 \\cup H_2)\\ge 2+d_{vc}(H_1)+d_{vc}(H_2)=d_1+d_2+2\n",
    "$$\n",
    "那么\n",
    "$$\n",
    "m _ {H_1\\cup H_2}(d_1+d_2+2)=2^{d_1+d_2+2}\n",
    "$$\n",
    "把$N=d_1+d_2+2$带入$\\sum _ {i=0} ^ {d_1} \\binom{N}{i} + \\sum _ {i=0} ^ {d_2} \\binom{N}{i}$得\n",
    "$$\n",
    "\\begin{aligned}\n",
    "\\sum _ {i=0} ^ {d_1} \\binom{N}{i} + \\sum _ {i=0} ^ {d_2} \\binom{N}{i}&=\\sum _ {i=0} ^ {d_1} \\binom{d_1+d_2+2}{i} + \\sum _ {i=0} ^ {d_2} \\binom{d_1+d_2+2}{i}\n",
    "\\\\&=\\sum _ {i=0} ^ {d_1} \\binom{d_1+d_2+2}{i} + \\sum _ {i=0} ^ {d_2} \\binom{d_1+d_2+2}{d_1+d_2+2-i}\n",
    "\\\\&令j=d_1+d_2+2-i，那么j的范围从d_1+2到d_1+d_2+2\n",
    "\\\\&=\\sum _ {i=0} ^ {d_1} \\binom{d_1+d_2+2}{i} + \\sum _ {j=d_1+2} ^ {d_1+d_2+2} \\binom{d_1+d_2+2}{j}\n",
    "\\\\&=2^{d_1+d_2+2}-\\binom{d_1+d_2+2}{d_1+1}\n",
    "\\\\&<2^{d_1+d_2+2}\n",
    "\\end{aligned}\n",
    "$$\n",
    "所以\n",
    "$$\n",
    "m _ {H_1\\cup H_2}(d_1+d_2+2)\\le\\sum _ {i=0} ^ {d_1} \\binom{d_1+d_2+2}{i} + \\sum _ {i=0} ^ {d_2} \\binom{d_1+d_2+2}{i}<2^{d_1+d_2+2}\n",
    "$$\n",
    "与之前所述矛盾。因此\n",
    "$$\n",
    "d_{vc}(H_1 \\cup H_2)\\le 1+d_{vc}(H_1)+d_{vc}(H_2)=d_1+d_2+1\\\\\n",
    "当K=2时，d_{vc} (\\cup _{k=1}^KH_k)\\le K-1+\\sum_{k=1}^K d_{vc} (H_k)成立\n",
    "$$\n",
    "假设$K=n$时不等式成立，$K=n+1$时\n",
    "$$\n",
    "\\begin{aligned}\n",
    "d_{vc} (\\cup _{k=1}^{n+1}H_k)&=d_{vc} ((\\cup _{k=1}^{n}H_k)\\cup H_{n+1})\n",
    "\\\\&\\le1+d_{vc} (\\cup _{k=1}^{n}H_k)+d_{vc}( H_{n+1})\n",
    "\\\\&\\le1+n-1+\\sum_{k=1}^n d_{vc} (H_k)+d_{vc}( H_{n+1})\n",
    "\\\\&=n+\\sum_{k=1}^{n+1} d_{vc} (H_k)\n",
    "\\end{aligned}\n",
    "$$\n",
    "因此$K=n+1$时不等式也成立"
   ]
  },
  {
   "cell_type": "markdown",
   "metadata": {},
   "source": [
    "#### Problem 16\n",
    "\n",
    "这题可以参考第一题，就是计算数据中带有偏差的$E_{out}(h_s;θ)$，我们取和第一题一致的符号，那么\n",
    "$$\n",
    "E_{out}(h_s;θ)=\\lambda\\mu+(1-\\lambda)(1-\\mu)\n",
    "$$\n",
    "此题中有20%的数据为噪声，因此$\\lambda=0.8$，我们再来计算$\\mu$，即错误率。先回顾题目\n",
    "$$\n",
    "h_{s;θ}(x) = s · sign(x − θ)\n",
    "\\\\当s=1时，若x<\\theta,h_{s;θ}(x)=-1;x>\\theta,h_{s;θ}(x)=1\n",
    "\\\\当s=-1时，若x<\\theta,h_{s;θ}(x)=1;x>\\theta,h_{s;θ}(x)=-1\n",
    "$$\n",
    "我们知道原始数据服从$[-1,1]$上的均匀分布，$\\tilde{s }(x)= sign(x)$。\n",
    "$$\n",
    "因此x<0时,\\tilde{s }(x)=-1;x>0,\\tilde{s }(x)=1\n",
    "$$\n",
    "作图我们可知当$s=1$时，$\\mu=\\frac {|\\theta|}2$，那么\n",
    "$$\n",
    "\\begin{aligned}\n",
    "E_{out}(h_s;θ)&=\\lambda\\mu+(1-\\lambda)(1-\\mu)\n",
    "\\\\&=0.8\\times \\frac{|\\theta|}2+0.2\\times\\frac {2-|\\theta|}2\n",
    "\\\\&=0.2+0.3|\\theta|\n",
    "\\end{aligned}\n",
    "$$\n",
    "当$s=-1$时，$\\mu=\\frac {2-|\\theta|}2$，那么\n",
    "$$\n",
    "\\begin{aligned}\n",
    "E_{out}(h_s;θ)&=\\lambda\\mu+(1-\\lambda)(1-\\mu)\n",
    "\\\\&=0.8\\times\\frac {2-|\\theta|}2+0.2\\times \\frac{|\\theta|}2\n",
    "\\\\&=0.8-0.3|\\theta|\n",
    "\\end{aligned}\n",
    "$$\n",
    "\n",
    "\n",
    "我们将$s$和上述两种情况统一在一起可得\n",
    "$$\n",
    "E_{out}(h_s;θ)=0.5+0.3s(|\\theta|-1)\n",
    "$$\n"
   ]
  },
  {
   "cell_type": "markdown",
   "metadata": {},
   "source": [
    "#### Problem 17\n",
    "这题以及下一题就是编程模拟上面题目中的情况并计算$E_{in},E_{out}$"
   ]
  },
  {
   "cell_type": "code",
   "execution_count": 2,
   "metadata": {
    "collapsed": true
   },
   "outputs": [],
   "source": [
    "import random\n",
    "import math\n",
    "\n",
    "#sign(x)\n",
    "def sign(x):\n",
    "    if x>0:\n",
    "        return 1\n",
    "    else:\n",
    "        return -1\n",
    "    \n",
    "#产生20个随机数\n",
    "def random20():\n",
    "    a=[]\n",
    "    for i in range(20):\n",
    "        a.append(random.uniform(-1,1))\n",
    "    return a\n",
    "\n",
    "#产生(x,sign(x))\n",
    "def dat(a):\n",
    "    b=[]\n",
    "    for i in range(len(a)):\n",
    "        b.append(sign(a[i]))\n",
    "    return b\n",
    "\n",
    "#预测函数\n",
    "def h(x,a,b):\n",
    "    return a*sign(x-b)\n",
    "\n",
    "#产生(x,h(x))预测数据,注意有20%的误差\n",
    "def dat1(x,a,b):\n",
    "    y=[]\n",
    "    for i in range(len(x)):\n",
    "        d=random.random()\n",
    "        if d<0.2:\n",
    "            y.append(-h(x[i],a,b))\n",
    "        else:\n",
    "            y.append(h(x[i],a,b))\n",
    "    return y\n",
    "\n",
    "#产生theta，注意这里只要取20个点相邻两点间的点19个点以及两侧的两个点即可，两侧的点我取了-2以及+2\n",
    "def Theta(x):\n",
    "    a=[-2]\n",
    "    for i in range(len(x)-1):\n",
    "        a.append((x[i]+x[i+1])/2.0)\n",
    "    a.append(2)\n",
    "    return a\n",
    "\n",
    "#计算列表a,b中不同元素个数\n",
    "def cal(a,b):\n",
    "    x=0\n",
    "    for i in range(len(a)):\n",
    "        if a[i]!=b[i]:\n",
    "            x+=1\n",
    "    return x\n",
    "\n",
    "Ein=[]\n",
    "Eout=[]\n",
    "for iteration in range(5000):\n",
    "    ein=0\n",
    "    eout=0\n",
    "    #产生数据\n",
    "    data=random20()\n",
    "    #排序，方便后续处理\n",
    "    data.sort()\n",
    "    #产生(x,sign(x))\n",
    "    y=dat(data)\n",
    "    #产生theta\n",
    "    theta=Theta(data)\n",
    "    #记录最少错误次数，最好的theta以及s\n",
    "    error1=20\n",
    "    theta1=0\n",
    "    s1=1\n",
    "    #注意要考虑s=1以及s=-1\n",
    "    for i in [-1,1]:\n",
    "        for theta2 in theta:\n",
    "            time=0\n",
    "            #产生(x,h(x))预测数据\n",
    "            z=dat1(data,i,theta2)\n",
    "            #计算错误次数\n",
    "            error2=cal(y,z)\n",
    "            if error2<error1:\n",
    "                error1=error2\n",
    "                theta1=theta2\n",
    "                s1=i\n",
    "    #带入之前的公式计算\n",
    "    eout+=0.5+0.3*s1*(abs(theta1)-1)\n",
    "    ein+=error1/(20.0)\n",
    "    Eout.append(eout)\n",
    "    Ein.append(ein)"
   ]
  },
  {
   "cell_type": "code",
   "execution_count": 5,
   "metadata": {},
   "outputs": [
    {
     "data": {
      "image/png": "[encoded data removed]",
      "text/plain": [
       "<matplotlib.figure.Figure at 0x1e8105486a0>"
      ]
     },
     "metadata": {},
     "output_type": "display_data"
    },
    {
     "name": "stdout",
     "output_type": "stream",
     "text": [
      "0.12504999999999972\n"
     ]
    }
   ],
   "source": [
    "import matplotlib.pyplot as plt\n",
    "plt.rcParams['font.sans-serif']=['SimHei'] #用来正常显示中文标签\n",
    "plt.rcParams['axes.unicode_minus']=False #用来正常显示负号\n",
    "\n",
    "plt.hist(Ein)\n",
    "plt.title('Ein')\n",
    "plt.show()\n",
    "\n",
    "print(sum(Ein)/len(Ein))"
   ]
  },
  {
   "cell_type": "markdown",
   "metadata": {},
   "source": [
    "#### Problem 18\n",
    "直接看刚刚计算的$E_{out}$即可"
   ]
  },
  {
   "cell_type": "code",
   "execution_count": 6,
   "metadata": {
    "scrolled": false
   },
   "outputs": [
    {
     "data": {
      "image/png": "[encoded data removed]",
      "text/plain": [
       "<matplotlib.figure.Figure at 0x1e8110b49e8>"
      ]
     },
     "metadata": {},
     "output_type": "display_data"
    },
    {
     "name": "stdout",
     "output_type": "stream",
     "text": [
      "0.2573352820985764\n"
     ]
    }
   ],
   "source": [
    "plt.hist(Eout)\n",
    "plt.title('Eout')\n",
    "plt.show()\n",
    "\n",
    "print(sum(Eout)/len(Eout))"
   ]
  },
  {
   "cell_type": "markdown",
   "metadata": {},
   "source": [
    "#### Problem 19\n",
    "\n",
    "这题就是上题多维度的情形，我们要对每个维度分别按上一题的方法计算出最佳的$s,\\theta$，然后对每个维度的最佳解进行比较，求出全局最佳的$s,\\theta$以及维度$dim$，然后按照这个$dim$以及$s,\\theta$来预测我们的测试结果。"
   ]
  },
  {
   "cell_type": "code",
   "execution_count": 18,
   "metadata": {
    "collapsed": true
   },
   "outputs": [],
   "source": [
    "#预处理函数，返回数据以及维度，注意转换的时候不要转换为int  \n",
    "def g(file):\n",
    "    y=[]\n",
    "    with open(file) as x: \n",
    "        for i in x.readlines():\n",
    "            j=i.strip().split(' ')\n",
    "            y.append(list(map(float,j)))\n",
    "        n=len(y[0])-1\n",
    "    return y,n\n",
    "\n",
    "#sign(x)\n",
    "def sign(x):\n",
    "    if x>0:\n",
    "        return 1\n",
    "    else:\n",
    "        return -1\n",
    "    \n",
    "#产生(x,sign(x))\n",
    "def dat(a):\n",
    "    b=[]\n",
    "    for i in range(len(a)):\n",
    "        b.append(sign(a[i]))\n",
    "    return b\n",
    "\n",
    "#预测函数\n",
    "def h(x,a,b):\n",
    "    return a*sign(x-b)\n",
    "\n",
    "#产生(x,h(x))预测数据\n",
    "def dat1(x,a,b):\n",
    "    y=[]\n",
    "    for i in range(len(x)):\n",
    "        y.append(h(x[i],a,b))\n",
    "    return y\n",
    "\n",
    "#产生theta\n",
    "def Theta(x):\n",
    "    a=[]\n",
    "    for i in range(len(x)-1):\n",
    "        a.append((x[i]+x[i+1])/2.0)\n",
    "    x=a[0]-1.0\n",
    "    y=a[-1]+1.0\n",
    "    a.insert(0,x)\n",
    "    a.append(y)\n",
    "    return a\n",
    "\n",
    "#计算列表a,b中不同元素个数\n",
    "def cal(a,b):\n",
    "    x=0\n",
    "    for i in range(len(a)):\n",
    "        if a[i]!=b[i]:\n",
    "            x+=1\n",
    "    return x\n",
    "\n",
    "#行转列，方便后续处理\n",
    "def trans(x):\n",
    "    a=len(x)\n",
    "    b=len(x[0])-1\n",
    "    c=[]\n",
    "    for i in range(b):\n",
    "        d=[]\n",
    "        for j in range(a):\n",
    "            d.append(x[j][i])\n",
    "        c.append(d)\n",
    "    return c\n",
    "\n",
    "def func(x):\n",
    "    #数据，维度\n",
    "    a,b=g(x)\n",
    "    #记录实际值\n",
    "    c=[]\n",
    "    for i in range(len(a)):\n",
    "        c.append(a[i][-1])\n",
    "    #转置\n",
    "    d=trans(a)\n",
    "    #记录最低错误数\n",
    "    error3=len(a)\n",
    "    #记录theta\n",
    "    theta3=0\n",
    "    #记录维度\n",
    "    dim=0\n",
    "    #记录s\n",
    "    s3=1\n",
    "    for i in range(b):\n",
    "        #记录每个维度的最低错误以及theta\n",
    "        error1=len(a)\n",
    "        theta1=0\n",
    "        #记录s\n",
    "        s1=1\n",
    "        #第i个维度\n",
    "        e=d[i]\n",
    "        #排序\n",
    "        data=e[:]\n",
    "        data.sort()\n",
    "        #产生theta\n",
    "        theta=Theta(data)\n",
    "        for j in [-1,1]:\n",
    "            for theta2 in theta:\n",
    "                z=dat1(e,j,theta2)\n",
    "                error2=cal(c,z)\n",
    "                if error2<error1:\n",
    "                    error1=error2\n",
    "                    theta1=theta2\n",
    "                    s1=j\n",
    "        #将第i个维度的最优解error1,theta1,s1和全局最优解比较\n",
    "        if error1<error3:\n",
    "            error3=error1\n",
    "            theta3=theta1\n",
    "            dim=i\n",
    "            s3=s1\n",
    "    #注意维度要加1\n",
    "    return error3/len(a),theta3,dim+1,s3"
   ]
  },
  {
   "cell_type": "code",
   "execution_count": 19,
   "metadata": {},
   "outputs": [
    {
     "name": "stdout",
     "output_type": "stream",
     "text": [
      "0.25 1.6175000000000002 4 -1\n"
     ]
    }
   ],
   "source": [
    "train='hw2_train.dat'\n",
    "\n",
    "error3,theta3,dim,s3=func(train)\n",
    "\n",
    "print(error3,theta3,dim,s3)"
   ]
  },
  {
   "cell_type": "markdown",
   "metadata": {},
   "source": [
    "$E_{in}=0.25$，维度为第四个维度，$h_{s;i;θ}(x) = s·sign(x_i - θ)=-sign(x_i-1.6175)$"
   ]
  },
  {
   "cell_type": "markdown",
   "metadata": {},
   "source": [
    "#### Problem 20\n",
    "\n",
    "根据之前计算的$s,\\theta,dim$来预测结果并计算误差"
   ]
  },
  {
   "cell_type": "code",
   "execution_count": 25,
   "metadata": {
    "scrolled": true
   },
   "outputs": [
    {
     "name": "stdout",
     "output_type": "stream",
     "text": [
      "0.355\n"
     ]
    }
   ],
   "source": [
    "test='hw2_test.dat'\n",
    "\n",
    "#读取数据\n",
    "test,n=g(test)\n",
    "#数据数量\n",
    "m=len(test)\n",
    "#读取目标值\n",
    "result=[]\n",
    "for i in range(m):\n",
    "    result.append(test[i][-1])\n",
    "#行转列\n",
    "test1=trans(test)\n",
    "#计算预测结果，注意这里选择我们之前的维度\n",
    "predict=dat1(test1[dim-1],s3,theta3)\n",
    "#计算误差\n",
    "error=cal(result,predict)\n",
    "print(error*1.0/m)"
   ]
  },
  {
   "cell_type": "markdown",
   "metadata": {},
   "source": [
    "#### Problem 21\n",
    "\n",
    "考虑$N$个元素的点集，点集中最多有$k-1$个$-1$，那么这样的点集有$\\sum_{i=0}^{k-1}\\binom N i$种。考虑$k$个元素的子集，然么$(-1,-1...-1)$(全为$-1$的情形)必然无法被表出，因为最多有$k-1$个点为$-1$。那么由$B(N,k)$的定义知\n",
    "$$\n",
    "B(N, k) \\ge\\sum_{i=0}^{k-1}\\binom N i\n",
    "$$\n"
   ]
  },
  {
   "cell_type": "markdown",
   "metadata": {
    "collapsed": true
   },
   "source": [
    "#### 总结\n",
    "这部分编程题做的比较早，其实解的有点啰嗦，理论题部分有些当时不怎么会，这次又做了一遍算是基本理清楚了。"
   ]
  }
 ],
 "metadata": {
  "kernelspec": {
   "display_name": "Python 3",
   "language": "python",
   "name": "python3"
  },
  "language_info": {
   "codemirror_mode": {
    "name": "ipython",
    "version": 3
   },
   "file_extension": ".py",
   "mimetype": "text/x-python",
   "name": "python",
   "nbconvert_exporter": "python",
   "pygments_lexer": "ipython3",
   "version": "3.6.3"
  }
 },
 "nbformat": 4,
 "nbformat_minor": 2
}
