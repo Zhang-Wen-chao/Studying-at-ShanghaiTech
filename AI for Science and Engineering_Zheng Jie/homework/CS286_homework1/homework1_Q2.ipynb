{
 "cells": [
  {
   "cell_type": "markdown",
   "metadata": {},
   "source": [
    "## 2. PyTorch Implementation of Generative Adverarial Network (GAN) (50 points)\n",
    "\n",
    "You are required to implement a simple Generative Adversarial Network (GAN) model and train it on the MNIST dataset. We have provided the main structure of the code in this Jupyter notebook, and you need to complete the code according to the comments."
   ]
  },
  {
   "cell_type": "code",
   "execution_count": 6,
   "metadata": {},
   "outputs": [
    {
     "name": "stdout",
     "output_type": "stream",
     "text": [
      "Current device: cuda\n"
     ]
    }
   ],
   "source": [
    "# prerequisites\n",
    "import matplotlib.pyplot as plt\n",
    "import torch\n",
    "import torch.nn as nn\n",
    "import torch.nn.functional as F\n",
    "\n",
    "from torchvision import datasets, transforms\n",
    "from torch.autograd import Variable\n",
    "\n",
    "\n",
    "# Device configuration\n",
    "device = torch.device('cuda' if torch.cuda.is_available() else 'cpu')\n",
    "print(f'Current device: {device}')"
   ]
  },
  {
   "cell_type": "code",
   "execution_count": 7,
   "metadata": {},
   "outputs": [],
   "source": [
    "# Do not adjust any hyper parameter!\n",
    "batch_size = 128\n",
    "lr = 0.0001\n",
    "z_dim = 100"
   ]
  },
  {
   "cell_type": "code",
   "execution_count": 8,
   "metadata": {},
   "outputs": [],
   "source": [
    "# MNIST Dataset\n",
    "transform = transforms.Compose([\n",
    "    transforms.ToTensor(),\n",
    "    transforms.Normalize(mean=(0.5), std=(0.5))\n",
    "])\n",
    "\n",
    "train_dataset = datasets.MNIST(root='./mnist_data/', train=True, transform=transform, download=False) # already downloaded\n",
    "test_dataset = datasets.MNIST(root='./mnist_data/', train=False, transform=transform, download=False)\n",
    "\n",
    "# Data Loader (Input Pipeline)\n",
    "train_loader = torch.utils.data.DataLoader(dataset=train_dataset, batch_size=batch_size, shuffle=True, drop_last=True)\n",
    "test_loader = torch.utils.data.DataLoader(dataset=test_dataset, batch_size=batch_size, shuffle=False)"
   ]
  },
  {
   "cell_type": "code",
   "execution_count": 9,
   "metadata": {},
   "outputs": [],
   "source": [
    "# Do not modify the model architecture of `Generator`\n",
    "class Generator(nn.Module):\n",
    "    def __init__(self, g_input_dim, g_output_dim):\n",
    "        super(Generator, self).__init__()       \n",
    "        self.fc1 = nn.Linear(g_input_dim, 256)\n",
    "        self.fc2 = nn.Linear(256, 512)\n",
    "        self.fc3 = nn.Linear(512, 1024)\n",
    "        self.fc4 = nn.Linear(1024, g_output_dim)\n",
    "    \n",
    "    def forward(self, x): \n",
    "        x = F.leaky_relu(self.fc1(x), 0.2)\n",
    "        x = F.leaky_relu(self.fc2(x), 0.2)\n",
    "        x = F.leaky_relu(self.fc3(x), 0.2)\n",
    "        x = torch.tanh(self.fc4(x))\n",
    "        \n",
    "        return x\n",
    "\n",
    "\n",
    "# Do not modify the model architecture of `Discriminator` \n",
    "class Discriminator(nn.Module):\n",
    "    def __init__(self, d_input_dim):\n",
    "        super(Discriminator, self).__init__()\n",
    "        self.fc1 = nn.Linear(d_input_dim, 1024)\n",
    "        self.fc2 = nn.Linear(1024, 512)\n",
    "        self.fc3 = nn.Linear(512, 256)\n",
    "        self.fc4 = nn.Linear(256, 1)\n",
    "    \n",
    "    def forward(self, x):\n",
    "        x = F.leaky_relu(self.fc1(x), 0.2)\n",
    "        x = F.leaky_relu(self.fc2(x), 0.2)\n",
    "        x = F.leaky_relu(self.fc3(x), 0.2)\n",
    "        x = torch.sigmoid(self.fc4(x))\n",
    "        \n",
    "        return x"
   ]
  },
  {
   "cell_type": "code",
   "execution_count": 10,
   "metadata": {},
   "outputs": [
    {
     "name": "stderr",
     "output_type": "stream",
     "text": [
      "/home/student001/anaconda3/lib/python3.9/site-packages/torchvision/datasets/mnist.py:75: UserWarning: train_data has been renamed data\n",
      "  warnings.warn(\"train_data has been renamed data\")\n"
     ]
    }
   ],
   "source": [
    "# build network\n",
    "mnist_dim = train_dataset.train_data.size(1) * train_dataset.train_data.size(2)\n",
    "\n",
    "G = Generator(g_input_dim=z_dim, g_output_dim=mnist_dim).to(device)\n",
    "D = Discriminator(mnist_dim).to(device)"
   ]
  },
  {
   "cell_type": "code",
   "execution_count": 11,
   "metadata": {},
   "outputs": [
    {
     "name": "stdout",
     "output_type": "stream",
     "text": [
      "Generator(\n",
      "  (fc1): Linear(in_features=100, out_features=256, bias=True)\n",
      "  (fc2): Linear(in_features=256, out_features=512, bias=True)\n",
      "  (fc3): Linear(in_features=512, out_features=1024, bias=True)\n",
      "  (fc4): Linear(in_features=1024, out_features=784, bias=True)\n",
      ")\n",
      "Discriminator(\n",
      "  (fc1): Linear(in_features=784, out_features=1024, bias=True)\n",
      "  (fc2): Linear(in_features=1024, out_features=512, bias=True)\n",
      "  (fc3): Linear(in_features=512, out_features=256, bias=True)\n",
      "  (fc4): Linear(in_features=256, out_features=1, bias=True)\n",
      ")\n"
     ]
    }
   ],
   "source": [
    "print(G)\n",
    "print(D)"
   ]
  },
  {
   "cell_type": "code",
   "execution_count": 12,
   "metadata": {},
   "outputs": [],
   "source": [
    "# loss\n",
    "loss_fn = nn.BCELoss() \n",
    "\n",
    "# optimizer\n",
    "G_optimizer = torch.optim.Adam(G.parameters(), lr = lr)\n",
    "D_optimizer = torch.optim.Adam(D.parameters(), lr = lr)"
   ]
  },
  {
   "cell_type": "code",
   "execution_count": 13,
   "metadata": {},
   "outputs": [],
   "source": [
    "def D_train(x, G, D, mnist_dim, batch_size, z_dim, device):\n",
    "    #=======================Train the discriminator=======================#\n",
    "    D.zero_grad()\n",
    "\n",
    "    # train discriminator on real\n",
    "    x_real, y_real = x.view(-1, mnist_dim), torch.ones(batch_size, 1)\n",
    "    x_real, y_real = Variable(x_real.to(device)), Variable(y_real.to(device))\n",
    "\n",
    "    D_output = D(x_real)\n",
    "    D_real_loss = loss_fn(D_output, y_real)\n",
    "\n",
    "    # train discriminator on fake\n",
    "    z = Variable(torch.randn(batch_size, z_dim).to(device))\n",
    "    x_fake, y_fake = G(z), Variable(torch.zeros(batch_size, 1).to(device))\n",
    "\n",
    "    D_output = D(x_fake)\n",
    "    D_fake_loss = loss_fn(D_output, y_fake)\n",
    "\n",
    "    # gradient backprop & optimize ONLY D's parameters\n",
    "    D_loss = D_real_loss + D_fake_loss\n",
    "    D_loss.backward()\n",
    "    D_optimizer.step()\n",
    "        \n",
    "    return  D_loss.data.item(), G, D\n",
    "\n",
    "\n",
    "def G_train(G, D, batch_size, z_dim, device):\n",
    "    #=======================Train the generator=======================#\n",
    "    ################################################################################\n",
    "    # TODO (30 points):                                                                        \n",
    "    G.zero_grad()\n",
    "\n",
    "    # Generate fake data using random noise z\n",
    "    z = Variable(torch.randn(batch_size, z_dim).to(device))\n",
    "    x_fake = G(z)\n",
    "\n",
    "    # Create labels as real for fake data (to fool the discriminator)\n",
    "    y_fake = Variable(torch.ones(batch_size, 1).to(device))\n",
    "\n",
    "    # Get the discriminator's predictions for the fake data\n",
    "    D_output = D(x_fake)\n",
    "\n",
    "    # Calculate the generator's loss (fake data should be classified as real)\n",
    "    G_loss = loss_fn(D_output, y_fake)\n",
    "\n",
    "    # Backpropagate the loss and update the generator's weights\n",
    "    G_loss.backward()\n",
    "    G_optimizer.step()\n",
    "\n",
    "    return G_loss.data.item(), G, D\n",
    "    # finish the procedure of training the generator                               #\n",
    "    ################################################################################"
   ]
  },
  {
   "cell_type": "code",
   "execution_count": 14,
   "metadata": {
    "scrolled": true
   },
   "outputs": [
    {
     "name": "stdout",
     "output_type": "stream",
     "text": [
      "[1/100]: loss_d: 0.772, loss_g: 2.559\n",
      "[2/100]: loss_d: 1.188, loss_g: 2.141\n",
      "[3/100]: loss_d: 1.188, loss_g: 1.211\n",
      "[4/100]: loss_d: 1.075, loss_g: 2.137\n",
      "[5/100]: loss_d: 0.660, loss_g: 2.421\n",
      "[6/100]: loss_d: 0.454, loss_g: 3.826\n",
      "[7/100]: loss_d: 0.285, loss_g: 4.216\n",
      "[8/100]: loss_d: 0.374, loss_g: 4.415\n",
      "[9/100]: loss_d: 0.300, loss_g: 4.869\n",
      "[10/100]: loss_d: 0.412, loss_g: 3.859\n",
      "[11/100]: loss_d: 0.335, loss_g: 4.273\n",
      "[12/100]: loss_d: 0.330, loss_g: 4.188\n",
      "[13/100]: loss_d: 0.278, loss_g: 4.449\n",
      "[14/100]: loss_d: 0.362, loss_g: 4.509\n",
      "[15/100]: loss_d: 0.339, loss_g: 4.454\n",
      "[16/100]: loss_d: 0.217, loss_g: 4.429\n",
      "[17/100]: loss_d: 0.276, loss_g: 4.600\n",
      "[18/100]: loss_d: 0.258, loss_g: 4.341\n",
      "[19/100]: loss_d: 0.261, loss_g: 4.533\n",
      "[20/100]: loss_d: 0.227, loss_g: 4.762\n",
      "[21/100]: loss_d: 0.254, loss_g: 4.911\n",
      "[22/100]: loss_d: 0.205, loss_g: 4.707\n",
      "[23/100]: loss_d: 0.229, loss_g: 4.804\n",
      "[24/100]: loss_d: 0.267, loss_g: 4.493\n",
      "[25/100]: loss_d: 0.273, loss_g: 4.148\n",
      "[26/100]: loss_d: 0.306, loss_g: 4.201\n",
      "[27/100]: loss_d: 0.321, loss_g: 3.921\n",
      "[28/100]: loss_d: 0.354, loss_g: 4.086\n",
      "[29/100]: loss_d: 0.407, loss_g: 3.545\n",
      "[30/100]: loss_d: 0.411, loss_g: 3.537\n",
      "[31/100]: loss_d: 0.397, loss_g: 3.741\n",
      "[32/100]: loss_d: 0.402, loss_g: 3.576\n",
      "[33/100]: loss_d: 0.398, loss_g: 3.440\n",
      "[34/100]: loss_d: 0.425, loss_g: 3.451\n",
      "[35/100]: loss_d: 0.426, loss_g: 3.293\n",
      "[36/100]: loss_d: 0.440, loss_g: 3.276\n",
      "[37/100]: loss_d: 0.440, loss_g: 3.079\n",
      "[38/100]: loss_d: 0.453, loss_g: 3.313\n",
      "[39/100]: loss_d: 0.463, loss_g: 3.205\n",
      "[40/100]: loss_d: 0.483, loss_g: 3.175\n",
      "[41/100]: loss_d: 0.496, loss_g: 2.934\n",
      "[42/100]: loss_d: 0.511, loss_g: 2.812\n",
      "[43/100]: loss_d: 0.555, loss_g: 2.731\n",
      "[44/100]: loss_d: 0.562, loss_g: 2.664\n",
      "[45/100]: loss_d: 0.570, loss_g: 2.611\n",
      "[46/100]: loss_d: 0.595, loss_g: 2.518\n",
      "[47/100]: loss_d: 0.587, loss_g: 2.535\n",
      "[48/100]: loss_d: 0.579, loss_g: 2.592\n",
      "[49/100]: loss_d: 0.600, loss_g: 2.535\n",
      "[50/100]: loss_d: 0.592, loss_g: 2.522\n",
      "[51/100]: loss_d: 0.620, loss_g: 2.357\n",
      "[52/100]: loss_d: 0.644, loss_g: 2.276\n",
      "[53/100]: loss_d: 0.669, loss_g: 2.273\n",
      "[54/100]: loss_d: 0.658, loss_g: 2.261\n",
      "[55/100]: loss_d: 0.654, loss_g: 2.261\n",
      "[56/100]: loss_d: 0.651, loss_g: 2.259\n",
      "[57/100]: loss_d: 0.659, loss_g: 2.201\n",
      "[58/100]: loss_d: 0.678, loss_g: 2.178\n",
      "[59/100]: loss_d: 0.676, loss_g: 2.183\n",
      "[60/100]: loss_d: 0.697, loss_g: 2.160\n",
      "[61/100]: loss_d: 0.705, loss_g: 2.144\n",
      "[62/100]: loss_d: 0.703, loss_g: 2.092\n",
      "[63/100]: loss_d: 0.702, loss_g: 2.105\n",
      "[64/100]: loss_d: 0.717, loss_g: 2.066\n",
      "[65/100]: loss_d: 0.727, loss_g: 2.039\n",
      "[66/100]: loss_d: 0.732, loss_g: 2.016\n",
      "[67/100]: loss_d: 0.733, loss_g: 2.023\n",
      "[68/100]: loss_d: 0.749, loss_g: 1.994\n",
      "[69/100]: loss_d: 0.747, loss_g: 1.954\n",
      "[70/100]: loss_d: 0.758, loss_g: 1.954\n",
      "[71/100]: loss_d: 0.748, loss_g: 1.975\n",
      "[72/100]: loss_d: 0.754, loss_g: 1.951\n",
      "[73/100]: loss_d: 0.776, loss_g: 1.881\n",
      "[74/100]: loss_d: 0.769, loss_g: 1.908\n",
      "[75/100]: loss_d: 0.764, loss_g: 1.941\n",
      "[76/100]: loss_d: 0.790, loss_g: 1.846\n",
      "[77/100]: loss_d: 0.774, loss_g: 1.904\n",
      "[78/100]: loss_d: 0.774, loss_g: 1.915\n",
      "[79/100]: loss_d: 0.779, loss_g: 1.875\n",
      "[80/100]: loss_d: 0.795, loss_g: 1.850\n",
      "[81/100]: loss_d: 0.797, loss_g: 1.863\n",
      "[82/100]: loss_d: 0.791, loss_g: 1.856\n",
      "[83/100]: loss_d: 0.789, loss_g: 1.847\n",
      "[84/100]: loss_d: 0.792, loss_g: 1.865\n",
      "[85/100]: loss_d: 0.790, loss_g: 1.850\n",
      "[86/100]: loss_d: 0.789, loss_g: 1.830\n",
      "[87/100]: loss_d: 0.795, loss_g: 1.839\n",
      "[88/100]: loss_d: 0.788, loss_g: 1.878\n",
      "[89/100]: loss_d: 0.794, loss_g: 1.843\n",
      "[90/100]: loss_d: 0.788, loss_g: 1.869\n",
      "[91/100]: loss_d: 0.798, loss_g: 1.829\n",
      "[92/100]: loss_d: 0.799, loss_g: 1.856\n",
      "[93/100]: loss_d: 0.804, loss_g: 1.796\n",
      "[94/100]: loss_d: 0.808, loss_g: 1.807\n",
      "[95/100]: loss_d: 0.814, loss_g: 1.801\n",
      "[96/100]: loss_d: 0.810, loss_g: 1.786\n",
      "[97/100]: loss_d: 0.809, loss_g: 1.807\n",
      "[98/100]: loss_d: 0.818, loss_g: 1.800\n",
      "[99/100]: loss_d: 0.820, loss_g: 1.768\n",
      "[100/100]: loss_d: 0.808, loss_g: 1.811\n"
     ]
    }
   ],
   "source": [
    "D_losses_record, G_losses_record = [], [] # to plot loss\n",
    "\n",
    "n_epoch = 100\n",
    "for epoch in range(1, n_epoch+1):           \n",
    "    D_losses, G_losses = [], []\n",
    "    for batch_idx, (x, _) in enumerate(train_loader):\n",
    "        D_loss, G, D = D_train(x, G, D, mnist_dim, batch_size, z_dim, device)\n",
    "        G_loss, G, D = G_train(G, D, batch_size, z_dim, device)\n",
    "        D_losses.append(D_loss)\n",
    "        G_losses.append(G_loss)\n",
    "\n",
    "    D_losses_record.append(torch.tensor(D_losses).mean().item())\n",
    "    G_losses_record.append(torch.tensor(G_losses).mean().item())\n",
    "    print(\n",
    "        f'[{epoch}/{n_epoch}]: '\n",
    "        f'loss_d: {torch.tensor(D_losses).mean():.3f}, '\n",
    "        f'loss_g: {torch.tensor(G_losses).mean():.3f}'\n",
    "    )"
   ]
  },
  {
   "cell_type": "code",
   "execution_count": 15,
   "metadata": {},
   "outputs": [
    {
     "data": {
      "image/png": "[encoded data removed]",
      "text/plain": [
       "<Figure size 1000x500 with 1 Axes>"
      ]
     },
     "metadata": {},
     "output_type": "display_data"
    }
   ],
   "source": [
    "################################################################################\n",
    "# TODO (10 points):                                                                        #\n",
    "# you need to plot the training loss of generator and discriminator            #\n",
    "# you may need to modify the training code to record the corresponding loss    #\n",
    "plt.figure(figsize=(10, 5))\n",
    "plt.title(\"Generator and Discriminator Loss During Training\")\n",
    "plt.plot(G_losses_record, label=\"G\")\n",
    "plt.plot(D_losses_record, label=\"D\")\n",
    "plt.xlabel(\"Epochs\")\n",
    "plt.ylabel(\"Loss\")\n",
    "plt.legend()\n",
    "plt.show()\n",
    "################################################################################"
   ]
  },
  {
   "cell_type": "code",
   "execution_count": 23,
   "metadata": {},
   "outputs": [
    {
     "data": {
      "image/png": "[encoded data removed]",
      "text/plain": [
       "<Figure size 640x480 with 1 Axes>"
      ]
     },
     "metadata": {},
     "output_type": "display_data"
    }
   ],
   "source": [
    "################################################################################\n",
    "# TODO (10 points):                                                                        #\n",
    "# you need to generate an image with the trained generator                     #\n",
    "# a sample result is given as follows                                      #\n",
    "def generate_image(generator, z_dim, device):\n",
    "    # 生成随机噪声\n",
    "    z = Variable(torch.randn(1, z_dim).to(device))\n",
    "\n",
    "    # 生成图像\n",
    "    generator.eval()  # 将生成器设置为评估模式\n",
    "    with torch.no_grad():\n",
    "        fake_image = generator(z).to('cpu').view(28, 28)\n",
    "    \n",
    "    # 将生成的图像转换为可视化的格式\n",
    "    fake_image = fake_image.detach().numpy()\n",
    "    plt.imshow(fake_image, interpolation='nearest', cmap='gray')\n",
    "    plt.show()\n",
    "\n",
    "# 使用训练好的生成器生成一张图像\n",
    "generate_image(G, z_dim, device)\n",
    "################################################################################\n"
   ]
  }
 ],
 "metadata": {
  "kernelspec": {
   "display_name": "Python 3",
   "language": "python",
   "name": "python3"
  },
  "language_info": {
   "codemirror_mode": {
    "name": "ipython",
    "version": 3
   },
   "file_extension": ".py",
   "mimetype": "text/x-python",
   "name": "python",
   "nbconvert_exporter": "python",
   "pygments_lexer": "ipython3",
   "version": "3.9.13"
  }
 },
 "nbformat": 4,
 "nbformat_minor": 2
}
