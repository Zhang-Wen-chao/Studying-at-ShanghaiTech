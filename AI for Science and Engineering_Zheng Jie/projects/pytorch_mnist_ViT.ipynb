{
 "cells": [
  {
   "cell_type": "markdown",
   "metadata": {
    "id": "RKJZF7NrjyBP"
   },
   "source": [
    "# PyTorch Tutorial 1: vision Transformer (viT)"
   ]
  },
  {
   "cell_type": "markdown",
   "metadata": {},
   "source": [
    "### 1. prerequisite\n",
    "\n",
    "**Note**\n",
    "1. `eniops` is a powerful pylib used for tensor operations in deep learning. If you have questions about its usage, please read the [official documentation](https://einops.rocks/)"
   ]
  },
  {
   "cell_type": "code",
   "execution_count": 16,
   "metadata": {
    "ExecuteTime": {
     "end_time": "2023-10-31T01:14:44.185375224Z",
     "start_time": "2023-10-31T01:14:43.678784757Z"
    },
    "id": "pN2efcHIZwxv"
   },
   "outputs": [],
   "source": [
    "# import some necessary packages\n",
    "import os\n",
    "import numpy as np\n",
    "import torch\n",
    "import torch.nn.functional as F\n",
    "\n",
    "from einops import rearrange, repeat\n",
    "from einops.layers.torch import Rearrange\n",
    "from torch import nn\n",
    "from torch.nn import CrossEntropyLoss\n",
    "from torch.optim import SGD\n",
    "from torch.utils.data import DataLoader\n",
    "from torchvision.datasets import mnist\n",
    "from torchvision.transforms import ToTensor"
   ]
  },
  {
   "cell_type": "code",
   "execution_count": 17,
   "metadata": {},
   "outputs": [
    {
     "name": "stdout",
     "output_type": "stream",
     "text": [
      "Current device: cuda\n"
     ]
    }
   ],
   "source": [
    "device = 'cuda' if torch.cuda.is_available() else 'cpu'\n",
    "print(f'Current device: {device}')"
   ]
  },
  {
   "cell_type": "code",
   "execution_count": 18,
   "metadata": {},
   "outputs": [],
   "source": [
    "def pair(t):\n",
    "    return t if isinstance(t, tuple) else (t, t)"
   ]
  },
  {
   "cell_type": "markdown",
   "metadata": {},
   "source": [
    "### 2. Multi-Head Self-Attention (MHSA)"
   ]
  },
  {
   "cell_type": "code",
   "execution_count": 19,
   "metadata": {},
   "outputs": [],
   "source": [
    "class Attention(nn.Module):\n",
    "    def __init__(\n",
    "        self, \n",
    "        dim, \n",
    "        heads = 8, \n",
    "        dim_head = 64, \n",
    "        dropout = 0.0\n",
    "    ):\n",
    "        super().__init__()\n",
    "        inner_dim = dim_head *  heads\n",
    "        # ensure that\n",
    "        # 1. there are more than 1 head in MHSA\n",
    "        # 2. the value of `dim` is not being changed after MHSA\n",
    "        assert isinstance(heads, int), \"The type of heads should be `int`\"\n",
    "        assert heads > 1, \"The number of heads should be larger than 1\"\n",
    "        assert dim_head != dim, \"The value of `dim` (input) can not be equal to `dim_head` (output)\"\n",
    "\n",
    "        self.heads = heads\n",
    "        self.scale = dim_head ** -0.5\n",
    "\n",
    "        self.norm = nn.LayerNorm(dim)\n",
    "        self.dropout = nn.Dropout(dropout)\n",
    "        self.to_qkv = nn.Linear(dim, inner_dim * 3, bias=False)\n",
    "        self.to_out = nn.Sequential(\n",
    "            nn.Linear(inner_dim, dim),\n",
    "            nn.Dropout(dropout)\n",
    "        )\n",
    "\n",
    "    def forward(self, x):\n",
    "        # pre-norm\n",
    "        x = self.norm(x)\n",
    "        \n",
    "        qkv = self.to_qkv(x)\n",
    "        # Notes:\n",
    "        # 1. we do not initialize three `nn.Linear` instances for W_q, W_k and W_v.\n",
    "        # 2. you can read the PyTorch documentation to learn more details about `torch.chunk()`. \n",
    "        qkv = qkv.chunk(3, dim=-1)\n",
    "        q, k, v = map(lambda t: rearrange(t, 'b n (h d) -> b h n d', h=self.heads), qkv)\n",
    "        \n",
    "        attn_scores = torch.matmul(q, k.transpose(-1, -2)) * self.scale\n",
    "        attn = F.softmax(attn_scores, dim=-1)\n",
    "        attn = self.dropout(attn)\n",
    "        out = torch.matmul(attn, v)\n",
    "        out = rearrange(out, 'b h n d -> b n (h d)')\n",
    "        \n",
    "        return self.to_out(out)\n"
   ]
  },
  {
   "cell_type": "markdown",
   "metadata": {},
   "source": [
    "### 2. Feed Forward Network (FFN)"
   ]
  },
  {
   "cell_type": "code",
   "execution_count": 20,
   "metadata": {},
   "outputs": [],
   "source": [
    "class FFN(nn.Module):\n",
    "    def __init__(self, dim, hidden_dim, dropout = 0.0):\n",
    "        super().__init__()\n",
    "        \n",
    "        self.mlp = nn.Sequential(\n",
    "            nn.LayerNorm(dim),\n",
    "            nn.Linear(dim, hidden_dim),\n",
    "            nn.GELU(),\n",
    "            nn.Dropout(dropout),\n",
    "            nn.Linear(hidden_dim, dim),\n",
    "            nn.Dropout(dropout)\n",
    "        )\n",
    "\n",
    "    def forward(self, x):\n",
    "        return self.mlp(x)"
   ]
  },
  {
   "cell_type": "markdown",
   "metadata": {},
   "source": [
    "### 3. Transformer Encoder"
   ]
  },
  {
   "cell_type": "code",
   "execution_count": 21,
   "metadata": {},
   "outputs": [],
   "source": [
    "class Transformer(nn.Module):\n",
    "    def __init__(self, dim, depth, heads, dim_head, mlp_dim, dropout=0.0):\n",
    "        super().__init__()\n",
    "        \n",
    "        self.norm = nn.LayerNorm(dim)\n",
    "        self.layers = nn.ModuleList([])\n",
    "        for _ in range(depth):\n",
    "            self.layers.append(nn.ModuleList([\n",
    "                Attention(dim=dim, heads=heads, dim_head=dim_head, dropout=dropout),\n",
    "                FFN(dim=dim, hidden_dim=mlp_dim, dropout=dropout)\n",
    "            ]))\n",
    "\n",
    "    def forward(self, x):\n",
    "        for mha, ffn in self.layers:\n",
    "            x = mha(x) + x\n",
    "            x = ffn(x) + x\n",
    "\n",
    "        return x"
   ]
  },
  {
   "cell_type": "markdown",
   "metadata": {},
   "source": [
    "### 4. viT"
   ]
  },
  {
   "cell_type": "code",
   "execution_count": 22,
   "metadata": {
    "id": "QWAev7I-Zwx2"
   },
   "outputs": [],
   "source": [
    "class ViT(nn.Module):\n",
    "    def __init__(\n",
    "        self, \n",
    "        image_size, \n",
    "        patch_size, \n",
    "        num_classes, \n",
    "        dim, \n",
    "        depth, \n",
    "        heads, \n",
    "        mlp_dim, \n",
    "        channels = 3, \n",
    "        dim_head = 64, \n",
    "        dropout = 0.0, \n",
    "        emb_dropout = 0.0\n",
    "    ):\n",
    "        super().__init__()\n",
    "        \n",
    "        image_height, image_width = pair(image_size)\n",
    "        patch_height, patch_width = pair(patch_size)\n",
    "\n",
    "        assert image_height % patch_height == 0 and image_width % patch_width == 0, \\\n",
    "            'Image dimensions must be divisible by the patch size.'\n",
    "\n",
    "        num_patches = (image_height // patch_height) * (image_width // patch_width)\n",
    "        patch_dim = channels * patch_height * patch_width\n",
    "\n",
    "        self.to_patch_embedding = nn.Sequential(\n",
    "            Rearrange('b c (h p1) (w p2) -> b (h w) (p1 p2 c)', p1=patch_height, p2=patch_width),\n",
    "            nn.LayerNorm(patch_dim),\n",
    "            nn.Linear(patch_dim, dim),\n",
    "            nn.LayerNorm(dim),\n",
    "        )\n",
    "\n",
    "        self.pos_embedding = nn.Parameter(torch.randn(1, num_patches + 1, dim))\n",
    "        self.cls_token = nn.Parameter(torch.randn(1, 1, dim))\n",
    "        self.dropout = nn.Dropout(emb_dropout)\n",
    "        self.transformer = Transformer(dim, depth, heads, dim_head, mlp_dim, dropout)\n",
    "        self.mlp_head = nn.Linear(dim, num_classes)\n",
    "\n",
    "    def forward(self, img):\n",
    "# Patch embedding\n",
    "        x = self.to_patch_embedding(img)\n",
    "\n",
    "# Position embedding\n",
    "        B, N, _ = x.shape\n",
    "        cls_tokens = self.cls_token.expand(B, -1, -1)\n",
    "        x = torch.cat((cls_tokens, x), dim=1)\n",
    "        x += self.pos_embedding[:, :(N + 1)] # Adding the position embedding\n",
    "        x = self.dropout(x)\n",
    "\n",
    "        # Transformer encoder\n",
    "        x = self.transformer(x)\n",
    "\n",
    "        # We only use the `cls` token for classification\n",
    "        cls_token = x[:, 0]\n",
    "        logits = self.mlp_head(cls_token)\n",
    "\n",
    "        return logits\n",
    "\n",
    "\n",
    "        # position embedding\n",
    "\n",
    "\n",
    "\n",
    "        # transformer encoder\n",
    "\n",
    "        # we only use the `cls` token\n",
    "\n",
    "\n"
   ]
  },
  {
   "cell_type": "markdown",
   "metadata": {},
   "source": [
    "### 5. Model Initialization"
   ]
  },
  {
   "cell_type": "code",
   "execution_count": 23,
   "metadata": {
    "colab": {
     "base_uri": "https://localhost:8080/"
    },
    "id": "76_DszhKZwx4",
    "outputId": "158bf8c5-1d03-44cc-b2fd-07151c2732f2"
   },
   "outputs": [],
   "source": [
    "# define ViT model\n",
    "model = ViT(\n",
    "    image_size = 28,\n",
    "    patch_size = 4,\n",
    "    num_classes = 10,\n",
    "    dim = 128,\n",
    "    depth = 3,\n",
    "    heads = 4,\n",
    "    channels = 1,\n",
    "    mlp_dim = 256,\n",
    "    dropout = 0.1,\n",
    "    emb_dropout = 0.1\n",
    ").to(device)"
   ]
  },
  {
   "cell_type": "code",
   "execution_count": 24,
   "metadata": {},
   "outputs": [],
   "source": [
    "# you can try to adjust the following hyperparameters,\n",
    "# and find the performance change\n",
    "lr = 5e-2\n",
    "all_epoch = 10\n",
    "batch_size = 256"
   ]
  },
  {
   "cell_type": "markdown",
   "metadata": {},
   "source": [
    "### 6. Data Pipeline"
   ]
  },
  {
   "cell_type": "code",
   "execution_count": 25,
   "metadata": {},
   "outputs": [],
   "source": [
    "# data pipeline\n",
    "train_dataset = mnist.MNIST(\n",
    "    root='./mnist_data',\n",
    "    download=True,\n",
    "    train=True,\n",
    "    transform=ToTensor()\n",
    ")\n",
    "test_dataset = mnist.MNIST(\n",
    "    root='./mnist_data',\n",
    "    download=False,\n",
    "    train=False,\n",
    "    transform=ToTensor()\n",
    ")\n",
    "train_loader = DataLoader(train_dataset, batch_size=batch_size)\n",
    "test_loader = DataLoader(test_dataset, batch_size=batch_size)"
   ]
  },
  {
   "cell_type": "markdown",
   "metadata": {},
   "source": [
    "### 7. Training & Evaluation"
   ]
  },
  {
   "cell_type": "code",
   "execution_count": 26,
   "metadata": {},
   "outputs": [],
   "source": [
    "# optimizer\n",
    "optimizer = SGD(model.parameters(), lr=lr)"
   ]
  },
  {
   "cell_type": "code",
   "execution_count": 27,
   "metadata": {},
   "outputs": [],
   "source": [
    "# loss function\n",
    "loss_fn = CrossEntropyLoss()"
   ]
  },
  {
   "cell_type": "code",
   "execution_count": 28,
   "metadata": {
    "colab": {
     "base_uri": "https://localhost:8080/",
     "height": 672
    },
    "id": "X_Q2jYszZwx6",
    "outputId": "1d879c2e-95bd-4e0c-fe34-e3036d93b18f"
   },
   "outputs": [
    {
     "name": "stdout",
     "output_type": "stream",
     "text": [
      "Epoch [1/10], accuracy: 0.449\n",
      "Epoch [2/10], accuracy: 0.813\n",
      "Epoch [3/10], accuracy: 0.869\n",
      "Epoch [4/10], accuracy: 0.894\n",
      "Epoch [5/10], accuracy: 0.902\n",
      "Epoch [6/10], accuracy: 0.916\n",
      "Epoch [7/10], accuracy: 0.932\n",
      "Epoch [8/10], accuracy: 0.943\n",
      "Epoch [9/10], accuracy: 0.947\n",
      "Epoch [10/10], accuracy: 0.953\n",
      "Training finished!\n"
     ]
    }
   ],
   "source": [
    "losses = []\n",
    "\n",
    "for current_epoch in range(all_epoch):\n",
    "    # training\n",
    "    model.train()\n",
    "    for idx, (train_x, train_label) in enumerate(train_loader):\n",
    "        train_x = train_x.to(device)\n",
    "        train_label = train_label.to(device)\n",
    "\n",
    "        predict_y = model(train_x.float())\n",
    "        loss = loss_fn(predict_y, train_label.long())\n",
    "        # clear the gradient\n",
    "        optimizer.zero_grad()\n",
    "        # back prop\n",
    "        loss.backward()\n",
    "        # update model params\n",
    "        optimizer.step()\n",
    "\n",
    "        if (idx + 1) % 25 == 0:\n",
    "            losses.append(loss.item())\n",
    "\n",
    "    # evaluation\n",
    "    model.eval()\n",
    "    \n",
    "    all_correct_num = 0\n",
    "    all_sample_num = 0\n",
    "    \n",
    "    for idx, (test_x, test_label) in enumerate(test_loader):\n",
    "        test_x = test_x.to(device)\n",
    "        test_label = test_label.to(device)\n",
    "\n",
    "        predict_y = model(test_x.float()).detach()\n",
    "        predict_y =torch.argmax(predict_y, dim=-1)\n",
    "\n",
    "        current_correct_num = (predict_y == test_label)\n",
    "        all_correct_num += np.sum(current_correct_num.to('cpu').numpy(), axis=-1)\n",
    "        all_sample_num += current_correct_num.shape[0]\n",
    "    acc = all_correct_num / all_sample_num\n",
    "\n",
    "    print(f'Epoch [{current_epoch+1}/{all_epoch}], accuracy: {acc:.3f}')\n",
    "\n",
    "    if not os.path.isdir('models'):\n",
    "        os.mkdir('models')\n",
    "    torch.save(model, f'models/mnist_{acc:.3f}.pt')\n",
    "\n",
    "print('Training finished!')"
   ]
  },
  {
   "cell_type": "code",
   "execution_count": 29,
   "metadata": {
    "id": "mg_IrRDkZwx-"
   },
   "outputs": [
    {
     "data": {
      "image/png": "[encoded data removed]",
      "text/plain": [
       "<Figure size 600x500 with 1 Axes>"
      ]
     },
     "metadata": {},
     "output_type": "display_data"
    }
   ],
   "source": [
    "# loss curve visualization\n",
    "import matplotlib.pyplot as plt\n",
    "\n",
    "plt.figure(figsize=(6, 5))\n",
    "plt.plot(losses)\n",
    "plt.xlabel(\"Checkpoints\")\n",
    "plt.ylabel(\"Loss\")\n",
    "plt.title(\"Training loss curve\")\n",
    "plt.show()"
   ]
  },
  {
   "cell_type": "code",
   "execution_count": null,
   "metadata": {
    "id": "DJXgav9KZwx_"
   },
   "outputs": [],
   "source": []
  },
  {
   "cell_type": "code",
   "execution_count": null,
   "metadata": {},
   "outputs": [],
   "source": []
  }
 ],
 "metadata": {
  "accelerator": "GPU",
  "colab": {
   "gpuType": "T4",
   "provenance": [],
   "toc_visible": true
  },
  "kernelspec": {
   "display_name": "Python 3 (ipykernel)",
   "language": "python",
   "name": "python3"
  },
  "language_info": {
   "codemirror_mode": {
    "name": "ipython",
    "version": 3
   },
   "file_extension": ".py",
   "mimetype": "text/x-python",
   "name": "python",
   "nbconvert_exporter": "python",
   "pygments_lexer": "ipython3",
   "version": "3.9.13"
  }
 },
 "nbformat": 4,
 "nbformat_minor": 4
}
